{
 "cells": [
  {
   "cell_type": "code",
   "execution_count": null,
   "id": "4c836e00",
   "metadata": {},
   "outputs": [],
   "source": [
    "import numpy as np\n",
    "import pandas as pd"
   ]
  },
  {
   "cell_type": "code",
   "execution_count": null,
   "id": "669db088",
   "metadata": {},
   "outputs": [],
   "source": [
    "data=pd.read_excel('People Charm_data.xlsx', sheet_name=2)"
   ]
  },
  {
   "cell_type": "code",
   "execution_count": null,
   "id": "c388525e",
   "metadata": {},
   "outputs": [],
   "source": [
    "data.head()"
   ]
  },
  {
   "cell_type": "code",
   "execution_count": null,
   "id": "672ab569",
   "metadata": {},
   "outputs": [],
   "source": [
    "data.shape"
   ]
  },
  {
   "cell_type": "code",
   "execution_count": null,
   "id": "14107848",
   "metadata": {},
   "outputs": [],
   "source": [
    "data.info()"
   ]
  },
  {
   "cell_type": "code",
   "execution_count": null,
   "id": "93256ead",
   "metadata": {},
   "outputs": [],
   "source": [
    "data['dept'].value_counts()"
   ]
  },
  {
   "cell_type": "code",
   "execution_count": null,
   "id": "9e32f19c",
   "metadata": {},
   "outputs": [],
   "source": [
    "data['salary'].value_counts()"
   ]
  },
  {
   "cell_type": "code",
   "execution_count": null,
   "id": "98ff34b1",
   "metadata": {},
   "outputs": [],
   "source": [
    "data.isnull()"
   ]
  },
  {
   "cell_type": "code",
   "execution_count": null,
   "id": "385026b4",
   "metadata": {},
   "outputs": [],
   "source": [
    "data.isnull().sum()"
   ]
  },
  {
   "cell_type": "code",
   "execution_count": null,
   "id": "f7312638",
   "metadata": {},
   "outputs": [],
   "source": [
    "data['left'].value_counts()"
   ]
  },
  {
   "cell_type": "code",
   "execution_count": null,
   "id": "57983831",
   "metadata": {},
   "outputs": [],
   "source": [
    "data[data['left']==1]"
   ]
  },
  {
   "cell_type": "code",
   "execution_count": null,
   "id": "24a94894",
   "metadata": {},
   "outputs": [],
   "source": []
  },
  {
   "cell_type": "code",
   "execution_count": null,
   "id": "cd35cb98",
   "metadata": {},
   "outputs": [],
   "source": []
  },
  {
   "cell_type": "code",
   "execution_count": null,
   "id": "7bf4a94b",
   "metadata": {},
   "outputs": [],
   "source": [
    "data.columns"
   ]
  },
  {
   "cell_type": "code",
   "execution_count": null,
   "id": "f51d7014",
   "metadata": {},
   "outputs": [],
   "source": []
  },
  {
   "cell_type": "code",
   "execution_count": null,
   "id": "c5d81164",
   "metadata": {},
   "outputs": [],
   "source": [
    "data[data.duplicated()] "
   ]
  },
  {
   "cell_type": "code",
   "execution_count": null,
   "id": "db17e9d6",
   "metadata": {},
   "outputs": [],
   "source": [
    "data"
   ]
  },
  {
   "cell_type": "code",
   "execution_count": null,
   "id": "c3ea0763",
   "metadata": {},
   "outputs": [],
   "source": [
    "data.shape"
   ]
  },
  {
   "cell_type": "code",
   "execution_count": null,
   "id": "5749aa58",
   "metadata": {},
   "outputs": [],
   "source": [
    "data=data.drop_duplicates()"
   ]
  },
  {
   "cell_type": "code",
   "execution_count": null,
   "id": "c6f89b59",
   "metadata": {},
   "outputs": [],
   "source": [
    "data.shape"
   ]
  },
  {
   "cell_type": "code",
   "execution_count": null,
   "id": "8d0a2364",
   "metadata": {},
   "outputs": [],
   "source": [
    "data.corr()"
   ]
  },
  {
   "cell_type": "code",
   "execution_count": null,
   "id": "9625cabf",
   "metadata": {},
   "outputs": [],
   "source": [
    "data.head()"
   ]
  },
  {
   "cell_type": "code",
   "execution_count": null,
   "id": "a8659c1a",
   "metadata": {},
   "outputs": [],
   "source": [
    "a=['dept','numberOfProjects','timeSpent.company','workAccident','promotionInLast5years','salary']\n",
    "a"
   ]
  },
  {
   "cell_type": "code",
   "execution_count": null,
   "id": "b58199e1",
   "metadata": {},
   "outputs": [],
   "source": [
    "import matplotlib.pyplot as plt\n",
    "import seaborn as sns"
   ]
  },
  {
   "cell_type": "code",
   "execution_count": null,
   "id": "d3efd47d",
   "metadata": {},
   "outputs": [],
   "source": [
    "a"
   ]
  },
  {
   "cell_type": "code",
   "execution_count": null,
   "id": "fed1172f",
   "metadata": {},
   "outputs": [],
   "source": [
    "fig=plt.subplots(figsize=(20,15))\n",
    "for p,q in enumerate(a):\n",
    "    plt.subplot(3,2,p+1)\n",
    "    plt.subplots_adjust(hspace=1.0)\n",
    "    sns.countplot(x=q,data=data,hue='left')\n",
    "    plt.xticks(rotation=45)\n",
    "    plt.yticks()"
   ]
  },
  {
   "cell_type": "code",
   "execution_count": null,
   "id": "c274bf3d",
   "metadata": {},
   "outputs": [],
   "source": [
    "data.head()"
   ]
  },
  {
   "cell_type": "code",
   "execution_count": null,
   "id": "68da8365",
   "metadata": {},
   "outputs": [],
   "source": [
    "col=list(data.columns)\n",
    "col"
   ]
  },
  {
   "cell_type": "code",
   "execution_count": null,
   "id": "cb43cb65",
   "metadata": {},
   "outputs": [],
   "source": [
    "for col_name in col:\n",
    "    if(data[col_name].dtypes=='int64' or data[col_name].dtypes=='float64'):\n",
    "        plt.boxplot(data[col_name])\n",
    "        plt.xlabel(col_name)\n",
    "        plt.ylabel('count')\n",
    "        plt.show()"
   ]
  },
  {
   "cell_type": "code",
   "execution_count": null,
   "id": "fc971c6f",
   "metadata": {},
   "outputs": [],
   "source": [
    "# for col_name in col:\n",
    "#     if insurance[col_name].dtypes=='object':\n",
    "#         #print('ob')\n",
    "#         insurance[col_name] = insurance[col_name].fillna(insurance[col_name].mode()[0])\n",
    "#     else:\n",
    "#         #print('num')\n",
    "#         insurance[col_name] = insurance[col_name].fillna(insurance[col_name].mean())\n",
    "# ctrl+/"
   ]
  },
  {
   "cell_type": "code",
   "execution_count": null,
   "id": "3e76a20d",
   "metadata": {},
   "outputs": [],
   "source": []
  },
  {
   "cell_type": "code",
   "execution_count": null,
   "id": "19edb87c",
   "metadata": {},
   "outputs": [],
   "source": [
    "Q1 = data['timeSpent.company'].quantile(0.25)\n",
    "Q3 = data['timeSpent.company'].quantile(0.75)\n",
    "IQR= Q3-Q1\n",
    "print(IQR)"
   ]
  },
  {
   "cell_type": "code",
   "execution_count": null,
   "id": "f766f4cf",
   "metadata": {},
   "outputs": [],
   "source": [
    "print(Q1-1.5*IQR)\n",
    "print(Q3+1.5*IQR)"
   ]
  },
  {
   "cell_type": "code",
   "execution_count": null,
   "id": "e3147a1b",
   "metadata": {},
   "outputs": [],
   "source": [
    "data = data[(data['timeSpent.company'] >= Q1 - 1.5*IQR) & (data['timeSpent.company'] <= Q3 + 1.5*IQR)]"
   ]
  },
  {
   "cell_type": "code",
   "execution_count": null,
   "id": "d587f3cc",
   "metadata": {},
   "outputs": [],
   "source": [
    "for col_name in col:\n",
    "    if(data[col_name].dtypes=='int64' or data[col_name].dtypes=='float64'):\n",
    "        plt.boxplot(data[col_name])\n",
    "        plt.xlabel(col_name)\n",
    "        plt.ylabel('count')\n",
    "        plt.show()"
   ]
  },
  {
   "cell_type": "code",
   "execution_count": null,
   "id": "9c15e2b2",
   "metadata": {},
   "outputs": [],
   "source": [
    "data.shape"
   ]
  },
  {
   "cell_type": "code",
   "execution_count": null,
   "id": "567a4a51",
   "metadata": {},
   "outputs": [],
   "source": []
  }
 ],
 "metadata": {
  "kernelspec": {
   "display_name": "Python 3",
   "language": "python",
   "name": "python3"
  },
  "language_info": {
   "codemirror_mode": {
    "name": "ipython",
    "version": 3
   },
   "file_extension": ".py",
   "mimetype": "text/x-python",
   "name": "python",
   "nbconvert_exporter": "python",
   "pygments_lexer": "ipython3",
   "version": "3.8.8"
  }
 },
 "nbformat": 4,
 "nbformat_minor": 5
}
