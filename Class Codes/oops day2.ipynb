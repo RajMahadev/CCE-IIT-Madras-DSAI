{
 "cells": [
  {
   "cell_type": "code",
   "execution_count": null,
   "id": "0eb7f082",
   "metadata": {},
   "outputs": [],
   "source": [
    "#The 3 main pillars of OOP'S are\n",
    "#Inheritance\n",
    "#encapsulation\n",
    "#Polymorphism"
   ]
  },
  {
   "cell_type": "code",
   "execution_count": null,
   "id": "81972c38",
   "metadata": {},
   "outputs": [],
   "source": [
    "#inheritance\n",
    "#1.single inheritance\n",
    "#2.multiple inheritance\n",
    "#3.Multilevel inheritance\n",
    "#4.Hierarchical"
   ]
  },
  {
   "cell_type": "code",
   "execution_count": 3,
   "id": "9e9d89e0",
   "metadata": {},
   "outputs": [
    {
     "name": "stdout",
     "output_type": "stream",
     "text": [
      "Dog can bark\n",
      "Animals can't speak\n"
     ]
    }
   ],
   "source": [
    "#single inheritance\n",
    "class Animal:#parent class\n",
    "    def speak(self):\n",
    "        print(\"Animals can't speak\")\n",
    "class Dog(Animal):\n",
    "    def bark(self):\n",
    "        print(\"Dog can bark\")\n",
    "obj=Dog()\n",
    "obj.bark()\n",
    "obj.speak()"
   ]
  },
  {
   "cell_type": "code",
   "execution_count": 8,
   "id": "99a7d4b2",
   "metadata": {},
   "outputs": [
    {
     "name": "stdout",
     "output_type": "stream",
     "text": [
      "Hey,this is fun1\n",
      "Hey,this is fun2\n",
      "Hey,this is fun3\n"
     ]
    }
   ],
   "source": [
    "#multiple\n",
    "class abc:\n",
    "    def fun1(self):\n",
    "        print(\"Hey,this is fun1\")\n",
    "class abc1:\n",
    "    def fun2(self):\n",
    "        print(\"Hey,this is fun2\")\n",
    "    def fun1(self):\n",
    "        print(\"Hey,this is fun7\")\n",
    "class abc2():\n",
    "    def fun3(self):\n",
    "        print(\"Hey,this is fun3\")\n",
    "class abc3(abc2,abc1,abc):\n",
    "    def fun4(self):\n",
    "        print(\"Hey,this is fun4\")\n",
    "        \n",
    "obj=Child1()\n",
    "obj.fun1()\n",
    "obj.fun2()\n",
    "obj.fun3()\n",
    "    \n",
    "    "
   ]
  },
  {
   "cell_type": "code",
   "execution_count": 9,
   "id": "a8cbd17a",
   "metadata": {},
   "outputs": [
    {
     "name": "stdout",
     "output_type": "stream",
     "text": [
      "Hey,this is fun1\n",
      "Hey,this is fun2\n",
      "Hey,this is fun3\n",
      "Hey,this is fun4\n"
     ]
    }
   ],
   "source": [
    "#multilevel\n",
    "class Parent:\n",
    "    def fun1(self):\n",
    "        print(\"Hey,this is fun1\")\n",
    "class Parent1(Parent):\n",
    "    def fun2(self):\n",
    "        print(\"Hey,this is fun2\")\n",
    "class Parent2(Parent1):\n",
    "    def fun3(self):\n",
    "        print(\"Hey,this is fun3\")\n",
    "class Parent3(Parent2):\n",
    "    def fun4(self):\n",
    "        print(\"Hey,this is fun4\")\n",
    "obj=Parent3()\n",
    "obj.fun1()\n",
    "obj.fun2()\n",
    "obj.fun3()\n",
    "obj.fun4()"
   ]
  },
  {
   "cell_type": "code",
   "execution_count": 14,
   "id": "c69a3425",
   "metadata": {},
   "outputs": [
    {
     "name": "stdout",
     "output_type": "stream",
     "text": [
      "Hey,this is fun3\n",
      "Hey,this is fun1\n"
     ]
    }
   ],
   "source": [
    "#hierarchical inheritance\n",
    "class Parent:\n",
    "    def fun1(self):\n",
    "        print(\"Hey,this is fun1\")\n",
    "class Parent1(Parent):\n",
    "    def fun2(self):\n",
    "        print(\"Hey,this is fun2\")\n",
    "class Parent2(Parent):\n",
    "    def fun3(self):\n",
    "        print(\"Hey,this is fun3\")\n",
    "class Parent3(Parent):\n",
    "    def fun4(self):\n",
    "        print(\"Hey,this is fun4\")\n",
    "#obj=Parent3()\n",
    "#obj.fun4()\n",
    "#obj.fun1()\n",
    "obj1=Parent2()\n",
    "obj1.fun3()\n",
    "obj1.fun1()\n",
    "#obj.fun3()\n",
    "        "
   ]
  },
  {
   "cell_type": "code",
   "execution_count": null,
   "id": "8f34e4e5",
   "metadata": {},
   "outputs": [],
   "source": [
    "#Encapsulation-wrapping up of data &  method \n",
    "#Note\n",
    "#spicifier\n",
    "#1.Public-self.a\n",
    "#2.private-self.__a\n",
    "#3.Protected-self._a"
   ]
  },
  {
   "cell_type": "code",
   "execution_count": 16,
   "id": "f8d8400d",
   "metadata": {},
   "outputs": [
    {
     "ename": "AttributeError",
     "evalue": "'Employee' object has no attribute '__salary'",
     "output_type": "error",
     "traceback": [
      "\u001b[1;31m---------------------------------------------------------------------------\u001b[0m",
      "\u001b[1;31mAttributeError\u001b[0m                            Traceback (most recent call last)",
      "\u001b[1;32m~\\AppData\\Local\\Temp/ipykernel_13660/642247766.py\u001b[0m in \u001b[0;36m<module>\u001b[1;34m\u001b[0m\n\u001b[0;32m      4\u001b[0m         \u001b[0mself\u001b[0m\u001b[1;33m.\u001b[0m\u001b[0m__salary\u001b[0m\u001b[1;33m=\u001b[0m\u001b[0msalary\u001b[0m\u001b[1;31m#private\u001b[0m\u001b[1;33m\u001b[0m\u001b[1;33m\u001b[0m\u001b[0m\n\u001b[0;32m      5\u001b[0m \u001b[0memp\u001b[0m\u001b[1;33m=\u001b[0m\u001b[0mEmployee\u001b[0m\u001b[1;33m(\u001b[0m\u001b[1;34m\"Himanshu\"\u001b[0m\u001b[1;33m,\u001b[0m\u001b[1;36m50000\u001b[0m\u001b[1;33m)\u001b[0m\u001b[1;33m\u001b[0m\u001b[1;33m\u001b[0m\u001b[0m\n\u001b[1;32m----> 6\u001b[1;33m \u001b[0mprint\u001b[0m\u001b[1;33m(\u001b[0m\u001b[0memp\u001b[0m\u001b[1;33m.\u001b[0m\u001b[0m__salary\u001b[0m\u001b[1;33m)\u001b[0m\u001b[1;33m\u001b[0m\u001b[1;33m\u001b[0m\u001b[0m\n\u001b[0m",
      "\u001b[1;31mAttributeError\u001b[0m: 'Employee' object has no attribute '__salary'"
     ]
    }
   ],
   "source": [
    "class Employee:\n",
    "    def __init__(self,name,salary):\n",
    "        self.name=name#public\n",
    "        self.__salary=salary#private\n",
    "emp=Employee(\"Himanshu\",50000)\n",
    "print(emp.__salary)"
   ]
  },
  {
   "cell_type": "code",
   "execution_count": 19,
   "id": "7b84fe66",
   "metadata": {},
   "outputs": [
    {
     "name": "stdout",
     "output_type": "stream",
     "text": [
      "6\n",
      "12\n",
      "2\n"
     ]
    }
   ],
   "source": [
    "#polymorphism\n",
    "def addition(a=1,b=0,c=1):\n",
    "    return a+b+c\n",
    "print(addition(2,3))\n",
    "print(addition(2,4,6))\n",
    "print(addition(1))"
   ]
  },
  {
   "cell_type": "code",
   "execution_count": 22,
   "id": "2906f5a5",
   "metadata": {},
   "outputs": [
    {
     "name": "stdout",
     "output_type": "stream",
     "text": [
      "New Delhi\n",
      "English\n",
      "Washington ,DC\n",
      "English\n"
     ]
    }
   ],
   "source": [
    "class India():\n",
    "    def capital(self):\n",
    "        print(\"New Delhi\")\n",
    "    def lang(self):\n",
    "        print(\"Hindi\")\n",
    "    def lang(self):\n",
    "        print(\"English\")\n",
    "class Usa():  \n",
    "    def capital(self):\n",
    "        print(\"Washington ,DC\")\n",
    "    def lang(self):\n",
    "        print(\"English\")\n",
    "obj1=India()  \n",
    "obj2=Usa()\n",
    "obj1.capital()\n",
    "obj1.lang()\n",
    "obj2.capital()\n",
    "obj2.lang()\n",
    "        \n"
   ]
  },
  {
   "cell_type": "code",
   "execution_count": 25,
   "id": "b3f98baa",
   "metadata": {},
   "outputs": [
    {
     "ename": "NameError",
     "evalue": "name 'state_name' is not defined",
     "output_type": "error",
     "traceback": [
      "\u001b[1;31m---------------------------------------------------------------------------\u001b[0m",
      "\u001b[1;31mNameError\u001b[0m                                 Traceback (most recent call last)",
      "\u001b[1;32m~\\AppData\\Local\\Temp/ipykernel_13660/3745192273.py\u001b[0m in \u001b[0;36m<module>\u001b[1;34m\u001b[0m\n\u001b[0;32m     13\u001b[0m \u001b[1;33m\u001b[0m\u001b[0m\n\u001b[0;32m     14\u001b[0m \u001b[0mmycountry\u001b[0m\u001b[1;33m=\u001b[0m\u001b[0mIndia\u001b[0m\u001b[1;33m\u001b[0m\u001b[1;33m\u001b[0m\u001b[0m\n\u001b[1;32m---> 15\u001b[1;33m \u001b[0mmycountry\u001b[0m\u001b[1;33m.\u001b[0m\u001b[0mcapital\u001b[0m\u001b[1;33m(\u001b[0m\u001b[1;34m\"TN\"\u001b[0m\u001b[1;33m)\u001b[0m\u001b[1;33m\u001b[0m\u001b[1;33m\u001b[0m\u001b[0m\n\u001b[0m\u001b[0;32m     16\u001b[0m \u001b[1;33m\u001b[0m\u001b[0m\n",
      "\u001b[1;32m~\\AppData\\Local\\Temp/ipykernel_13660/3745192273.py\u001b[0m in \u001b[0;36mcapital\u001b[1;34m(self)\u001b[0m\n\u001b[0;32m      4\u001b[0m \u001b[1;33m\u001b[0m\u001b[0m\n\u001b[0;32m      5\u001b[0m     \u001b[1;32mdef\u001b[0m \u001b[0mcapital\u001b[0m\u001b[1;33m(\u001b[0m\u001b[0mself\u001b[0m\u001b[1;33m)\u001b[0m\u001b[1;33m:\u001b[0m\u001b[1;33m\u001b[0m\u001b[1;33m\u001b[0m\u001b[0m\n\u001b[1;32m----> 6\u001b[1;33m         \u001b[1;32mif\u001b[0m \u001b[0mstate_name\u001b[0m\u001b[1;33m==\u001b[0m\u001b[1;34m\"KN\"\u001b[0m\u001b[1;33m:\u001b[0m\u001b[1;33m\u001b[0m\u001b[1;33m\u001b[0m\u001b[0m\n\u001b[0m\u001b[0;32m      7\u001b[0m             \u001b[0mprint\u001b[0m\u001b[1;33m(\u001b[0m\u001b[1;34m\"Bengaluru\"\u001b[0m\u001b[1;33m)\u001b[0m\u001b[1;33m\u001b[0m\u001b[1;33m\u001b[0m\u001b[0m\n\u001b[0;32m      8\u001b[0m         \u001b[1;32melif\u001b[0m \u001b[0mstate_name\u001b[0m\u001b[1;33m==\u001b[0m\u001b[1;34m\"TN\"\u001b[0m\u001b[1;33m:\u001b[0m\u001b[1;33m\u001b[0m\u001b[1;33m\u001b[0m\u001b[0m\n",
      "\u001b[1;31mNameError\u001b[0m: name 'state_name' is not defined"
     ]
    }
   ],
   "source": [
    "class India:\n",
    "    def capital(self):\n",
    "        print (\"New Delhi\")\n",
    "    \n",
    "    def capital(self):\n",
    "        if state_name==\"KN\":\n",
    "            print(\"Bengaluru\")\n",
    "        elif state_name==\"TN\":\n",
    "            print(\"Chennai\")\n",
    "        else:\n",
    "            print(\"Invalid State\")\n",
    "            \n",
    "            \n",
    "mycountry=India\n",
    "mycountry.capital(\"TN\")\n",
    "\n"
   ]
  },
  {
   "cell_type": "code",
   "execution_count": null,
   "id": "e968f9c1",
   "metadata": {},
   "outputs": [],
   "source": []
  }
 ],
 "metadata": {
  "kernelspec": {
   "display_name": "Python 3 (ipykernel)",
   "language": "python",
   "name": "python3"
  },
  "language_info": {
   "codemirror_mode": {
    "name": "ipython",
    "version": 3
   },
   "file_extension": ".py",
   "mimetype": "text/x-python",
   "name": "python",
   "nbconvert_exporter": "python",
   "pygments_lexer": "ipython3",
   "version": "3.9.7"
  }
 },
 "nbformat": 4,
 "nbformat_minor": 5
}
