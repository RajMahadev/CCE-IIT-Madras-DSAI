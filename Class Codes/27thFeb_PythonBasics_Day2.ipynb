{
  "nbformat": 4,
  "nbformat_minor": 0,
  "metadata": {
    "colab": {
      "name": "27thFeb_PythonBasics_Day2.ipynb",
      "provenance": []
    },
    "kernelspec": {
      "name": "python3",
      "display_name": "Python 3"
    },
    "language_info": {
      "name": "python"
    }
  },
  "cells": [
    {
      "cell_type": "code",
      "execution_count": 1,
      "metadata": {
        "colab": {
          "base_uri": "https://localhost:8080/"
        },
        "id": "9UmVnkznhcVP",
        "outputId": "10bdf12e-7d6d-4d08-c6d1-b07d4dde7018"
      },
      "outputs": [
        {
          "output_type": "stream",
          "name": "stdout",
          "text": [
            "27th Feb Python Basics Day 2\n"
          ]
        }
      ],
      "source": [
        "print(\"27th Feb Python Basics Day 2\")"
      ]
    },
    {
      "cell_type": "code",
      "source": [
        "myname=input('enter your name:')\n",
        "print(\"my name is \",myname)\n"
      ],
      "metadata": {
        "colab": {
          "base_uri": "https://localhost:8080/"
        },
        "id": "ZMamHOQ-kzm0",
        "outputId": "ff35342d-df8a-4279-8b66-62361f7dcbfe"
      },
      "execution_count": 3,
      "outputs": [
        {
          "output_type": "stream",
          "name": "stdout",
          "text": [
            "enter your name:123\n",
            "my name is  123\n"
          ]
        }
      ]
    },
    {
      "cell_type": "code",
      "source": [
        "type(myname)"
      ],
      "metadata": {
        "colab": {
          "base_uri": "https://localhost:8080/"
        },
        "id": "DInGmqZKpImn",
        "outputId": "7de33327-af6b-4610-8a34-32a5218e2a1b"
      },
      "execution_count": 6,
      "outputs": [
        {
          "output_type": "execute_result",
          "data": {
            "text/plain": [
              "int"
            ]
          },
          "metadata": {},
          "execution_count": 6
        }
      ]
    },
    {
      "cell_type": "code",
      "source": [
        "myname = 10"
      ],
      "metadata": {
        "id": "zKQ_ck66p28j"
      },
      "execution_count": 5,
      "outputs": []
    },
    {
      "cell_type": "code",
      "source": [
        "type()"
      ],
      "metadata": {
        "id": "t-nI5csrp_lz"
      },
      "execution_count": null,
      "outputs": []
    },
    {
      "cell_type": "code",
      "source": [
        "#List\n",
        "\n",
        "#Creating an empty list\n",
        "list1 = list()\n",
        "list2 = []"
      ],
      "metadata": {
        "id": "B3IpPEGfqQUD"
      },
      "execution_count": 9,
      "outputs": []
    },
    {
      "cell_type": "code",
      "source": [
        "list1"
      ],
      "metadata": {
        "colab": {
          "base_uri": "https://localhost:8080/"
        },
        "id": "C_-7xEH5qb71",
        "outputId": "1d562eec-14e7-45c8-de40-7b39e831616c"
      },
      "execution_count": 8,
      "outputs": [
        {
          "output_type": "execute_result",
          "data": {
            "text/plain": [
              "[]"
            ]
          },
          "metadata": {},
          "execution_count": 8
        }
      ]
    },
    {
      "cell_type": "code",
      "source": [
        "list2"
      ],
      "metadata": {
        "colab": {
          "base_uri": "https://localhost:8080/"
        },
        "id": "WzNBBDH3qcm5",
        "outputId": "a49212f9-13cf-4233-ffc2-7742b75707d9"
      },
      "execution_count": 10,
      "outputs": [
        {
          "output_type": "execute_result",
          "data": {
            "text/plain": [
              "[]"
            ]
          },
          "metadata": {},
          "execution_count": 10
        }
      ]
    },
    {
      "cell_type": "code",
      "source": [
        "list3 = [1,2,3,4,5,6]"
      ],
      "metadata": {
        "id": "5HRXkWi-qlP2"
      },
      "execution_count": 11,
      "outputs": []
    },
    {
      "cell_type": "code",
      "source": [
        "list3"
      ],
      "metadata": {
        "colab": {
          "base_uri": "https://localhost:8080/"
        },
        "id": "_I3DYTVKqpT2",
        "outputId": "6d6b6cb8-95fe-4d02-9c2c-d24cf33729b5"
      },
      "execution_count": 12,
      "outputs": [
        {
          "output_type": "execute_result",
          "data": {
            "text/plain": [
              "[1, 2, 3, 4, 5, 6]"
            ]
          },
          "metadata": {},
          "execution_count": 12
        }
      ]
    },
    {
      "cell_type": "code",
      "source": [
        "#list you an enter data with Multiple data type\n",
        "#lists are mutable \n",
        "\n",
        "# Mutable: Change or Modify after initialization (Lists)\n",
        "# Immutable: We cannot change or Modify after initialization (Tuple)\n"
      ],
      "metadata": {
        "id": "Zrh1xu1_qqMb"
      },
      "execution_count": null,
      "outputs": []
    },
    {
      "cell_type": "code",
      "source": [
        "#list with Multiple data types\n",
        "list4 = [1,2,3,\"Python\",\"Java\",True,False,10.5,11.5]"
      ],
      "metadata": {
        "id": "_FOwfTnEq2Pv"
      },
      "execution_count": 14,
      "outputs": []
    },
    {
      "cell_type": "code",
      "source": [
        "list4"
      ],
      "metadata": {
        "colab": {
          "base_uri": "https://localhost:8080/"
        },
        "id": "GMqKh-Htq4Kj",
        "outputId": "79991bc3-915a-40d7-ef4e-7e687b8e1c26"
      },
      "execution_count": 15,
      "outputs": [
        {
          "output_type": "execute_result",
          "data": {
            "text/plain": [
              "[1, 2, 3, 'Python', 'Java', True, False, 10.5, 11.5]"
            ]
          },
          "metadata": {},
          "execution_count": 15
        }
      ]
    },
    {
      "cell_type": "code",
      "source": [
        "list5 = [1,2,3,4,5]\n",
        "# Positive Indexing\n",
        "# 1 will be on index 0\n",
        "# 2 will be on index 1\n",
        "# 3 will be on index 2\n",
        "# 4 will be on index 3\n",
        "# 5 will be on index 4\n",
        "\n",
        "#Nagative Indexing\n",
        "# 1 will be on index -5\n",
        "# 2 will be on index -4\n",
        "# 3 will be on index -3\n",
        "# 4 will be on index -2\n",
        "# 5 will be on index -1\n"
      ],
      "metadata": {
        "id": "LwMinC4As2Ox"
      },
      "execution_count": 16,
      "outputs": []
    },
    {
      "cell_type": "code",
      "source": [
        "#Indexing \n",
        "\n",
        "#1. Positive indexing: starting from 0 to n-1 (Where n is total number of elements in a list)\n",
        "#(Left to Right)\n",
        "#2. Nagative indexing: starting from -1 to -n (Where n is total number elements in the list)\n",
        "#(Right to Left)"
      ],
      "metadata": {
        "id": "uzD2mOJOrA0h"
      },
      "execution_count": null,
      "outputs": []
    },
    {
      "cell_type": "code",
      "source": [
        "list5[0]"
      ],
      "metadata": {
        "colab": {
          "base_uri": "https://localhost:8080/"
        },
        "id": "Uklg9wrRuDEk",
        "outputId": "13e3bc12-aa25-4531-d70d-c2eeebd851a7"
      },
      "execution_count": 17,
      "outputs": [
        {
          "output_type": "execute_result",
          "data": {
            "text/plain": [
              "1"
            ]
          },
          "metadata": {},
          "execution_count": 17
        }
      ]
    },
    {
      "cell_type": "code",
      "source": [
        "list5[-5]"
      ],
      "metadata": {
        "colab": {
          "base_uri": "https://localhost:8080/"
        },
        "id": "qSsmbkPJuE0X",
        "outputId": "4b19e239-17fc-4621-fbc4-b6caf613b540"
      },
      "execution_count": 18,
      "outputs": [
        {
          "output_type": "execute_result",
          "data": {
            "text/plain": [
              "1"
            ]
          },
          "metadata": {},
          "execution_count": 18
        }
      ]
    },
    {
      "cell_type": "code",
      "source": [
        "list5[-1]"
      ],
      "metadata": {
        "colab": {
          "base_uri": "https://localhost:8080/"
        },
        "id": "fLp5zsfauIgs",
        "outputId": "d888151f-1cd6-447e-88aa-1a3f6ab5c2c4"
      },
      "execution_count": 19,
      "outputs": [
        {
          "output_type": "execute_result",
          "data": {
            "text/plain": [
              "5"
            ]
          },
          "metadata": {},
          "execution_count": 19
        }
      ]
    },
    {
      "cell_type": "code",
      "source": [
        "#Printing Python and Java from list4 using positive indexing\n",
        "list4[] #upper index which we  want to print + 1"
      ],
      "metadata": {
        "colab": {
          "base_uri": "https://localhost:8080/"
        },
        "id": "RyvlswBEuMFR",
        "outputId": "887a2af4-180a-492b-f3fa-253dbc16aa36"
      },
      "execution_count": 25,
      "outputs": [
        {
          "output_type": "execute_result",
          "data": {
            "text/plain": [
              "['Python', 'Java']"
            ]
          },
          "metadata": {},
          "execution_count": 25
        }
      ]
    },
    {
      "cell_type": "code",
      "source": [
        "#Printing Python and Java from list4 using nagative indexing\n",
        "\n",
        "list4[-6:-4]"
      ],
      "metadata": {
        "colab": {
          "base_uri": "https://localhost:8080/"
        },
        "id": "gh3hXE-_uj2S",
        "outputId": "8d943709-45f2-4c55-da25-643dbcaf3a54"
      },
      "execution_count": 38,
      "outputs": [
        {
          "output_type": "execute_result",
          "data": {
            "text/plain": [
              "['Python', 'Java']"
            ]
          },
          "metadata": {},
          "execution_count": 38
        }
      ]
    },
    {
      "cell_type": "code",
      "source": [
        "s1 = 'Python'\n",
        "s1 "
      ],
      "metadata": {
        "colab": {
          "base_uri": "https://localhost:8080/",
          "height": 35
        },
        "id": "ArIEhVxZuuKf",
        "outputId": "55359f00-0a98-4b7b-93ab-bf8cb4591f05"
      },
      "execution_count": 32,
      "outputs": [
        {
          "output_type": "execute_result",
          "data": {
            "application/vnd.google.colaboratory.intrinsic+json": {
              "type": "string"
            },
            "text/plain": [
              "'Python'"
            ]
          },
          "metadata": {},
          "execution_count": 32
        }
      ]
    },
    {
      "cell_type": "code",
      "source": [
        "list6 = [1,2,3,\"Python\",\"Java\",11]"
      ],
      "metadata": {
        "id": "gej5kJWRwn0g"
      },
      "execution_count": 62,
      "outputs": []
    },
    {
      "cell_type": "code",
      "source": [
        "list6[0:4]"
      ],
      "metadata": {
        "colab": {
          "base_uri": "https://localhost:8080/"
        },
        "id": "prsOOdUvxP4L",
        "outputId": "c37f4249-d74a-41fd-8f1c-97f7ac589d88"
      },
      "execution_count": 44,
      "outputs": [
        {
          "output_type": "execute_result",
          "data": {
            "text/plain": [
              "[1, 2, 3, 'Python']"
            ]
          },
          "metadata": {},
          "execution_count": 44
        }
      ]
    },
    {
      "cell_type": "code",
      "source": [
        "list6[3][2]"
      ],
      "metadata": {
        "colab": {
          "base_uri": "https://localhost:8080/",
          "height": 35
        },
        "id": "MEwwt_aXxU_a",
        "outputId": "ebb4a943-fb20-48cb-e622-5b9b82e1dd24"
      },
      "execution_count": 43,
      "outputs": [
        {
          "output_type": "execute_result",
          "data": {
            "application/vnd.google.colaboratory.intrinsic+json": {
              "type": "string"
            },
            "text/plain": [
              "'t'"
            ]
          },
          "metadata": {},
          "execution_count": 43
        }
      ]
    },
    {
      "cell_type": "code",
      "source": [
        "list4"
      ],
      "metadata": {
        "colab": {
          "base_uri": "https://localhost:8080/"
        },
        "id": "P8H-kN2eygN9",
        "outputId": "b1e995ac-61f3-4058-c625-74d23e55e63e"
      },
      "execution_count": 45,
      "outputs": [
        {
          "output_type": "execute_result",
          "data": {
            "text/plain": [
              "[1, 2, 3, 'Python', 'Java', True, False, 10.5, 11.5]"
            ]
          },
          "metadata": {},
          "execution_count": 45
        }
      ]
    },
    {
      "cell_type": "code",
      "source": [
        "list6"
      ],
      "metadata": {
        "colab": {
          "base_uri": "https://localhost:8080/"
        },
        "id": "z1PG8DU8zZqy",
        "outputId": "01677ef9-a5e4-4f69-de5f-7cca6acf6bc2"
      },
      "execution_count": 46,
      "outputs": [
        {
          "output_type": "execute_result",
          "data": {
            "text/plain": [
              "[1, 2, 3, 'Python']"
            ]
          },
          "metadata": {},
          "execution_count": 46
        }
      ]
    },
    {
      "cell_type": "code",
      "source": [
        "rel_list = list4 + list6"
      ],
      "metadata": {
        "id": "lWphhlxVzaXX"
      },
      "execution_count": 47,
      "outputs": []
    },
    {
      "cell_type": "code",
      "source": [
        "rel_list\n"
      ],
      "metadata": {
        "colab": {
          "base_uri": "https://localhost:8080/"
        },
        "id": "z1TPCj0hzeJi",
        "outputId": "12fa3487-df6b-4d19-bc53-bd31631b6453"
      },
      "execution_count": 48,
      "outputs": [
        {
          "output_type": "execute_result",
          "data": {
            "text/plain": [
              "[1, 2, 3, 'Python', 'Java', True, False, 10.5, 11.5, 1, 2, 3, 'Python']"
            ]
          },
          "metadata": {},
          "execution_count": 48
        }
      ]
    },
    {
      "cell_type": "code",
      "source": [
        "s1 = \"Python Java\""
      ],
      "metadata": {
        "id": "K_XhUQwmzf9D"
      },
      "execution_count": 50,
      "outputs": []
    },
    {
      "cell_type": "code",
      "source": [
        "s1[2]"
      ],
      "metadata": {
        "colab": {
          "base_uri": "https://localhost:8080/",
          "height": 35
        },
        "id": "E_fw-dM5zq5e",
        "outputId": "ba29b3fa-69a1-4d18-e05a-449e2e9fdc04"
      },
      "execution_count": 53,
      "outputs": [
        {
          "output_type": "execute_result",
          "data": {
            "application/vnd.google.colaboratory.intrinsic+json": {
              "type": "string"
            },
            "text/plain": [
              "'t'"
            ]
          },
          "metadata": {},
          "execution_count": 53
        }
      ]
    },
    {
      "cell_type": "code",
      "source": [
        "list123 = list6"
      ],
      "metadata": {
        "id": "qeoEKUQyz0wf"
      },
      "execution_count": 59,
      "outputs": []
    },
    {
      "cell_type": "code",
      "source": [
        "list123"
      ],
      "metadata": {
        "colab": {
          "base_uri": "https://localhost:8080/"
        },
        "id": "CcdJvUGU0HSP",
        "outputId": "7076126e-f4bb-46cb-9680-88bc52c165bc"
      },
      "execution_count": 64,
      "outputs": [
        {
          "output_type": "execute_result",
          "data": {
            "text/plain": [
              "[1, 2, 3, 'Python', 'Java']"
            ]
          },
          "metadata": {},
          "execution_count": 64
        }
      ]
    },
    {
      "cell_type": "code",
      "source": [
        "#list Functions \n",
        "\n",
        "#Append: to add an element at the end of the list"
      ],
      "metadata": {
        "id": "xkoD9oGI0LWh"
      },
      "execution_count": 65,
      "outputs": []
    },
    {
      "cell_type": "code",
      "source": [
        "list77 = [1,2,3]"
      ],
      "metadata": {
        "id": "DtUIhc7A1H8M"
      },
      "execution_count": 66,
      "outputs": []
    },
    {
      "cell_type": "code",
      "source": [
        "list77.append(True) #it accepts only one argument at a time "
      ],
      "metadata": {
        "id": "hJ-8Y3161LBz"
      },
      "execution_count": 70,
      "outputs": []
    },
    {
      "cell_type": "code",
      "source": [
        "list77"
      ],
      "metadata": {
        "colab": {
          "base_uri": "https://localhost:8080/"
        },
        "id": "QNJc1J5L1NwF",
        "outputId": "78b50a32-3ae5-4f98-9b04-23e7d1a76e7c"
      },
      "execution_count": 75,
      "outputs": [
        {
          "output_type": "execute_result",
          "data": {
            "text/plain": [
              "[1, 2, 101, 3, 100, 'Python', True]"
            ]
          },
          "metadata": {},
          "execution_count": 75
        }
      ]
    },
    {
      "cell_type": "code",
      "source": [
        "#Insert: to add an element at the specified index"
      ],
      "metadata": {
        "id": "059aNNWM1PCE"
      },
      "execution_count": 72,
      "outputs": []
    },
    {
      "cell_type": "code",
      "source": [
        "list77.insert(5,101)"
      ],
      "metadata": {
        "id": "fk3MHApK1w19"
      },
      "execution_count": 100,
      "outputs": []
    },
    {
      "cell_type": "code",
      "source": [
        "list77"
      ],
      "metadata": {
        "colab": {
          "base_uri": "https://localhost:8080/"
        },
        "id": "PpnwRhud11Dt",
        "outputId": "9fd735ef-5f77-48e2-ad4c-f368a27b3a47"
      },
      "execution_count": 88,
      "outputs": [
        {
          "output_type": "execute_result",
          "data": {
            "text/plain": [
              "[1, 2, 101, 3]"
            ]
          },
          "metadata": {},
          "execution_count": 88
        }
      ]
    },
    {
      "cell_type": "code",
      "source": [
        "len(list77) #getting length of the list"
      ],
      "metadata": {
        "colab": {
          "base_uri": "https://localhost:8080/"
        },
        "id": "jqDeUnd213eW",
        "outputId": "bf37526a-1e35-495c-ba1a-65b465023749"
      },
      "execution_count": 79,
      "outputs": [
        {
          "output_type": "execute_result",
          "data": {
            "text/plain": [
              "8"
            ]
          },
          "metadata": {},
          "execution_count": 79
        }
      ]
    },
    {
      "cell_type": "code",
      "source": [
        "#Pop(without arg): It will remove an element from the end of the list\n",
        "list77.pop()"
      ],
      "metadata": {
        "colab": {
          "base_uri": "https://localhost:8080/",
          "height": 35
        },
        "id": "9jiPCfp9240s",
        "outputId": "9a7aa0fc-d78a-4c62-82f6-d6f5b718e65a"
      },
      "execution_count": 87,
      "outputs": [
        {
          "output_type": "execute_result",
          "data": {
            "application/vnd.google.colaboratory.intrinsic+json": {
              "type": "string"
            },
            "text/plain": [
              "'Python'"
            ]
          },
          "metadata": {},
          "execution_count": 87
        }
      ]
    },
    {
      "cell_type": "code",
      "source": [
        "#Pop(with arg): It will remove an element from the specified index\n",
        "list77.pop(4) #we are passing index position as an arg"
      ],
      "metadata": {
        "colab": {
          "base_uri": "https://localhost:8080/"
        },
        "id": "enl20Wrl3bUz",
        "outputId": "b512ce1b-1424-490a-8b24-7e6ca912ecf8"
      },
      "execution_count": 84,
      "outputs": [
        {
          "output_type": "execute_result",
          "data": {
            "text/plain": [
              "100"
            ]
          },
          "metadata": {},
          "execution_count": 84
        }
      ]
    },
    {
      "cell_type": "code",
      "source": [
        "#Remove: It will remove an element with the specified value\n",
        "list77.remove(101)"
      ],
      "metadata": {
        "id": "mb51OtEf3szl"
      },
      "execution_count": 98,
      "outputs": []
    },
    {
      "cell_type": "code",
      "source": [
        "list77"
      ],
      "metadata": {
        "colab": {
          "base_uri": "https://localhost:8080/"
        },
        "id": "LsoyVYiq8VnG",
        "outputId": "a7cd0de0-3d77-47c7-d452-b1a1108f768c"
      },
      "execution_count": 102,
      "outputs": [
        {
          "output_type": "execute_result",
          "data": {
            "text/plain": [
              "[1, 2, 3, 101, 101]"
            ]
          },
          "metadata": {},
          "execution_count": 102
        }
      ]
    },
    {
      "cell_type": "code",
      "source": [
        "# Count: Revert the frequency of the element\n",
        "list77.count(1)"
      ],
      "metadata": {
        "colab": {
          "base_uri": "https://localhost:8080/"
        },
        "id": "qLHonSNs8Wxl",
        "outputId": "c0e503eb-1dca-4aef-b33e-9d966b1755fa"
      },
      "execution_count": 104,
      "outputs": [
        {
          "output_type": "execute_result",
          "data": {
            "text/plain": [
              "1"
            ]
          },
          "metadata": {},
          "execution_count": 104
        }
      ]
    },
    {
      "cell_type": "code",
      "source": [
        "#index: revert the index of an element \n",
        "list77.index(101)"
      ],
      "metadata": {
        "colab": {
          "base_uri": "https://localhost:8080/"
        },
        "id": "vFtHIpjB9E_Z",
        "outputId": "c21d6b19-f7a0-46f0-8423-8535002b728b"
      },
      "execution_count": 106,
      "outputs": [
        {
          "output_type": "execute_result",
          "data": {
            "text/plain": [
              "3"
            ]
          },
          "metadata": {},
          "execution_count": 106
        }
      ]
    },
    {
      "cell_type": "code",
      "source": [
        "list77.sort()"
      ],
      "metadata": {
        "id": "uf-5RzMV9X2o"
      },
      "execution_count": 107,
      "outputs": []
    },
    {
      "cell_type": "code",
      "source": [
        "list77"
      ],
      "metadata": {
        "colab": {
          "base_uri": "https://localhost:8080/"
        },
        "id": "r0osovsL9jbl",
        "outputId": "4feb2add-d804-4401-d72e-18b61545bfad"
      },
      "execution_count": 108,
      "outputs": [
        {
          "output_type": "execute_result",
          "data": {
            "text/plain": [
              "[1, 2, 3, 101, 101]"
            ]
          },
          "metadata": {},
          "execution_count": 108
        }
      ]
    },
    {
      "cell_type": "code",
      "source": [
        "list88 = [12,4,45,66,7,7,88,66,7,4,2,1]"
      ],
      "metadata": {
        "id": "wVZCU-US9kLo"
      },
      "execution_count": 114,
      "outputs": []
    },
    {
      "cell_type": "code",
      "source": [
        "#Sort: Applicable on similar data types (e.g. all int, all string)\n",
        "list88.sort()"
      ],
      "metadata": {
        "id": "AIOdyjVK9o3V"
      },
      "execution_count": 110,
      "outputs": []
    },
    {
      "cell_type": "code",
      "source": [
        "list88.reverse()"
      ],
      "metadata": {
        "id": "Ff20245i9rVB"
      },
      "execution_count": 115,
      "outputs": []
    },
    {
      "cell_type": "code",
      "source": [
        "list88"
      ],
      "metadata": {
        "colab": {
          "base_uri": "https://localhost:8080/"
        },
        "id": "4VLpj3mp9sSz",
        "outputId": "645877dd-1c1f-459a-83a7-832ba3f24991"
      },
      "execution_count": 116,
      "outputs": [
        {
          "output_type": "execute_result",
          "data": {
            "text/plain": [
              "[1, 2, 4, 7, 66, 88, 7, 7, 66, 45, 4, 12]"
            ]
          },
          "metadata": {},
          "execution_count": 116
        }
      ]
    },
    {
      "cell_type": "code",
      "source": [
        "list99 = [\"Banana\",\"apple\",\"Chikoo\",\"Watermelon\",\"Muskmelon\"]"
      ],
      "metadata": {
        "id": "Z35-FAfi9w3e"
      },
      "execution_count": 124,
      "outputs": []
    },
    {
      "cell_type": "code",
      "source": [
        "list99.sort()"
      ],
      "metadata": {
        "id": "7NW7K2wy-IaZ"
      },
      "execution_count": 125,
      "outputs": []
    },
    {
      "cell_type": "code",
      "source": [
        "list99"
      ],
      "metadata": {
        "colab": {
          "base_uri": "https://localhost:8080/"
        },
        "id": "Iab9WXN4-JYn",
        "outputId": "1f4c9752-ef0d-43ac-c537-3797b44f2b50"
      },
      "execution_count": 126,
      "outputs": [
        {
          "output_type": "execute_result",
          "data": {
            "text/plain": [
              "['Banana', 'Chikoo', 'Muskmelon', 'Watermelon', 'apple']"
            ]
          },
          "metadata": {},
          "execution_count": 126
        }
      ]
    },
    {
      "cell_type": "code",
      "source": [
        "# Clear: For making an empty list\n",
        "list77.clear()"
      ],
      "metadata": {
        "id": "rFFAV_Sf-J6j"
      },
      "execution_count": 127,
      "outputs": []
    },
    {
      "cell_type": "code",
      "source": [
        "list77"
      ],
      "metadata": {
        "colab": {
          "base_uri": "https://localhost:8080/"
        },
        "id": "FxDQCmtS_Bdw",
        "outputId": "7490df54-5d45-4a30-913b-c22aa011aea6"
      },
      "execution_count": 128,
      "outputs": [
        {
          "output_type": "execute_result",
          "data": {
            "text/plain": [
              "[]"
            ]
          },
          "metadata": {},
          "execution_count": 128
        }
      ]
    },
    {
      "cell_type": "code",
      "source": [
        "# Copy: For creating copy of an existing list\n",
        "list11 = list88.copy()  "
      ],
      "metadata": {
        "id": "_gdwdafA_CgR"
      },
      "execution_count": 129,
      "outputs": []
    },
    {
      "cell_type": "code",
      "source": [
        "list11"
      ],
      "metadata": {
        "colab": {
          "base_uri": "https://localhost:8080/"
        },
        "id": "etbaa61D_Ico",
        "outputId": "830eab50-2352-4cd2-9d31-972c5a9f1a4d"
      },
      "execution_count": 130,
      "outputs": [
        {
          "output_type": "execute_result",
          "data": {
            "text/plain": [
              "[1, 2, 4, 7, 66, 88, 7, 7, 66, 45, 4, 12]"
            ]
          },
          "metadata": {},
          "execution_count": 130
        }
      ]
    },
    {
      "cell_type": "code",
      "source": [
        "#Extend: For passing the values from one list to another list\n",
        "list11.extend(list99)"
      ],
      "metadata": {
        "id": "6khtaTso_JpB"
      },
      "execution_count": 131,
      "outputs": []
    },
    {
      "cell_type": "code",
      "source": [
        "list11"
      ],
      "metadata": {
        "colab": {
          "base_uri": "https://localhost:8080/"
        },
        "id": "0Pxmggql_aae",
        "outputId": "4eb5ff4f-3355-4852-83ef-003a799cdf30"
      },
      "execution_count": 132,
      "outputs": [
        {
          "output_type": "execute_result",
          "data": {
            "text/plain": [
              "[1,\n",
              " 2,\n",
              " 4,\n",
              " 7,\n",
              " 66,\n",
              " 88,\n",
              " 7,\n",
              " 7,\n",
              " 66,\n",
              " 45,\n",
              " 4,\n",
              " 12,\n",
              " 'Banana',\n",
              " 'Chikoo',\n",
              " 'Muskmelon',\n",
              " 'Watermelon',\n",
              " 'apple']"
            ]
          },
          "metadata": {},
          "execution_count": 132
        }
      ]
    },
    {
      "cell_type": "code",
      "source": [
        "list1 = [1,2,3]\n",
        "list2 = [4,5,6]"
      ],
      "metadata": {
        "id": "xveivRTj_h5D"
      },
      "execution_count": 133,
      "outputs": []
    },
    {
      "cell_type": "code",
      "source": [
        "list1.extend(list2)"
      ],
      "metadata": {
        "id": "UyhFSU3eAVa8"
      },
      "execution_count": 136,
      "outputs": []
    },
    {
      "cell_type": "code",
      "source": [
        "list1"
      ],
      "metadata": {
        "colab": {
          "base_uri": "https://localhost:8080/"
        },
        "id": "KcyVt8HqAZxV",
        "outputId": "6e5e279a-220d-4033-d919-e87704e7f63a"
      },
      "execution_count": 137,
      "outputs": [
        {
          "output_type": "execute_result",
          "data": {
            "text/plain": [
              "[1, 2, 3, 4, 5, 6, 4, 5, 6]"
            ]
          },
          "metadata": {},
          "execution_count": 137
        }
      ]
    },
    {
      "cell_type": "code",
      "source": [
        "list3 = [3,4,56,7,8,9]"
      ],
      "metadata": {
        "id": "P9hRKNbnAazK"
      },
      "execution_count": 143,
      "outputs": []
    },
    {
      "cell_type": "code",
      "source": [
        "list3.reverse()"
      ],
      "metadata": {
        "id": "JeLaia03A1-E"
      },
      "execution_count": 139,
      "outputs": []
    },
    {
      "cell_type": "code",
      "source": [
        "list3"
      ],
      "metadata": {
        "colab": {
          "base_uri": "https://localhost:8080/"
        },
        "id": "bwpn9vZMA3jx",
        "outputId": "fa709875-f69e-4f5a-8bfc-1adcd7d371d7"
      },
      "execution_count": 140,
      "outputs": [
        {
          "output_type": "execute_result",
          "data": {
            "text/plain": [
              "[8, 7, 56, 4, 3]"
            ]
          },
          "metadata": {},
          "execution_count": 140
        }
      ]
    },
    {
      "cell_type": "code",
      "source": [
        "list4 = list3.copy()"
      ],
      "metadata": {
        "id": "Va5V2Q2xA4Yn"
      },
      "execution_count": 141,
      "outputs": []
    },
    {
      "cell_type": "code",
      "source": [
        "list4"
      ],
      "metadata": {
        "colab": {
          "base_uri": "https://localhost:8080/"
        },
        "id": "BpekZLVQBTEY",
        "outputId": "5a747156-26ec-47a8-afa7-31f53fe67df6"
      },
      "execution_count": 144,
      "outputs": [
        {
          "output_type": "execute_result",
          "data": {
            "text/plain": [
              "[8, 7, 56, 4, 3]"
            ]
          },
          "metadata": {},
          "execution_count": 144
        }
      ]
    },
    {
      "cell_type": "code",
      "source": [
        "#Tuple: \n",
        "#Tuples are immutable \n",
        "\n",
        "tup1 = (1,1,1,1,1,1,1,1,2,3,4,5,6)"
      ],
      "metadata": {
        "id": "seihKYFkBT1k"
      },
      "execution_count": 151,
      "outputs": []
    },
    {
      "cell_type": "code",
      "source": [
        "type(tup1)"
      ],
      "metadata": {
        "colab": {
          "base_uri": "https://localhost:8080/"
        },
        "id": "swyMuKDpB88x",
        "outputId": "3ad4bd5b-4b30-4ccf-cb7c-7c326675ff8a"
      },
      "execution_count": 147,
      "outputs": [
        {
          "output_type": "execute_result",
          "data": {
            "text/plain": [
              "tuple"
            ]
          },
          "metadata": {},
          "execution_count": 147
        }
      ]
    },
    {
      "cell_type": "code",
      "source": [
        "#Count: \n",
        "tup1.count(1)"
      ],
      "metadata": {
        "colab": {
          "base_uri": "https://localhost:8080/"
        },
        "id": "t5C1FvifCJrB",
        "outputId": "92eccdc9-973f-4fd4-e6d4-7e2dd6586eed"
      },
      "execution_count": 154,
      "outputs": [
        {
          "output_type": "execute_result",
          "data": {
            "text/plain": [
              "8"
            ]
          },
          "metadata": {},
          "execution_count": 154
        }
      ]
    },
    {
      "cell_type": "code",
      "source": [
        "#Index\n",
        "tup1.index(3)"
      ],
      "metadata": {
        "colab": {
          "base_uri": "https://localhost:8080/"
        },
        "id": "3NMGQR6RCPLw",
        "outputId": "cc346cf0-2c2e-4f18-b382-8794e012f0d0"
      },
      "execution_count": 150,
      "outputs": [
        {
          "output_type": "execute_result",
          "data": {
            "text/plain": [
              "2"
            ]
          },
          "metadata": {},
          "execution_count": 150
        }
      ]
    },
    {
      "cell_type": "code",
      "source": [
        "len(tup1)"
      ],
      "metadata": {
        "colab": {
          "base_uri": "https://localhost:8080/"
        },
        "id": "fVUraghtCQ-5",
        "outputId": "2dd36f0b-cffc-40d9-bf8a-d045f8303f30"
      },
      "execution_count": 155,
      "outputs": [
        {
          "output_type": "execute_result",
          "data": {
            "text/plain": [
              "13"
            ]
          },
          "metadata": {},
          "execution_count": 155
        }
      ]
    },
    {
      "cell_type": "code",
      "source": [
        "tup2 = (\"Python\",\"C\",\"Scala\",\"Java\",\"Java\",\"Java\",\"Java\",\"Java\",\"Phortran\")"
      ],
      "metadata": {
        "id": "p1cNNZIdDLG7"
      },
      "execution_count": 158,
      "outputs": []
    },
    {
      "cell_type": "code",
      "source": [
        "tup2.index(\"C\")"
      ],
      "metadata": {
        "colab": {
          "base_uri": "https://localhost:8080/"
        },
        "id": "1bQehDqODpe4",
        "outputId": "2fc20c0b-213c-4b7e-86ac-a14dd900c52a"
      },
      "execution_count": 157,
      "outputs": [
        {
          "output_type": "execute_result",
          "data": {
            "text/plain": [
              "1"
            ]
          },
          "metadata": {},
          "execution_count": 157
        }
      ]
    },
    {
      "cell_type": "code",
      "source": [
        "tup2.count(\"Java\")"
      ],
      "metadata": {
        "colab": {
          "base_uri": "https://localhost:8080/"
        },
        "id": "diHn2LhKDsPI",
        "outputId": "df54fa2f-4bc3-4e33-f92a-84824147fa83"
      },
      "execution_count": 159,
      "outputs": [
        {
          "output_type": "execute_result",
          "data": {
            "text/plain": [
              "5"
            ]
          },
          "metadata": {},
          "execution_count": 159
        }
      ]
    },
    {
      "cell_type": "code",
      "source": [
        "#Dictionary\n",
        "#Storing Data in a key value pair\n",
        "\n",
        "#(Key,Value)\n"
      ],
      "metadata": {
        "id": "wlj_KYOwD1wa"
      },
      "execution_count": 160,
      "outputs": []
    },
    {
      "cell_type": "code",
      "source": [
        "dict1 = {'Apple':100,'Banana':50,'Chikoo':40}"
      ],
      "metadata": {
        "id": "GIR7lWTpEI9M"
      },
      "execution_count": 172,
      "outputs": []
    },
    {
      "cell_type": "code",
      "source": [
        "#Print the dictionary\n",
        "dict1.items()"
      ],
      "metadata": {
        "colab": {
          "base_uri": "https://localhost:8080/"
        },
        "id": "R8TtFsr_ERyl",
        "outputId": "94db4372-3993-443c-aed1-3e7355ef1dd0"
      },
      "execution_count": 163,
      "outputs": [
        {
          "output_type": "execute_result",
          "data": {
            "text/plain": [
              "dict_items([('Apple', 100), ('Banana', 50), ('Chikoo', 40)])"
            ]
          },
          "metadata": {},
          "execution_count": 163
        }
      ]
    },
    {
      "cell_type": "code",
      "source": [
        "#Return the value of the specified Key\n",
        "dict1.get('Banana')"
      ],
      "metadata": {
        "colab": {
          "base_uri": "https://localhost:8080/"
        },
        "id": "dXv7aluiESzG",
        "outputId": "9215d155-40a2-44e3-e753-02c82e0f3e51"
      },
      "execution_count": 165,
      "outputs": [
        {
          "output_type": "execute_result",
          "data": {
            "text/plain": [
              "50"
            ]
          },
          "metadata": {},
          "execution_count": 165
        }
      ]
    },
    {
      "cell_type": "code",
      "source": [
        "#Will print all keys from the Dictionary\n",
        "dict1.keys()"
      ],
      "metadata": {
        "colab": {
          "base_uri": "https://localhost:8080/"
        },
        "id": "XaL4qxcNEsUe",
        "outputId": "f09f58e2-bf9a-43ec-e4f6-3cf58cd49baf"
      },
      "execution_count": 167,
      "outputs": [
        {
          "output_type": "execute_result",
          "data": {
            "text/plain": [
              "dict_keys(['Apple', 'Banana', 'Chikoo'])"
            ]
          },
          "metadata": {},
          "execution_count": 167
        }
      ]
    },
    {
      "cell_type": "code",
      "source": [
        "#Will print all values from the Dictionary\n",
        "dict1.values()"
      ],
      "metadata": {
        "colab": {
          "base_uri": "https://localhost:8080/"
        },
        "id": "-Bezh44CE6QZ",
        "outputId": "3e37db09-481c-455c-967f-3a604d9b0de0"
      },
      "execution_count": 168,
      "outputs": [
        {
          "output_type": "execute_result",
          "data": {
            "text/plain": [
              "dict_values([100, 50, 40])"
            ]
          },
          "metadata": {},
          "execution_count": 168
        }
      ]
    },
    {
      "cell_type": "code",
      "source": [
        "#It will remove the Key value pair of specified key\n",
        "dict1.pop('Chikoo')"
      ],
      "metadata": {
        "colab": {
          "base_uri": "https://localhost:8080/"
        },
        "id": "moVTyiwxFCh2",
        "outputId": "33da4fd0-74df-46db-9d23-a95213eeec6f"
      },
      "execution_count": 170,
      "outputs": [
        {
          "output_type": "execute_result",
          "data": {
            "text/plain": [
              "40"
            ]
          },
          "metadata": {},
          "execution_count": 170
        }
      ]
    },
    {
      "cell_type": "code",
      "source": [
        "dict1['Apple'] = 110"
      ],
      "metadata": {
        "id": "7Iuu8nAHFHVY"
      },
      "execution_count": 174,
      "outputs": []
    },
    {
      "cell_type": "code",
      "source": [
        "dict1['Abc'] = 111"
      ],
      "metadata": {
        "id": "nRfUyVrnIwvM"
      },
      "execution_count": 192,
      "outputs": []
    },
    {
      "cell_type": "code",
      "source": [
        "dict2 = {'Watermelon':200,'Muskmelon':150}"
      ],
      "metadata": {
        "id": "Ah9215N0FQm_"
      },
      "execution_count": 178,
      "outputs": []
    },
    {
      "cell_type": "code",
      "source": [
        "dict2"
      ],
      "metadata": {
        "colab": {
          "base_uri": "https://localhost:8080/"
        },
        "id": "lvJU2wOiFt4d",
        "outputId": "749cc40f-d749-40e5-f4a4-f94b00fd5822"
      },
      "execution_count": 179,
      "outputs": [
        {
          "output_type": "execute_result",
          "data": {
            "text/plain": [
              "{'Muskmelon': 150, 'Watermelon': 200}"
            ]
          },
          "metadata": {},
          "execution_count": 179
        }
      ]
    },
    {
      "cell_type": "code",
      "source": [
        "dict1"
      ],
      "metadata": {
        "colab": {
          "base_uri": "https://localhost:8080/"
        },
        "id": "Q5dkZIhLGVqA",
        "outputId": "b19968cd-5887-4123-83fb-32ca2d3979a3"
      },
      "execution_count": 180,
      "outputs": [
        {
          "output_type": "execute_result",
          "data": {
            "text/plain": [
              "{'Apple': 110, 'Banana': 50, 'Chikoo': 40}"
            ]
          },
          "metadata": {},
          "execution_count": 180
        }
      ]
    },
    {
      "cell_type": "code",
      "source": [
        "#for updating elements from another dictionary\n",
        "dict1.update(dict2)"
      ],
      "metadata": {
        "id": "ZG1sYQIeGX_D"
      },
      "execution_count": 181,
      "outputs": []
    },
    {
      "cell_type": "code",
      "source": [
        "dict1"
      ],
      "metadata": {
        "colab": {
          "base_uri": "https://localhost:8080/"
        },
        "id": "nU9XhRopGaNq",
        "outputId": "5801177f-4848-4f9a-e5c5-b0b270e047d1"
      },
      "execution_count": 193,
      "outputs": [
        {
          "output_type": "execute_result",
          "data": {
            "text/plain": [
              "{'Abc': 111,\n",
              " 'Apple': 110,\n",
              " 'Banana': 50,\n",
              " 'Chikoo': 40,\n",
              " 'Muskmelon': 150,\n",
              " 'Watermelon': 200}"
            ]
          },
          "metadata": {},
          "execution_count": 193
        }
      ]
    },
    {
      "cell_type": "code",
      "source": [
        "#Sets:\n",
        "\n",
        "#Sets are unordered\n",
        "#It doesn't allows duplication\n",
        "#it is unchangable"
      ],
      "metadata": {
        "id": "kI2blplVGbCc"
      },
      "execution_count": 189,
      "outputs": []
    },
    {
      "cell_type": "code",
      "source": [
        "A = {1,2,3}\n",
        "B = {2,3,4,5}"
      ],
      "metadata": {
        "id": "LcFkAyO7HFFU"
      },
      "execution_count": 185,
      "outputs": []
    },
    {
      "cell_type": "code",
      "source": [
        "type(B)"
      ],
      "metadata": {
        "colab": {
          "base_uri": "https://localhost:8080/"
        },
        "id": "1XAaXahUHI4b",
        "outputId": "eb90a252-3f8f-4e28-d124-d8eb50c27ff1"
      },
      "execution_count": 186,
      "outputs": [
        {
          "output_type": "execute_result",
          "data": {
            "text/plain": [
              "set"
            ]
          },
          "metadata": {},
          "execution_count": 186
        }
      ]
    },
    {
      "cell_type": "code",
      "source": [
        "A.union(B) "
      ],
      "metadata": {
        "colab": {
          "base_uri": "https://localhost:8080/"
        },
        "id": "aZD1GMp3HLF_",
        "outputId": "cd57d0f1-997e-46c9-9d45-1663129999c6"
      },
      "execution_count": 187,
      "outputs": [
        {
          "output_type": "execute_result",
          "data": {
            "text/plain": [
              "{1, 2, 3, 4, 5}"
            ]
          },
          "metadata": {},
          "execution_count": 187
        }
      ]
    },
    {
      "cell_type": "code",
      "source": [
        "A.intersection(B)"
      ],
      "metadata": {
        "colab": {
          "base_uri": "https://localhost:8080/"
        },
        "id": "F3WwFp2DHTq_",
        "outputId": "21832bf2-c58c-4405-b1cb-ecd96e820ba4"
      },
      "execution_count": 188,
      "outputs": [
        {
          "output_type": "execute_result",
          "data": {
            "text/plain": [
              "{2, 3}"
            ]
          },
          "metadata": {},
          "execution_count": 188
        }
      ]
    },
    {
      "cell_type": "code",
      "source": [
        "A.add(\"Python\")"
      ],
      "metadata": {
        "id": "ZBrRRfU1HZxp"
      },
      "execution_count": 190,
      "outputs": []
    },
    {
      "cell_type": "code",
      "source": [
        "A"
      ],
      "metadata": {
        "colab": {
          "base_uri": "https://localhost:8080/"
        },
        "id": "Z9_MFEjyIBUr",
        "outputId": "20888a85-2819-423f-f42f-7509625058f2"
      },
      "execution_count": 191,
      "outputs": [
        {
          "output_type": "execute_result",
          "data": {
            "text/plain": [
              "{1, 2, 3, 'Python'}"
            ]
          },
          "metadata": {},
          "execution_count": 191
        }
      ]
    },
    {
      "cell_type": "code",
      "source": [
        "'''Introduction to Python\n",
        "DataTypes\n",
        "Data Structure\n",
        "Conditional Statements\n",
        "Looping statements\n",
        "User defined Functions\n",
        "Overview of OOP\n",
        "'''\n",
        "\n"
      ],
      "metadata": {
        "id": "DrVeNbPzIBxJ"
      },
      "execution_count": null,
      "outputs": []
    }
  ]
}