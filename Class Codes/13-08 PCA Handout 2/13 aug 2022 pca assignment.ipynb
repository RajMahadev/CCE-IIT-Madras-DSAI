{
 "cells": [
  {
   "cell_type": "code",
   "execution_count": null,
   "id": "4f6ca667",
   "metadata": {},
   "outputs": [],
   "source": [
    "import numpy as np\n",
    "import pandas as pd\n",
    "import matplotlib.pyplot as plt\n",
    "from sklearn.decomposition import PCA\n",
    "from sklearn.preprocessing import StandardScaler\n",
    "from sklearn.cluster import KMeans\n",
    "from sklearn.model_selection import train_test_split\n",
    "from sklearn.tree import DecisionTreeClassifier\n",
    "from sklearn.metrics import accuracy_score,classification_report, confusion_matrix"
   ]
  },
  {
   "cell_type": "code",
   "execution_count": null,
   "id": "1c46d6fc",
   "metadata": {},
   "outputs": [],
   "source": [
    "from sklearn.datasets import load_digits"
   ]
  },
  {
   "cell_type": "code",
   "execution_count": null,
   "id": "61fa2db9",
   "metadata": {},
   "outputs": [],
   "source": [
    "digits=load_digits()"
   ]
  },
  {
   "cell_type": "code",
   "execution_count": null,
   "id": "619ab708",
   "metadata": {},
   "outputs": [],
   "source": [
    "data=digits.data"
   ]
  },
  {
   "cell_type": "code",
   "execution_count": null,
   "id": "707b3a58",
   "metadata": {},
   "outputs": [],
   "source": [
    "np.size(data)"
   ]
  },
  {
   "cell_type": "code",
   "execution_count": null,
   "id": "cf01a699",
   "metadata": {},
   "outputs": [],
   "source": [
    "data_std=StandardScaler().fit_transform(data)"
   ]
  },
  {
   "cell_type": "code",
   "execution_count": null,
   "id": "7595dab9",
   "metadata": {},
   "outputs": [],
   "source": [
    "data_std"
   ]
  },
  {
   "cell_type": "code",
   "execution_count": null,
   "id": "9a462787",
   "metadata": {},
   "outputs": [],
   "source": [
    "cov_mat=np.cov(data_std.T)\n",
    "cov_mat"
   ]
  },
  {
   "cell_type": "code",
   "execution_count": null,
   "id": "344e0b16",
   "metadata": {},
   "outputs": [],
   "source": [
    "abs_min = abs(cov_mat).min()\n",
    "print(abs_min)\n",
    "negative_max = cov_mat.min()\n",
    "print(negative_max)"
   ]
  },
  {
   "cell_type": "code",
   "execution_count": null,
   "id": "2b6e9e7e",
   "metadata": {},
   "outputs": [],
   "source": [
    "eigval,eigvec = np.linalg.eig(cov_mat)"
   ]
  },
  {
   "cell_type": "code",
   "execution_count": null,
   "id": "34345864",
   "metadata": {},
   "outputs": [],
   "source": [
    "eigval"
   ]
  },
  {
   "cell_type": "code",
   "execution_count": null,
   "id": "509d51bd",
   "metadata": {},
   "outputs": [],
   "source": [
    "total = sum(eigval)\n",
    "explained_variance = [(i/total)*100 for i in eigval]"
   ]
  },
  {
   "cell_type": "code",
   "execution_count": null,
   "id": "3aed8fbb",
   "metadata": {},
   "outputs": [],
   "source": [
    "a=explained_variance"
   ]
  },
  {
   "cell_type": "code",
   "execution_count": null,
   "id": "9895f435",
   "metadata": {},
   "outputs": [],
   "source": [
    "a1=pd.DataFrame(a)\n",
    "a1.count()"
   ]
  },
  {
   "cell_type": "code",
   "execution_count": null,
   "id": "51c12112",
   "metadata": {},
   "outputs": [],
   "source": [
    "cumsum = np.cumsum(explained_variance)\n",
    "a=pd.DataFrame(cumsum)\n",
    "a.value_counts()"
   ]
  },
  {
   "cell_type": "code",
   "execution_count": null,
   "id": "a57b6686",
   "metadata": {},
   "outputs": [],
   "source": [
    "plt.figure(figsize=(10,5))\n",
    "plt.bar(range(len(explained_variance)),explained_variance,color='g')\n",
    "plt.step(range(len(cumsum)),cumsum,color='b')"
   ]
  },
  {
   "cell_type": "code",
   "execution_count": null,
   "id": "1ca18806",
   "metadata": {},
   "outputs": [],
   "source": [
    "#Question 8"
   ]
  },
  {
   "cell_type": "code",
   "execution_count": null,
   "id": "34aa0d96",
   "metadata": {},
   "outputs": [],
   "source": [
    "pca = PCA(n_components=20)"
   ]
  },
  {
   "cell_type": "code",
   "execution_count": null,
   "id": "73c84082",
   "metadata": {},
   "outputs": [],
   "source": [
    "data_new = pca.fit_transform(data_std)"
   ]
  },
  {
   "cell_type": "code",
   "execution_count": null,
   "id": "5d03de9c",
   "metadata": {},
   "outputs": [],
   "source": [
    "data_new.shape"
   ]
  },
  {
   "cell_type": "code",
   "execution_count": null,
   "id": "21a35183",
   "metadata": {},
   "outputs": [],
   "source": [
    "cov_mat1= np.cov(data_new.T)\n",
    "eigval1,eigvec1 = np.linalg.eig(cov_mat1)"
   ]
  },
  {
   "cell_type": "code",
   "execution_count": null,
   "id": "7fd97774",
   "metadata": {},
   "outputs": [],
   "source": [
    "total1 = sum(eigval1)\n",
    "explained_variance1 = [(i/total1)*100 for i in eigval1]"
   ]
  },
  {
   "cell_type": "code",
   "execution_count": null,
   "id": "3cc8e8d3",
   "metadata": {},
   "outputs": [],
   "source": [
    "explained_variance1 # Answer - Depends on the number of components in pca"
   ]
  },
  {
   "cell_type": "code",
   "execution_count": null,
   "id": "4087f874",
   "metadata": {},
   "outputs": [],
   "source": [
    "#9"
   ]
  },
  {
   "cell_type": "code",
   "execution_count": null,
   "id": "bb25fe00",
   "metadata": {},
   "outputs": [],
   "source": [
    "wcss=[]\n",
    "for i in range(1,11):\n",
    "    kmeans=KMeans(n_clusters = i,init = 'k-means++',random_state = 0)\n",
    "    kmeans.fit(data_new)\n",
    "    wcss.append(kmeans.inertia_)\n",
    "\n",
    "plt.plot(np.arange(1,11),wcss)\n",
    "    "
   ]
  },
  {
   "cell_type": "code",
   "execution_count": null,
   "id": "249a7004",
   "metadata": {},
   "outputs": [],
   "source": [
    "# q 10"
   ]
  },
  {
   "cell_type": "code",
   "execution_count": null,
   "id": "1e5f6f63",
   "metadata": {},
   "outputs": [],
   "source": [
    "wcss=[]\n",
    "for i in range(1,11):\n",
    "    kmeans=KMeans(n_clusters = i,init = 'k-means++',random_state = 0)\n",
    "    kmeans.fit(data_std)\n",
    "    wcss.append(kmeans.inertia_)\n",
    "\n",
    "plt.plot(np.arange(1,11),wcss)"
   ]
  },
  {
   "cell_type": "code",
   "execution_count": null,
   "id": "53c50a8a",
   "metadata": {},
   "outputs": [],
   "source": [
    "#Question 11"
   ]
  },
  {
   "cell_type": "code",
   "execution_count": null,
   "id": "da22c9f8",
   "metadata": {},
   "outputs": [],
   "source": [
    "y=digits.target\n",
    "y"
   ]
  },
  {
   "cell_type": "code",
   "execution_count": null,
   "id": "df343340",
   "metadata": {},
   "outputs": [],
   "source": [
    "x_train1,x_test1,y_train1,y_test1 = train_test_split(data_std,y,test_size=0.2,random_state=40)"
   ]
  },
  {
   "cell_type": "code",
   "execution_count": null,
   "id": "82d2cf82",
   "metadata": {},
   "outputs": [],
   "source": [
    "dt1 = DecisionTreeClassifier()"
   ]
  },
  {
   "cell_type": "code",
   "execution_count": null,
   "id": "6fbb329e",
   "metadata": {},
   "outputs": [],
   "source": [
    "dt1.fit(x_train1,y_train1)"
   ]
  },
  {
   "cell_type": "code",
   "execution_count": null,
   "id": "4d16c583",
   "metadata": {},
   "outputs": [],
   "source": [
    "y_pred1 =dt1.predict(x_test1)"
   ]
  },
  {
   "cell_type": "code",
   "execution_count": null,
   "id": "6fce5280",
   "metadata": {},
   "outputs": [],
   "source": [
    "miscount1 = 0\n",
    "for i in range(len(y_pred1)):\n",
    "    if y_pred1[i]!=y_test1[i]:\n",
    "        miscount1+=1\n",
    "miscount1"
   ]
  },
  {
   "cell_type": "code",
   "execution_count": null,
   "id": "73f41a92",
   "metadata": {},
   "outputs": [],
   "source": [
    "#Question 12"
   ]
  },
  {
   "cell_type": "code",
   "execution_count": null,
   "id": "25be6891",
   "metadata": {},
   "outputs": [],
   "source": [
    "counting=0\n",
    "for i in range(len(y_pred1)):\n",
    "    if y_pred1[i]==8:\n",
    "        counting+=1\n",
    "counting"
   ]
  },
  {
   "cell_type": "code",
   "execution_count": null,
   "id": "a94a6723",
   "metadata": {},
   "outputs": [],
   "source": [
    "#Question 13"
   ]
  },
  {
   "cell_type": "code",
   "execution_count": null,
   "id": "c64c16ba",
   "metadata": {},
   "outputs": [],
   "source": [
    "miscount = 0\n",
    "for i in range(len(y_pred1)):\n",
    "    if y_pred1[i]!=y_test1[i]:\n",
    "        miscount+=1\n",
    "miscount"
   ]
  },
  {
   "cell_type": "code",
   "execution_count": null,
   "id": "4706b6d4",
   "metadata": {},
   "outputs": [],
   "source": [
    "# Results can vary, it depends on the model training"
   ]
  },
  {
   "cell_type": "code",
   "execution_count": null,
   "id": "b38185a7",
   "metadata": {},
   "outputs": [],
   "source": []
  }
 ],
 "metadata": {
  "kernelspec": {
   "display_name": "Python 3 (ipykernel)",
   "language": "python",
   "name": "python3"
  },
  "language_info": {
   "codemirror_mode": {
    "name": "ipython",
    "version": 3
   },
   "file_extension": ".py",
   "mimetype": "text/x-python",
   "name": "python",
   "nbconvert_exporter": "python",
   "pygments_lexer": "ipython3",
   "version": "3.9.7"
  }
 },
 "nbformat": 4,
 "nbformat_minor": 5
}
