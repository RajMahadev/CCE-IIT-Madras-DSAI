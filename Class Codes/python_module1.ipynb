{
 "cells": [
  {
   "cell_type": "code",
   "execution_count": 6,
   "id": "716f9209",
   "metadata": {},
   "outputs": [
    {
     "ename": "ImportError",
     "evalue": "cannot import name 'add' from 'Module2' (C:\\Users\\Admin\\Module2.py)",
     "output_type": "error",
     "traceback": [
      "\u001b[1;31m---------------------------------------------------------------------------\u001b[0m",
      "\u001b[1;31mImportError\u001b[0m                               Traceback (most recent call last)",
      "\u001b[1;32m~\\AppData\\Local\\Temp/ipykernel_1476/162467284.py\u001b[0m in \u001b[0;36m<module>\u001b[1;34m\u001b[0m\n\u001b[1;32m----> 1\u001b[1;33m \u001b[1;32mfrom\u001b[0m \u001b[0mModule2\u001b[0m \u001b[1;32mimport\u001b[0m \u001b[0madd\u001b[0m\u001b[1;33m\u001b[0m\u001b[1;33m\u001b[0m\u001b[0m\n\u001b[0m",
      "\u001b[1;31mImportError\u001b[0m: cannot import name 'add' from 'Module2' (C:\\Users\\Admin\\Module2.py)"
     ]
    }
   ],
   "source": [
    "from Module2 import add"
   ]
  },
  {
   "cell_type": "code",
   "execution_count": 2,
   "id": "de009b89",
   "metadata": {},
   "outputs": [
    {
     "data": {
      "text/plain": [
       "12"
      ]
     },
     "execution_count": 2,
     "metadata": {},
     "output_type": "execute_result"
    }
   ],
   "source": [
    "(5,7)"
   ]
  },
  {
   "cell_type": "code",
   "execution_count": 3,
   "id": "58e49901",
   "metadata": {},
   "outputs": [],
   "source": [
    "from Module2 import subtraction\n"
   ]
  },
  {
   "cell_type": "code",
   "execution_count": 4,
   "id": "52ea9192",
   "metadata": {},
   "outputs": [
    {
     "data": {
      "text/plain": [
       "4"
      ]
     },
     "execution_count": 4,
     "metadata": {},
     "output_type": "execute_result"
    }
   ],
   "source": [
    "subtraction(8,4)"
   ]
  },
  {
   "cell_type": "code",
   "execution_count": null,
   "id": "77b964fd",
   "metadata": {},
   "outputs": [],
   "source": [
    "from Module"
   ]
  },
  {
   "cell_type": "code",
   "execution_count": null,
   "id": "323112ca",
   "metadata": {},
   "outputs": [],
   "source": [
    "#am456=4,5,6=456"
   ]
  },
  {
   "cell_type": "code",
   "execution_count": null,
   "id": "fe4cc3fc",
   "metadata": {},
   "outputs": [],
   "source": [
    "#prime -2,3,4"
   ]
  },
  {
   "cell_type": "code",
   "execution_count": 8,
   "id": "7fccaa7a",
   "metadata": {},
   "outputs": [
    {
     "name": "stdout",
     "output_type": "stream",
     "text": [
      "No of values:5\n",
      "Enter the values:6\n",
      "Enter the values:7\n",
      "Enter the values:4\n",
      "Enter the values:8\n",
      "Enter the values:8\n",
      "The greater value is: 8\n",
      "The greater value is: 8\n"
     ]
    }
   ],
   "source": [
    "#6\n",
    "num=int(input(\"No of values:\"))\n",
    "e=[]\n",
    "for i in range(num):\n",
    "    n=int(input(\"Enter the values:\"))\n",
    "    e.append(n)\n",
    "for j in e:\n",
    "    if(j==max(e)):\n",
    "        print(\"The greater value is:\",j)\n",
    "    "
   ]
  },
  {
   "cell_type": "code",
   "execution_count": 1,
   "id": "4973af22",
   "metadata": {},
   "outputs": [
    {
     "name": "stdout",
     "output_type": "stream",
     "text": [
      "Enter a number: 400\n",
      "400 is not an Armstrong number\n"
     ]
    }
   ],
   "source": [
    "number = int(input(\"Enter a number: \"))#407\n",
    "\n",
    "order = len(str(number))#3\n",
    "sum = 0\n",
    "temp = number#407\n",
    "while temp > 0:\n",
    "    digit = temp % 10#407%10=7\n",
    "    sum += digit ** 3\n",
    "    temp //= 10#temp=temp//10\n",
    "\n",
    "if number == sum:\n",
    "    print(number,\"is an Armstrong number\")\n",
    "else:\n",
    "    print(number,\"is not an Armstrong number\")"
   ]
  },
  {
   "cell_type": "code",
   "execution_count": 3,
   "id": "8f0b73dc",
   "metadata": {},
   "outputs": [
    {
     "name": "stdout",
     "output_type": "stream",
     "text": [
      "Enter a number:2\n"
     ]
    }
   ],
   "source": [
    "#prime number\n",
    "num=int(input(\"Enter a number:\"))\n",
    "if(num>1):\n",
    "    for i in range(2,num):\n",
    "        if(num%i==0):\n",
    "            print(\"It is not prime\")\n",
    "            break\n",
    "        else:\n",
    "            print(\"prime\")\n",
    "            break"
   ]
  },
  {
   "cell_type": "code",
   "execution_count": 12,
   "id": "3a0edb5d",
   "metadata": {},
   "outputs": [
    {
     "name": "stdout",
     "output_type": "stream",
     "text": [
      "34\n",
      "56\n",
      "Enter the op that you hve to perform:sub\n",
      "-22\n"
     ]
    }
   ],
   "source": [
    "#question:7\n",
    "def addition(a,b):\n",
    "      return a+b\n",
    "def subtraction(a,b):\n",
    "      return a-b\n",
    "def multiplication(a,b):\n",
    "      return a*b\n",
    "def division(a,b):\n",
    "      return a//b\n",
    "n=int(input())\n",
    "m=int(input())\n",
    "op=input(\"Enter the op that you hve to perform:\")\n",
    "if(op=='addition' or op=='add'):\n",
    "    op1=addition(n,m)\n",
    "    print(op1)\n",
    "elif(op=='subtraction' or op=='sub'):\n",
    "    op2=subtraction(n,m)\n",
    "    print(op2)\n"
   ]
  },
  {
   "cell_type": "code",
   "execution_count": 13,
   "id": "c5f6f070",
   "metadata": {},
   "outputs": [
    {
     "name": "stdout",
     "output_type": "stream",
     "text": [
      "Enter no. of items5\n",
      "Fibonacci sequence:\n",
      "0\n",
      "1\n",
      "1\n",
      "2\n",
      "3\n"
     ]
    }
   ],
   "source": [
    "#8question-fibonacci-0,1,1,2,3,5\n",
    "num = int(input(\"Enter no. of items\"))\n",
    "n1=0#1\n",
    "n2=1#1\n",
    "count = 0\n",
    "if num <= 0:\n",
    "    print(\"Please enter a positive integer\")\n",
    "elif num == 1:\n",
    "    print(\"Fibonacci sequence upto\",num,\":\")\n",
    "    print(n1)\n",
    "else:\n",
    "    print(\"Fibonacci sequence:\")\n",
    "    while count < num:\n",
    "        print(n1)\n",
    "        n3 = n1 + n2\n",
    "        n1 = n2\n",
    "        n2 = n3\n",
    "        count += 1\n"
   ]
  },
  {
   "cell_type": "code",
   "execution_count": 16,
   "id": "6864d44b",
   "metadata": {},
   "outputs": [
    {
     "name": "stdout",
     "output_type": "stream",
     "text": [
      "Enter the number of terms needed: 6\n",
      "The sequence is: [0, 1, 1]\n",
      "The sequence is: [0, 1, 1, 2]\n",
      "The sequence is: [0, 1, 1, 2, 3]\n",
      "The sequence is: [0, 1, 1, 2, 3, 5]\n"
     ]
    }
   ],
   "source": [
    "num = int(input('Enter the number of terms needed: '))\n",
    "n1, n2 = 0, 1\n",
    "series = [0,1]\n",
    "if num < 0:    \n",
    "    print(\"Enter a positive value.\")\n",
    "elif num == 0:    \n",
    "    print(\"The sequence is: \",end = \"\")    \n",
    "    print(n1)\n",
    "elif num == 1:    \n",
    "    print(\"The sequence is: \",end = \"\")    \n",
    "    print(n1, n2)\n",
    "else:    \n",
    "        for i in range(2,num):        \n",
    "            a = series[i-2]+series[i-1]        \n",
    "            series.append(a)    \n",
    "            print(\"The sequence is: \",end = \"\")    \n",
    "            print(series)\n"
   ]
  },
  {
   "cell_type": "code",
   "execution_count": null,
   "id": "249a8690",
   "metadata": {},
   "outputs": [],
   "source": [
    "#9th\n",
    "d={'Key1':[[1,2],[3,4],[9,0]],'Key2':[[5,7],['abc','efg']]}"
   ]
  },
  {
   "cell_type": "code",
   "execution_count": 18,
   "id": "4faba45e",
   "metadata": {},
   "outputs": [
    {
     "name": "stdout",
     "output_type": "stream",
     "text": [
      "{1, 2, 3, 4, 5, 456, 78}\n",
      "{1, 2}\n"
     ]
    }
   ],
   "source": [
    "#10TH\n",
    "set1 = {1,2,4,5}\n",
    "set2 = {3,456,78,2,1}\n",
    "\n",
    "print(set1.union(set2))\n",
    "print(set1.intersection(set2))\n"
   ]
  },
  {
   "cell_type": "code",
   "execution_count": 19,
   "id": "839387f1",
   "metadata": {},
   "outputs": [],
   "source": [
    "#11th\n",
    "d = {\n",
    "    \"key1\":(1,(2,3),(4,5)),\n",
    "     \"key2\":((\"a\",\"b\"),(True,False))\n",
    "    }\n"
   ]
  },
  {
   "cell_type": "code",
   "execution_count": 20,
   "id": "c54f2046",
   "metadata": {},
   "outputs": [
    {
     "name": "stdout",
     "output_type": "stream",
     "text": [
      "{'key1': (1, (2, 3), (4, 5)), 'key2': (('a', 'b'), (True, False))}\n"
     ]
    }
   ],
   "source": [
    "print(d)"
   ]
  },
  {
   "cell_type": "code",
   "execution_count": 22,
   "id": "d24e53f0",
   "metadata": {},
   "outputs": [
    {
     "name": "stdout",
     "output_type": "stream",
     "text": [
      "[0, 2, 4, 6, 8, 10, 12, 14, 16, 18, 20, 22, 24, 26, 28, 30, 32, 34, 36, 38, 40, 42, 44, 46, 48, 50, 52, 54, 56, 58, 60, 62, 64, 66, 68, 70, 72, 74, 76, 78, 80, 82, 84, 86, 88, 90, 92, 94, 96, 98]\n"
     ]
    }
   ],
   "source": [
    "#12th\n",
    "l=[]\n",
    "for i in range(0,100,2):\n",
    "    l.append(i)\n",
    "print(l)\n",
    "    "
   ]
  },
  {
   "cell_type": "code",
   "execution_count": 23,
   "id": "baf39713",
   "metadata": {},
   "outputs": [
    {
     "data": {
      "text/plain": [
       "50"
      ]
     },
     "execution_count": 23,
     "metadata": {},
     "output_type": "execute_result"
    }
   ],
   "source": [
    "len(l)"
   ]
  },
  {
   "cell_type": "code",
   "execution_count": 24,
   "id": "22423ebf",
   "metadata": {},
   "outputs": [],
   "source": [
    "l.reverse()"
   ]
  },
  {
   "cell_type": "code",
   "execution_count": 25,
   "id": "11b6ae07",
   "metadata": {},
   "outputs": [
    {
     "name": "stdout",
     "output_type": "stream",
     "text": [
      "[98, 96, 94, 92, 90, 88, 86, 84, 82, 80, 78, 76, 74, 72, 70, 68, 66, 64, 62, 60, 58, 56, 54, 52, 50, 48, 46, 44, 42, 40, 38, 36, 34, 32, 30, 28, 26, 24, 22, 20, 18, 16, 14, 12, 10, 8, 6, 4, 2, 0]\n"
     ]
    }
   ],
   "source": [
    "print(l)"
   ]
  },
  {
   "cell_type": "code",
   "execution_count": 26,
   "id": "526f45a1",
   "metadata": {},
   "outputs": [],
   "source": [
    "l.sort()"
   ]
  },
  {
   "cell_type": "code",
   "execution_count": 27,
   "id": "ffb11c28",
   "metadata": {},
   "outputs": [
    {
     "name": "stdout",
     "output_type": "stream",
     "text": [
      "[0, 2, 4, 6, 8, 10, 12, 14, 16, 18, 20, 22, 24, 26, 28, 30, 32, 34, 36, 38, 40, 42, 44, 46, 48, 50, 52, 54, 56, 58, 60, 62, 64, 66, 68, 70, 72, 74, 76, 78, 80, 82, 84, 86, 88, 90, 92, 94, 96, 98]\n"
     ]
    }
   ],
   "source": [
    "print(l)"
   ]
  },
  {
   "cell_type": "code",
   "execution_count": 28,
   "id": "a37a3ab1",
   "metadata": {},
   "outputs": [],
   "source": [
    "l[22]=100"
   ]
  },
  {
   "cell_type": "code",
   "execution_count": 29,
   "id": "94edaf94",
   "metadata": {},
   "outputs": [
    {
     "name": "stdout",
     "output_type": "stream",
     "text": [
      "[0, 2, 4, 6, 8, 10, 12, 14, 16, 18, 20, 22, 24, 26, 28, 30, 32, 34, 36, 38, 40, 42, 100, 46, 48, 50, 52, 54, 56, 58, 60, 62, 64, 66, 68, 70, 72, 74, 76, 78, 80, 82, 84, 86, 88, 90, 92, 94, 96, 98]\n"
     ]
    }
   ],
   "source": [
    "print(l)"
   ]
  },
  {
   "cell_type": "code",
   "execution_count": 30,
   "id": "5560240e",
   "metadata": {},
   "outputs": [
    {
     "data": {
      "text/plain": [
       "[0,\n",
       " 4,\n",
       " 16,\n",
       " 36,\n",
       " 64,\n",
       " 100,\n",
       " 144,\n",
       " 196,\n",
       " 256,\n",
       " 324,\n",
       " 400,\n",
       " 484,\n",
       " 576,\n",
       " 676,\n",
       " 784,\n",
       " 900,\n",
       " 1024,\n",
       " 1156,\n",
       " 1296,\n",
       " 1444,\n",
       " 1600,\n",
       " 1764,\n",
       " 10000,\n",
       " 2116,\n",
       " 2304,\n",
       " 2500,\n",
       " 2704,\n",
       " 2916,\n",
       " 3136,\n",
       " 3364,\n",
       " 3600,\n",
       " 3844,\n",
       " 4096,\n",
       " 4356,\n",
       " 4624,\n",
       " 4900,\n",
       " 5184,\n",
       " 5476,\n",
       " 5776,\n",
       " 6084,\n",
       " 6400,\n",
       " 6724,\n",
       " 7056,\n",
       " 7396,\n",
       " 7744,\n",
       " 8100,\n",
       " 8464,\n",
       " 8836,\n",
       " 9216,\n",
       " 9604]"
      ]
     },
     "execution_count": 30,
     "metadata": {},
     "output_type": "execute_result"
    }
   ],
   "source": [
    "[i*i for i in l]"
   ]
  },
  {
   "cell_type": "code",
   "execution_count": 35,
   "id": "2fd5f88a",
   "metadata": {},
   "outputs": [],
   "source": [
    "#13\n",
    "d={'dictA':{\"k_1\":\"value1\"},'dictB':{\"k_2\":\"Value2\"}}\n"
   ]
  },
  {
   "cell_type": "code",
   "execution_count": 36,
   "id": "bf0f58fd",
   "metadata": {},
   "outputs": [
    {
     "data": {
      "text/plain": [
       "[('dictA', {'k_1': 'value1'}), ('dictB', {'k_2': 'Value2'})]"
      ]
     },
     "execution_count": 36,
     "metadata": {},
     "output_type": "execute_result"
    }
   ],
   "source": [
    "list(d.items())"
   ]
  },
  {
   "cell_type": "code",
   "execution_count": 38,
   "id": "7869b93d",
   "metadata": {},
   "outputs": [],
   "source": [
    "w=list(d.keys())"
   ]
  },
  {
   "cell_type": "code",
   "execution_count": 39,
   "id": "349f26c8",
   "metadata": {},
   "outputs": [
    {
     "data": {
      "text/plain": [
       "['dictA', 'dictB']"
      ]
     },
     "execution_count": 39,
     "metadata": {},
     "output_type": "execute_result"
    }
   ],
   "source": [
    "w"
   ]
  },
  {
   "cell_type": "code",
   "execution_count": 40,
   "id": "eeda6076",
   "metadata": {},
   "outputs": [
    {
     "data": {
      "text/plain": [
       "{'k_1': 'value1'}"
      ]
     },
     "execution_count": 40,
     "metadata": {},
     "output_type": "execute_result"
    }
   ],
   "source": [
    "d.pop(w[0])"
   ]
  },
  {
   "cell_type": "code",
   "execution_count": 41,
   "id": "34ccb220",
   "metadata": {},
   "outputs": [
    {
     "data": {
      "text/plain": [
       "{'k_2': 'Value2'}"
      ]
     },
     "execution_count": 41,
     "metadata": {},
     "output_type": "execute_result"
    }
   ],
   "source": [
    "d.pop(w[1])"
   ]
  },
  {
   "cell_type": "code",
   "execution_count": null,
   "id": "28ee3b8a",
   "metadata": {},
   "outputs": [],
   "source": []
  }
 ],
 "metadata": {
  "kernelspec": {
   "display_name": "Python 3 (ipykernel)",
   "language": "python",
   "name": "python3"
  },
  "language_info": {
   "codemirror_mode": {
    "name": "ipython",
    "version": 3
   },
   "file_extension": ".py",
   "mimetype": "text/x-python",
   "name": "python",
   "nbconvert_exporter": "python",
   "pygments_lexer": "ipython3",
   "version": "3.9.7"
  }
 },
 "nbformat": 4,
 "nbformat_minor": 5
}
