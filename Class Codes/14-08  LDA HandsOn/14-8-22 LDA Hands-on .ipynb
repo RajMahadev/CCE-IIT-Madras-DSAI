{
 "cells": [
  {
   "cell_type": "code",
   "execution_count": 1,
   "metadata": {
    "id": "wHEEiIxSqvhv"
   },
   "outputs": [],
   "source": [
    "import numpy as np\n",
    "import pandas as pd\n",
    "import matplotlib.pyplot as plt\n",
    "from sklearn import datasets\n",
    "from sklearn.preprocessing import StandardScaler\n",
    "from sklearn.discriminant_analysis import LinearDiscriminantAnalysis\n",
    "from sklearn.model_selection import train_test_split"
   ]
  },
  {
   "cell_type": "code",
   "execution_count": 2,
   "metadata": {},
   "outputs": [],
   "source": [
    "#mnist handwritten digits dataset"
   ]
  },
  {
   "cell_type": "code",
   "execution_count": 3,
   "metadata": {},
   "outputs": [
    {
     "data": {
      "text/plain": [
       "['__all__',\n",
       " '__builtins__',\n",
       " '__cached__',\n",
       " '__doc__',\n",
       " '__file__',\n",
       " '__loader__',\n",
       " '__name__',\n",
       " '__package__',\n",
       " '__path__',\n",
       " '__spec__',\n",
       " '_base',\n",
       " '_california_housing',\n",
       " '_covtype',\n",
       " '_kddcup99',\n",
       " '_lfw',\n",
       " '_olivetti_faces',\n",
       " '_openml',\n",
       " '_rcv1',\n",
       " '_samples_generator',\n",
       " '_species_distributions',\n",
       " '_svmlight_format_fast',\n",
       " '_svmlight_format_io',\n",
       " '_twenty_newsgroups',\n",
       " 'clear_data_home',\n",
       " 'dump_svmlight_file',\n",
       " 'fetch_20newsgroups',\n",
       " 'fetch_20newsgroups_vectorized',\n",
       " 'fetch_california_housing',\n",
       " 'fetch_covtype',\n",
       " 'fetch_kddcup99',\n",
       " 'fetch_lfw_pairs',\n",
       " 'fetch_lfw_people',\n",
       " 'fetch_olivetti_faces',\n",
       " 'fetch_openml',\n",
       " 'fetch_rcv1',\n",
       " 'fetch_species_distributions',\n",
       " 'get_data_home',\n",
       " 'load_boston',\n",
       " 'load_breast_cancer',\n",
       " 'load_diabetes',\n",
       " 'load_digits',\n",
       " 'load_files',\n",
       " 'load_iris',\n",
       " 'load_linnerud',\n",
       " 'load_sample_image',\n",
       " 'load_sample_images',\n",
       " 'load_svmlight_file',\n",
       " 'load_svmlight_files',\n",
       " 'load_wine',\n",
       " 'make_biclusters',\n",
       " 'make_blobs',\n",
       " 'make_checkerboard',\n",
       " 'make_circles',\n",
       " 'make_classification',\n",
       " 'make_friedman1',\n",
       " 'make_friedman2',\n",
       " 'make_friedman3',\n",
       " 'make_gaussian_quantiles',\n",
       " 'make_hastie_10_2',\n",
       " 'make_low_rank_matrix',\n",
       " 'make_moons',\n",
       " 'make_multilabel_classification',\n",
       " 'make_regression',\n",
       " 'make_s_curve',\n",
       " 'make_sparse_coded_signal',\n",
       " 'make_sparse_spd_matrix',\n",
       " 'make_sparse_uncorrelated',\n",
       " 'make_spd_matrix',\n",
       " 'make_swiss_roll']"
      ]
     },
     "execution_count": 3,
     "metadata": {},
     "output_type": "execute_result"
    }
   ],
   "source": [
    "dir(datasets)"
   ]
  },
  {
   "cell_type": "code",
   "execution_count": 4,
   "metadata": {
    "id": "LDk8tQslVC3t"
   },
   "outputs": [],
   "source": [
    "digits = datasets.load_digits()"
   ]
  },
  {
   "cell_type": "code",
   "execution_count": 5,
   "metadata": {
    "id": "tCcgw274BshV"
   },
   "outputs": [
    {
     "data": {
      "text/plain": [
       "{'data': array([[ 0.,  0.,  5., ...,  0.,  0.,  0.],\n",
       "        [ 0.,  0.,  0., ..., 10.,  0.,  0.],\n",
       "        [ 0.,  0.,  0., ..., 16.,  9.,  0.],\n",
       "        ...,\n",
       "        [ 0.,  0.,  1., ...,  6.,  0.,  0.],\n",
       "        [ 0.,  0.,  2., ..., 12.,  0.,  0.],\n",
       "        [ 0.,  0., 10., ..., 12.,  1.,  0.]]),\n",
       " 'target': array([0, 1, 2, ..., 8, 9, 8]),\n",
       " 'frame': None,\n",
       " 'feature_names': ['pixel_0_0',\n",
       "  'pixel_0_1',\n",
       "  'pixel_0_2',\n",
       "  'pixel_0_3',\n",
       "  'pixel_0_4',\n",
       "  'pixel_0_5',\n",
       "  'pixel_0_6',\n",
       "  'pixel_0_7',\n",
       "  'pixel_1_0',\n",
       "  'pixel_1_1',\n",
       "  'pixel_1_2',\n",
       "  'pixel_1_3',\n",
       "  'pixel_1_4',\n",
       "  'pixel_1_5',\n",
       "  'pixel_1_6',\n",
       "  'pixel_1_7',\n",
       "  'pixel_2_0',\n",
       "  'pixel_2_1',\n",
       "  'pixel_2_2',\n",
       "  'pixel_2_3',\n",
       "  'pixel_2_4',\n",
       "  'pixel_2_5',\n",
       "  'pixel_2_6',\n",
       "  'pixel_2_7',\n",
       "  'pixel_3_0',\n",
       "  'pixel_3_1',\n",
       "  'pixel_3_2',\n",
       "  'pixel_3_3',\n",
       "  'pixel_3_4',\n",
       "  'pixel_3_5',\n",
       "  'pixel_3_6',\n",
       "  'pixel_3_7',\n",
       "  'pixel_4_0',\n",
       "  'pixel_4_1',\n",
       "  'pixel_4_2',\n",
       "  'pixel_4_3',\n",
       "  'pixel_4_4',\n",
       "  'pixel_4_5',\n",
       "  'pixel_4_6',\n",
       "  'pixel_4_7',\n",
       "  'pixel_5_0',\n",
       "  'pixel_5_1',\n",
       "  'pixel_5_2',\n",
       "  'pixel_5_3',\n",
       "  'pixel_5_4',\n",
       "  'pixel_5_5',\n",
       "  'pixel_5_6',\n",
       "  'pixel_5_7',\n",
       "  'pixel_6_0',\n",
       "  'pixel_6_1',\n",
       "  'pixel_6_2',\n",
       "  'pixel_6_3',\n",
       "  'pixel_6_4',\n",
       "  'pixel_6_5',\n",
       "  'pixel_6_6',\n",
       "  'pixel_6_7',\n",
       "  'pixel_7_0',\n",
       "  'pixel_7_1',\n",
       "  'pixel_7_2',\n",
       "  'pixel_7_3',\n",
       "  'pixel_7_4',\n",
       "  'pixel_7_5',\n",
       "  'pixel_7_6',\n",
       "  'pixel_7_7'],\n",
       " 'target_names': array([0, 1, 2, 3, 4, 5, 6, 7, 8, 9]),\n",
       " 'images': array([[[ 0.,  0.,  5., ...,  1.,  0.,  0.],\n",
       "         [ 0.,  0., 13., ..., 15.,  5.,  0.],\n",
       "         [ 0.,  3., 15., ..., 11.,  8.,  0.],\n",
       "         ...,\n",
       "         [ 0.,  4., 11., ..., 12.,  7.,  0.],\n",
       "         [ 0.,  2., 14., ..., 12.,  0.,  0.],\n",
       "         [ 0.,  0.,  6., ...,  0.,  0.,  0.]],\n",
       " \n",
       "        [[ 0.,  0.,  0., ...,  5.,  0.,  0.],\n",
       "         [ 0.,  0.,  0., ...,  9.,  0.,  0.],\n",
       "         [ 0.,  0.,  3., ...,  6.,  0.,  0.],\n",
       "         ...,\n",
       "         [ 0.,  0.,  1., ...,  6.,  0.,  0.],\n",
       "         [ 0.,  0.,  1., ...,  6.,  0.,  0.],\n",
       "         [ 0.,  0.,  0., ..., 10.,  0.,  0.]],\n",
       " \n",
       "        [[ 0.,  0.,  0., ..., 12.,  0.,  0.],\n",
       "         [ 0.,  0.,  3., ..., 14.,  0.,  0.],\n",
       "         [ 0.,  0.,  8., ..., 16.,  0.,  0.],\n",
       "         ...,\n",
       "         [ 0.,  9., 16., ...,  0.,  0.,  0.],\n",
       "         [ 0.,  3., 13., ..., 11.,  5.,  0.],\n",
       "         [ 0.,  0.,  0., ..., 16.,  9.,  0.]],\n",
       " \n",
       "        ...,\n",
       " \n",
       "        [[ 0.,  0.,  1., ...,  1.,  0.,  0.],\n",
       "         [ 0.,  0., 13., ...,  2.,  1.,  0.],\n",
       "         [ 0.,  0., 16., ..., 16.,  5.,  0.],\n",
       "         ...,\n",
       "         [ 0.,  0., 16., ..., 15.,  0.,  0.],\n",
       "         [ 0.,  0., 15., ..., 16.,  0.,  0.],\n",
       "         [ 0.,  0.,  2., ...,  6.,  0.,  0.]],\n",
       " \n",
       "        [[ 0.,  0.,  2., ...,  0.,  0.,  0.],\n",
       "         [ 0.,  0., 14., ..., 15.,  1.,  0.],\n",
       "         [ 0.,  4., 16., ..., 16.,  7.,  0.],\n",
       "         ...,\n",
       "         [ 0.,  0.,  0., ..., 16.,  2.,  0.],\n",
       "         [ 0.,  0.,  4., ..., 16.,  2.,  0.],\n",
       "         [ 0.,  0.,  5., ..., 12.,  0.,  0.]],\n",
       " \n",
       "        [[ 0.,  0., 10., ...,  1.,  0.,  0.],\n",
       "         [ 0.,  2., 16., ...,  1.,  0.,  0.],\n",
       "         [ 0.,  0., 15., ..., 15.,  0.,  0.],\n",
       "         ...,\n",
       "         [ 0.,  4., 16., ..., 16.,  6.,  0.],\n",
       "         [ 0.,  8., 16., ..., 16.,  8.,  0.],\n",
       "         [ 0.,  1.,  8., ..., 12.,  1.,  0.]]]),\n",
       " 'DESCR': \".. _digits_dataset:\\n\\nOptical recognition of handwritten digits dataset\\n--------------------------------------------------\\n\\n**Data Set Characteristics:**\\n\\n    :Number of Instances: 1797\\n    :Number of Attributes: 64\\n    :Attribute Information: 8x8 image of integer pixels in the range 0..16.\\n    :Missing Attribute Values: None\\n    :Creator: E. Alpaydin (alpaydin '@' boun.edu.tr)\\n    :Date: July; 1998\\n\\nThis is a copy of the test set of the UCI ML hand-written digits datasets\\nhttps://archive.ics.uci.edu/ml/datasets/Optical+Recognition+of+Handwritten+Digits\\n\\nThe data set contains images of hand-written digits: 10 classes where\\neach class refers to a digit.\\n\\nPreprocessing programs made available by NIST were used to extract\\nnormalized bitmaps of handwritten digits from a preprinted form. From a\\ntotal of 43 people, 30 contributed to the training set and different 13\\nto the test set. 32x32 bitmaps are divided into nonoverlapping blocks of\\n4x4 and the number of on pixels are counted in each block. This generates\\nan input matrix of 8x8 where each element is an integer in the range\\n0..16. This reduces dimensionality and gives invariance to small\\ndistortions.\\n\\nFor info on NIST preprocessing routines, see M. D. Garris, J. L. Blue, G.\\nT. Candela, D. L. Dimmick, J. Geist, P. J. Grother, S. A. Janet, and C.\\nL. Wilson, NIST Form-Based Handprint Recognition System, NISTIR 5469,\\n1994.\\n\\n.. topic:: References\\n\\n  - C. Kaynak (1995) Methods of Combining Multiple Classifiers and Their\\n    Applications to Handwritten Digit Recognition, MSc Thesis, Institute of\\n    Graduate Studies in Science and Engineering, Bogazici University.\\n  - E. Alpaydin, C. Kaynak (1998) Cascading Classifiers, Kybernetika.\\n  - Ken Tang and Ponnuthurai N. Suganthan and Xi Yao and A. Kai Qin.\\n    Linear dimensionalityreduction using relevance weighted LDA. School of\\n    Electrical and Electronic Engineering Nanyang Technological University.\\n    2005.\\n  - Claudio Gentile. A New Approximate Maximal Margin Classification\\n    Algorithm. NIPS. 2000.\\n\"}"
      ]
     },
     "execution_count": 5,
     "metadata": {},
     "output_type": "execute_result"
    }
   ],
   "source": [
    "digits"
   ]
  },
  {
   "cell_type": "code",
   "execution_count": 6,
   "metadata": {
    "colab": {
     "base_uri": "https://localhost:8080/"
    },
    "id": "UIP9bOsBVcq3",
    "outputId": "03540427-75ac-454e-fea0-b6bfa9dfe7ec"
   },
   "outputs": [
    {
     "data": {
      "text/plain": [
       "array([0, 1, 2, ..., 8, 9, 8])"
      ]
     },
     "execution_count": 6,
     "metadata": {},
     "output_type": "execute_result"
    }
   ],
   "source": [
    "digits.target"
   ]
  },
  {
   "cell_type": "code",
   "execution_count": 7,
   "metadata": {
    "colab": {
     "base_uri": "https://localhost:8080/"
    },
    "id": "g4695xMUVeZa",
    "outputId": "3b90fb6e-bd9d-4e5a-bcab-11734745cb08"
   },
   "outputs": [
    {
     "data": {
      "text/plain": [
       "array([0, 1, 2, 3, 4, 5, 6, 7, 8, 9])"
      ]
     },
     "execution_count": 7,
     "metadata": {},
     "output_type": "execute_result"
    }
   ],
   "source": [
    "digits.target_names"
   ]
  },
  {
   "cell_type": "code",
   "execution_count": 8,
   "metadata": {},
   "outputs": [
    {
     "name": "stdout",
     "output_type": "stream",
     "text": [
      "[ 0.  0.  5. 13.  9.  1.  0.  0.  0.  0. 13. 15. 10. 15.  5.  0.  0.  3.\n",
      " 15.  2.  0. 11.  8.  0.  0.  4. 12.  0.  0.  8.  8.  0.  0.  5.  8.  0.\n",
      "  0.  9.  8.  0.  0.  4. 11.  0.  1. 12.  7.  0.  0.  2. 14.  5. 10. 12.\n",
      "  0.  0.  0.  0.  6. 13. 10.  0.  0.  0.]\n",
      "0\n",
      "[ 0.  0.  0. 12. 13.  5.  0.  0.  0.  0.  0. 11. 16.  9.  0.  0.  0.  0.\n",
      "  3. 15. 16.  6.  0.  0.  0.  7. 15. 16. 16.  2.  0.  0.  0.  0.  1. 16.\n",
      " 16.  3.  0.  0.  0.  0.  1. 16. 16.  6.  0.  0.  0.  0.  1. 16. 16.  6.\n",
      "  0.  0.  0.  0.  0. 11. 16. 10.  0.  0.]\n",
      "1\n",
      "[ 0.  0.  0.  4. 15. 12.  0.  0.  0.  0.  3. 16. 15. 14.  0.  0.  0.  0.\n",
      "  8. 13.  8. 16.  0.  0.  0.  0.  1.  6. 15. 11.  0.  0.  0.  1.  8. 13.\n",
      " 15.  1.  0.  0.  0.  9. 16. 16.  5.  0.  0.  0.  0.  3. 13. 16. 16. 11.\n",
      "  5.  0.  0.  0.  0.  3. 11. 16.  9.  0.]\n",
      "2\n",
      "[ 0.  0.  7. 15. 13.  1.  0.  0.  0.  8. 13.  6. 15.  4.  0.  0.  0.  2.\n",
      "  1. 13. 13.  0.  0.  0.  0.  0.  2. 15. 11.  1.  0.  0.  0.  0.  0.  1.\n",
      " 12. 12.  1.  0.  0.  0.  0.  0.  1. 10.  8.  0.  0.  0.  8.  4.  5. 14.\n",
      "  9.  0.  0.  0.  7. 13. 13.  9.  0.  0.]\n",
      "3\n",
      "[ 0.  0.  0.  1. 11.  0.  0.  0.  0.  0.  0.  7.  8.  0.  0.  0.  0.  0.\n",
      "  1. 13.  6.  2.  2.  0.  0.  0.  7. 15.  0.  9.  8.  0.  0.  5. 16. 10.\n",
      "  0. 16.  6.  0.  0.  4. 15. 16. 13. 16.  1.  0.  0.  0.  0.  3. 15. 10.\n",
      "  0.  0.  0.  0.  0.  2. 16.  4.  0.  0.]\n",
      "4\n"
     ]
    }
   ],
   "source": [
    "for image, label in zip(digits.data[0:5], digits.target[0:5]):\n",
    "    print(image)\n",
    "    print(label)"
   ]
  },
  {
   "cell_type": "code",
   "execution_count": 9,
   "metadata": {},
   "outputs": [
    {
     "name": "stdout",
     "output_type": "stream",
     "text": [
      "0\n",
      "ele1\n",
      "1\n",
      "ele2\n",
      "2\n",
      "ele3\n"
     ]
    }
   ],
   "source": [
    "for i,j in enumerate(['ele1','ele2','ele3']):\n",
    "    print(i)\n",
    "    print(j)"
   ]
  },
  {
   "cell_type": "code",
   "execution_count": 10,
   "metadata": {
    "colab": {
     "base_uri": "https://localhost:8080/",
     "height": 118
    },
    "id": "bAMsnzCQBENB",
    "outputId": "3c66409a-cb2b-4fae-dcbd-5087ea0354eb"
   },
   "outputs": [
    {
     "data": {
      "image/png": "[encoded data removed]",
      "text/plain": [
       "<Figure size 1440x288 with 5 Axes>"
      ]
     },
     "metadata": {
      "needs_background": "light"
     },
     "output_type": "display_data"
    }
   ],
   "source": [
    "#Displaying some of the images and labels\n",
    "#import numpy as np\n",
    "#import matplotlib.pyplot as plt\n",
    "\n",
    "plt.figure(figsize=(20,4))\n",
    "for index, (image, label) in enumerate(zip(digits.data[0:5], digits.target[0:5])):\n",
    "    plt.subplot(1,5, index+1)\n",
    "    plt.imshow(np.reshape(image, (8,8)), cmap=plt.cm.gray)\n",
    "    plt.title(f\"Training: {label}\", fontsize=20 )  "
   ]
  },
  {
   "cell_type": "code",
   "execution_count": 11,
   "metadata": {},
   "outputs": [],
   "source": [
    "#digits.target[0:5]"
   ]
  },
  {
   "cell_type": "code",
   "execution_count": 12,
   "metadata": {
    "colab": {
     "base_uri": "https://localhost:8080/"
    },
    "id": "nvN4PcYBVpBL",
    "outputId": "092b9ec7-2f91-46f1-dd39-8654b046cbe4"
   },
   "outputs": [],
   "source": [
    "#digits.data[0:5]"
   ]
  },
  {
   "cell_type": "code",
   "execution_count": 13,
   "metadata": {
    "colab": {
     "base_uri": "https://localhost:8080/"
    },
    "id": "2s9V2yd2XNBa",
    "outputId": "6d6a9b25-f76f-4ca2-a22a-aa32ae5e644b"
   },
   "outputs": [
    {
     "data": {
      "text/plain": [
       "(1797, 64)"
      ]
     },
     "execution_count": 13,
     "metadata": {},
     "output_type": "execute_result"
    }
   ],
   "source": [
    "X = digits.data\n",
    "y = digits.target\n",
    "\n",
    "X.shape"
   ]
  },
  {
   "cell_type": "code",
   "execution_count": 14,
   "metadata": {},
   "outputs": [
    {
     "data": {
      "text/plain": [
       "(1797,)"
      ]
     },
     "execution_count": 14,
     "metadata": {},
     "output_type": "execute_result"
    }
   ],
   "source": [
    "y.shape"
   ]
  },
  {
   "cell_type": "code",
   "execution_count": 15,
   "metadata": {
    "id": "awEeZMkHYJ4A"
   },
   "outputs": [],
   "source": [
    "#splitting the data \n",
    "X_train, X_test, y_train, y_test = train_test_split(X, y, test_size=0.2, random_state=34)"
   ]
  },
  {
   "cell_type": "code",
   "execution_count": 16,
   "metadata": {},
   "outputs": [
    {
     "data": {
      "text/plain": [
       "array([5, 9, 2, ..., 6, 9, 6])"
      ]
     },
     "execution_count": 16,
     "metadata": {},
     "output_type": "execute_result"
    }
   ],
   "source": [
    "y_train"
   ]
  },
  {
   "cell_type": "code",
   "execution_count": 17,
   "metadata": {},
   "outputs": [],
   "source": [
    "#fit()- train the model-- feeding the values to the model\n",
    "#fit_transform()-- combination of fit() and transform()\n",
    "#transform()-- just to apply the changes on the data"
   ]
  },
  {
   "cell_type": "code",
   "execution_count": 18,
   "metadata": {},
   "outputs": [],
   "source": [
    "#x_train- 80% of the features\n",
    "#x_test- 20% of the features"
   ]
  },
  {
   "cell_type": "code",
   "execution_count": 19,
   "metadata": {
    "colab": {
     "base_uri": "https://localhost:8080/"
    },
    "id": "Sc6FmD6rWFBR",
    "outputId": "9c4f6f89-446e-4ca0-d635-c41ab287f83a"
   },
   "outputs": [
    {
     "data": {
      "text/plain": [
       "(1437, 64)"
      ]
     },
     "execution_count": 19,
     "metadata": {},
     "output_type": "execute_result"
    }
   ],
   "source": [
    "#feature Scaling\n",
    "sc = StandardScaler()\n",
    "X_train = sc.fit_transform(X_train)# i am feeding the Xtrain value to the sc object, after feeding the values,\n",
    "#i am transforming the values in xtrain only\n",
    "X_test = sc.transform(X_test)\n",
    "\n",
    "X_train.shape"
   ]
  },
  {
   "cell_type": "code",
   "execution_count": 20,
   "metadata": {},
   "outputs": [
    {
     "data": {
      "text/plain": [
       "RandomForestClassifier(random_state=42)"
      ]
     },
     "execution_count": 20,
     "metadata": {},
     "output_type": "execute_result"
    }
   ],
   "source": [
    "from sklearn.ensemble import RandomForestClassifier\n",
    "\n",
    "rf = RandomForestClassifier(n_estimators=100, random_state=42)\n",
    "rf.fit(X_train, y_train)"
   ]
  },
  {
   "cell_type": "code",
   "execution_count": 21,
   "metadata": {
    "scrolled": true
   },
   "outputs": [
    {
     "data": {
      "text/plain": [
       "array([5, 3, 2, 6, 2, 2, 7, 3, 0, 8, 7, 7, 5, 5, 8, 0, 4, 2, 0, 2, 1, 8,\n",
       "       6, 1, 6, 7, 1, 1, 3, 1, 8, 2, 8, 3, 3, 7, 6, 5, 1, 4, 4, 6, 8, 6,\n",
       "       6, 1, 4, 9, 5, 0, 9, 8, 7, 6, 0, 6, 8, 3, 4, 9, 4, 1, 9, 2, 3, 4,\n",
       "       9, 5, 9, 0, 1, 2, 9, 7, 3, 9, 5, 7, 0, 2, 4, 3, 4, 4, 8, 0, 3, 7,\n",
       "       4, 8, 1, 7, 3, 2, 5, 3, 8, 8, 6, 3, 5, 5, 6, 8, 2, 8, 6, 7, 9, 7,\n",
       "       4, 6, 1, 1, 2, 6, 0, 6, 9, 7, 2, 8, 9, 1, 9, 1, 0, 0, 4, 5, 0, 4,\n",
       "       9, 4, 5, 2, 3, 0, 9, 4, 2, 8, 4, 2, 7, 1, 9, 1, 1, 3, 5, 5, 5, 0,\n",
       "       2, 3, 8, 3, 1, 8, 8, 5, 0, 5, 5, 4, 2, 4, 9, 6, 1, 0, 4, 1, 0, 0,\n",
       "       8, 6, 0, 4, 8, 0, 0, 2, 4, 8, 2, 0, 3, 6, 5, 1, 3, 4, 4, 2, 8, 2,\n",
       "       1, 4, 8, 6, 9, 9, 8, 9, 6, 1, 2, 3, 3, 6, 1, 4, 1, 0, 5, 7, 8, 9,\n",
       "       9, 9, 6, 2, 3, 7, 5, 4, 0, 3, 6, 4, 5, 1, 8, 0, 8, 6, 2, 0, 1, 9,\n",
       "       2, 1, 4, 1, 8, 9, 3, 5, 4, 8, 4, 4, 3, 9, 8, 8, 6, 4, 9, 7, 5, 4,\n",
       "       9, 5, 2, 4, 3, 3, 5, 8, 3, 8, 3, 5, 9, 7, 5, 1, 0, 3, 2, 3, 7, 3,\n",
       "       3, 0, 9, 3, 8, 0, 9, 8, 7, 6, 2, 6, 7, 1, 5, 2, 0, 7, 8, 6, 4, 6,\n",
       "       3, 0, 2, 7, 5, 6, 3, 5, 4, 1, 3, 1, 8, 0, 9, 3, 3, 8, 1, 3, 1, 4,\n",
       "       5, 2, 6, 0, 8, 3, 3, 6, 3, 8, 7, 1, 0, 5, 1, 6, 5, 4, 0, 1, 0, 7,\n",
       "       3, 4, 4, 6, 0, 5, 3, 8])"
      ]
     },
     "execution_count": 21,
     "metadata": {},
     "output_type": "execute_result"
    }
   ],
   "source": [
    "y_pred = rf.predict(X_test)\n",
    "y_pred"
   ]
  },
  {
   "cell_type": "code",
   "execution_count": 22,
   "metadata": {},
   "outputs": [
    {
     "data": {
      "text/plain": [
       "array([5, 3, 2, 6, 2, 2, 7, 3, 0, 8, 7, 7, 5, 5, 8, 0, 4, 2, 0, 2, 1, 8,\n",
       "       6, 1, 6, 7, 1, 1, 3, 1, 8, 2, 8, 3, 3, 7, 6, 5, 1, 4, 4, 6, 8, 6,\n",
       "       6, 1, 4, 9, 5, 0, 9, 8, 7, 6, 0, 6, 8, 3, 4, 3, 4, 1, 9, 2, 3, 4,\n",
       "       9, 5, 9, 0, 1, 2, 9, 7, 3, 9, 5, 7, 0, 2, 4, 3, 4, 4, 3, 0, 3, 7,\n",
       "       4, 8, 1, 7, 3, 2, 5, 3, 8, 8, 6, 3, 5, 5, 6, 8, 2, 8, 6, 7, 9, 7,\n",
       "       4, 6, 1, 1, 2, 6, 0, 6, 9, 7, 2, 5, 9, 1, 9, 1, 0, 0, 4, 5, 0, 4,\n",
       "       9, 4, 5, 2, 3, 0, 9, 4, 2, 8, 4, 2, 7, 1, 9, 1, 1, 3, 5, 5, 5, 0,\n",
       "       2, 3, 8, 3, 1, 8, 8, 5, 0, 5, 5, 4, 2, 4, 3, 6, 1, 0, 4, 1, 0, 0,\n",
       "       8, 6, 0, 4, 8, 0, 0, 2, 4, 8, 2, 0, 3, 6, 5, 1, 3, 4, 4, 2, 8, 2,\n",
       "       1, 4, 8, 6, 9, 9, 8, 9, 5, 8, 2, 3, 3, 6, 1, 4, 1, 0, 5, 7, 8, 9,\n",
       "       9, 9, 6, 2, 3, 7, 5, 4, 0, 3, 6, 4, 5, 1, 8, 0, 8, 6, 2, 0, 1, 9,\n",
       "       2, 1, 6, 1, 8, 9, 3, 5, 4, 8, 4, 4, 8, 9, 8, 8, 6, 4, 3, 7, 5, 4,\n",
       "       9, 5, 2, 4, 3, 3, 5, 8, 3, 8, 3, 5, 9, 7, 5, 1, 0, 3, 2, 3, 7, 3,\n",
       "       3, 0, 5, 3, 8, 0, 9, 8, 7, 6, 2, 6, 7, 1, 5, 2, 0, 7, 8, 6, 4, 6,\n",
       "       3, 0, 2, 7, 5, 6, 3, 5, 4, 1, 3, 1, 8, 0, 9, 3, 3, 8, 1, 3, 1, 4,\n",
       "       5, 2, 6, 0, 8, 3, 3, 6, 9, 8, 7, 1, 0, 5, 1, 6, 5, 0, 0, 1, 0, 7,\n",
       "       3, 4, 4, 6, 0, 5, 3, 8])"
      ]
     },
     "execution_count": 22,
     "metadata": {},
     "output_type": "execute_result"
    }
   ],
   "source": [
    "y_test"
   ]
  },
  {
   "cell_type": "code",
   "execution_count": 23,
   "metadata": {},
   "outputs": [],
   "source": [
    "from sklearn.metrics import accuracy_score, classification_report, confusion_matrix\n",
    "\n",
    "acc = accuracy_score(y_test, y_pred)"
   ]
  },
  {
   "cell_type": "code",
   "execution_count": null,
   "metadata": {},
   "outputs": [],
   "source": [
    "acc"
   ]
  },
  {
   "cell_type": "code",
   "execution_count": 26,
   "metadata": {
    "colab": {
     "base_uri": "https://localhost:8080/"
    },
    "id": "GVrhiMRGWGZx",
    "outputId": "b7e97ee7-ba31-4d70-ef3c-00321bccf93f"
   },
   "outputs": [
    {
     "data": {
      "text/plain": [
       "(1437, 9)"
      ]
     },
     "execution_count": 26,
     "metadata": {},
     "output_type": "execute_result"
    }
   ],
   "source": [
    "#LDA\n",
    "lda = LinearDiscriminantAnalysis(n_components=9)\n",
    "X_train = lda.fit_transform(X_train, y_train)\n",
    "X_test = lda.transform(X_test) \n",
    "X_train.shape"
   ]
  },
  {
   "cell_type": "code",
   "execution_count": 28,
   "metadata": {},
   "outputs": [
    {
     "data": {
      "text/plain": [
       "<matplotlib.image.AxesImage at 0x1ff9b0b9250>"
      ]
     },
     "execution_count": 28,
     "metadata": {},
     "output_type": "execute_result"
    },
    {
     "data": {
      "image/png": "[encoded data removed]",
      "text/plain": [
       "<Figure size 432x288 with 1 Axes>"
      ]
     },
     "metadata": {
      "needs_background": "light"
     },
     "output_type": "display_data"
    }
   ],
   "source": [
    "plt.imshow(np.reshape(X_train[1], (3,3)), cmap=plt.cm.gray)"
   ]
  },
  {
   "cell_type": "code",
   "execution_count": 29,
   "metadata": {},
   "outputs": [
    {
     "data": {
      "text/plain": [
       "array([ 0.26817836,  2.38445762,  0.85478075, -3.95333804, -0.61641241,\n",
       "       -0.17308888,  0.35400743, -0.46040748, -0.06224327])"
      ]
     },
     "execution_count": 29,
     "metadata": {},
     "output_type": "execute_result"
    }
   ],
   "source": [
    "X_train[0]"
   ]
  },
  {
   "cell_type": "code",
   "execution_count": 30,
   "metadata": {},
   "outputs": [
    {
     "data": {
      "text/plain": [
       "array([[ 0.26817836,  2.38445762,  0.85478075, ...,  0.35400743,\n",
       "        -0.46040748, -0.06224327],\n",
       "       [ 0.93375203,  0.69151537,  1.8879891 , ..., -0.07044064,\n",
       "         2.04126735,  0.8936843 ],\n",
       "       [ 4.69508194, -3.09413291, -1.6885823 , ..., -0.62528657,\n",
       "        -0.31015128,  0.31123107],\n",
       "       ...,\n",
       "       [-4.138023  , -2.11108426, -2.64799518, ...,  0.49374305,\n",
       "         0.33872172, -0.02081878],\n",
       "       [ 3.46127737,  1.22408742,  0.87902174, ...,  0.47060545,\n",
       "         0.28372556, -0.03812993],\n",
       "       [-3.55515742, -0.6198338 , -2.49086808, ...,  0.63585108,\n",
       "        -0.04334568, -0.01364586]])"
      ]
     },
     "execution_count": 30,
     "metadata": {},
     "output_type": "execute_result"
    }
   ],
   "source": [
    "X_train"
   ]
  },
  {
   "cell_type": "code",
   "execution_count": 31,
   "metadata": {
    "colab": {
     "base_uri": "https://localhost:8080/"
    },
    "id": "mlpXbATUWH0H",
    "outputId": "9ea7ffa4-b0af-46fc-9de8-b7d9d37680ad"
   },
   "outputs": [
    {
     "data": {
      "text/plain": [
       "RandomForestClassifier(random_state=42)"
      ]
     },
     "execution_count": 31,
     "metadata": {},
     "output_type": "execute_result"
    }
   ],
   "source": [
    "#model Building \n",
    "from sklearn.ensemble import RandomForestClassifier\n",
    "\n",
    "rf1 = RandomForestClassifier(n_estimators=100, random_state=42)\n",
    "rf1.fit(X_train, y_train)"
   ]
  },
  {
   "cell_type": "code",
   "execution_count": 32,
   "metadata": {
    "id": "jE29yzskWJtx"
   },
   "outputs": [],
   "source": [
    "#prediction\n",
    "y_pred1 = rf1.predict(X_test)"
   ]
  },
  {
   "cell_type": "code",
   "execution_count": 33,
   "metadata": {
    "scrolled": true
   },
   "outputs": [
    {
     "data": {
      "text/plain": [
       "array([5, 3, 2, 6, 2, 2, 7, 3, 0, 8, 7, 7, 5, 5, 8, 0, 4, 2, 0, 2, 1, 8,\n",
       "       6, 1, 6, 7, 1, 8, 3, 1, 8, 2, 8, 3, 3, 7, 6, 5, 1, 4, 4, 6, 8, 6,\n",
       "       6, 1, 4, 9, 9, 0, 9, 8, 7, 6, 0, 6, 8, 3, 4, 3, 8, 1, 9, 2, 3, 4,\n",
       "       9, 5, 4, 0, 1, 2, 8, 7, 3, 9, 5, 7, 0, 2, 4, 3, 4, 4, 3, 0, 3, 7,\n",
       "       4, 8, 1, 8, 3, 2, 5, 3, 8, 8, 6, 3, 5, 5, 6, 1, 2, 8, 6, 7, 9, 7,\n",
       "       4, 6, 1, 1, 2, 6, 0, 6, 9, 7, 2, 3, 9, 1, 9, 1, 0, 0, 4, 5, 0, 4,\n",
       "       9, 4, 5, 2, 3, 0, 9, 4, 2, 8, 4, 2, 7, 1, 9, 1, 1, 3, 5, 5, 5, 0,\n",
       "       2, 3, 8, 3, 1, 8, 8, 5, 0, 5, 5, 4, 9, 4, 3, 6, 1, 0, 4, 1, 0, 0,\n",
       "       8, 6, 0, 4, 8, 0, 0, 2, 4, 8, 2, 0, 3, 6, 5, 1, 3, 4, 4, 2, 1, 2,\n",
       "       1, 4, 8, 6, 7, 9, 8, 9, 8, 1, 2, 3, 3, 6, 1, 4, 1, 0, 5, 7, 8, 9,\n",
       "       9, 9, 6, 2, 3, 7, 5, 4, 0, 3, 6, 4, 5, 1, 8, 0, 8, 6, 2, 0, 8, 9,\n",
       "       2, 1, 6, 1, 8, 9, 3, 5, 4, 8, 4, 4, 8, 9, 8, 8, 6, 4, 3, 7, 5, 4,\n",
       "       9, 5, 2, 4, 3, 3, 5, 8, 3, 8, 3, 5, 9, 7, 5, 1, 0, 3, 2, 3, 7, 9,\n",
       "       3, 0, 9, 3, 8, 0, 9, 8, 7, 6, 2, 6, 7, 1, 5, 2, 0, 7, 8, 6, 4, 6,\n",
       "       3, 0, 2, 7, 5, 6, 3, 5, 4, 1, 3, 1, 8, 0, 9, 3, 3, 8, 1, 3, 1, 4,\n",
       "       5, 2, 6, 0, 8, 3, 3, 6, 9, 8, 7, 1, 0, 5, 1, 6, 5, 4, 0, 1, 0, 7,\n",
       "       3, 4, 4, 6, 0, 5, 8, 8])"
      ]
     },
     "execution_count": 33,
     "metadata": {},
     "output_type": "execute_result"
    }
   ],
   "source": [
    "y_pred1"
   ]
  },
  {
   "cell_type": "code",
   "execution_count": 34,
   "metadata": {},
   "outputs": [
    {
     "data": {
      "text/plain": [
       "array([5, 3, 2, 6, 2, 2, 7, 3, 0, 8, 7, 7, 5, 5, 8, 0, 4, 2, 0, 2, 1, 8,\n",
       "       6, 1, 6, 7, 1, 1, 3, 1, 8, 2, 8, 3, 3, 7, 6, 5, 1, 4, 4, 6, 8, 6,\n",
       "       6, 1, 4, 9, 5, 0, 9, 8, 7, 6, 0, 6, 8, 3, 4, 3, 4, 1, 9, 2, 3, 4,\n",
       "       9, 5, 9, 0, 1, 2, 9, 7, 3, 9, 5, 7, 0, 2, 4, 3, 4, 4, 3, 0, 3, 7,\n",
       "       4, 8, 1, 7, 3, 2, 5, 3, 8, 8, 6, 3, 5, 5, 6, 8, 2, 8, 6, 7, 9, 7,\n",
       "       4, 6, 1, 1, 2, 6, 0, 6, 9, 7, 2, 5, 9, 1, 9, 1, 0, 0, 4, 5, 0, 4,\n",
       "       9, 4, 5, 2, 3, 0, 9, 4, 2, 8, 4, 2, 7, 1, 9, 1, 1, 3, 5, 5, 5, 0,\n",
       "       2, 3, 8, 3, 1, 8, 8, 5, 0, 5, 5, 4, 2, 4, 3, 6, 1, 0, 4, 1, 0, 0,\n",
       "       8, 6, 0, 4, 8, 0, 0, 2, 4, 8, 2, 0, 3, 6, 5, 1, 3, 4, 4, 2, 8, 2,\n",
       "       1, 4, 8, 6, 9, 9, 8, 9, 5, 8, 2, 3, 3, 6, 1, 4, 1, 0, 5, 7, 8, 9,\n",
       "       9, 9, 6, 2, 3, 7, 5, 4, 0, 3, 6, 4, 5, 1, 8, 0, 8, 6, 2, 0, 1, 9,\n",
       "       2, 1, 6, 1, 8, 9, 3, 5, 4, 8, 4, 4, 8, 9, 8, 8, 6, 4, 3, 7, 5, 4,\n",
       "       9, 5, 2, 4, 3, 3, 5, 8, 3, 8, 3, 5, 9, 7, 5, 1, 0, 3, 2, 3, 7, 3,\n",
       "       3, 0, 5, 3, 8, 0, 9, 8, 7, 6, 2, 6, 7, 1, 5, 2, 0, 7, 8, 6, 4, 6,\n",
       "       3, 0, 2, 7, 5, 6, 3, 5, 4, 1, 3, 1, 8, 0, 9, 3, 3, 8, 1, 3, 1, 4,\n",
       "       5, 2, 6, 0, 8, 3, 3, 6, 9, 8, 7, 1, 0, 5, 1, 6, 5, 0, 0, 1, 0, 7,\n",
       "       3, 4, 4, 6, 0, 5, 3, 8])"
      ]
     },
     "execution_count": 34,
     "metadata": {},
     "output_type": "execute_result"
    }
   ],
   "source": [
    "y_test"
   ]
  },
  {
   "cell_type": "code",
   "execution_count": 35,
   "metadata": {
    "id": "oe20nWIiWKkv"
   },
   "outputs": [],
   "source": [
    "#accuracy Score\n",
    "from sklearn.metrics import accuracy_score, classification_report, confusion_matrix\n",
    "\n",
    "acc = accuracy_score(y_test, y_pred1)\n",
    "cf = confusion_matrix(y_test, y_pred1)\n",
    "clrep = classification_report(y_test, y_pred1)"
   ]
  },
  {
   "cell_type": "code",
   "execution_count": 36,
   "metadata": {
    "colab": {
     "base_uri": "https://localhost:8080/"
    },
    "id": "Xx21NBRFb33T",
    "outputId": "0b659069-ae44-40de-ea93-00c468649dfc"
   },
   "outputs": [
    {
     "name": "stdout",
     "output_type": "stream",
     "text": [
      "0.95\n"
     ]
    }
   ],
   "source": [
    "print(acc)"
   ]
  },
  {
   "cell_type": "code",
   "execution_count": 37,
   "metadata": {},
   "outputs": [
    {
     "data": {
      "text/plain": [
       "array([[37,  0,  0,  0,  1,  0,  0,  0,  0,  0],\n",
       "       [ 0, 35,  0,  0,  0,  0,  0,  0,  2,  0],\n",
       "       [ 0,  0, 31,  0,  0,  0,  0,  0,  0,  1],\n",
       "       [ 0,  0,  0, 45,  0,  0,  0,  0,  1,  1],\n",
       "       [ 0,  0,  0,  0, 38,  0,  0,  0,  1,  0],\n",
       "       [ 0,  0,  0,  1,  0, 34,  0,  0,  1,  2],\n",
       "       [ 0,  0,  0,  0,  0,  0, 34,  0,  0,  0],\n",
       "       [ 0,  0,  0,  0,  0,  0,  0, 24,  1,  0],\n",
       "       [ 0,  3,  0,  0,  0,  0,  0,  0, 39,  0],\n",
       "       [ 0,  0,  0,  0,  1,  0,  0,  1,  1, 25]], dtype=int64)"
      ]
     },
     "execution_count": 37,
     "metadata": {},
     "output_type": "execute_result"
    }
   ],
   "source": [
    "cf"
   ]
  },
  {
   "cell_type": "code",
   "execution_count": null,
   "metadata": {},
   "outputs": [],
   "source": [
    "'''\n",
    "         0    1   2   3   4   5   6   7   8   9\n",
    "   0    [32,  0,  0,  0,  1,  0,  0,  0,  0,  0],\n",
    "    1   [ 0, 27,  1,  0,  0,  0,  0,  0,  0,  0],\n",
    "    2   [ 0,  0, 31,  2,  0,  0,  0,  0,  0,  0],\n",
    "    3   [ 0,  0,  0, 33,  0,  1,  0,  0,  0,  0],\n",
    "    4   [ 0,  0,  0,  0, 45,  0,  0,  1,  0,  0],\n",
    "    5   [ 0,  0,  0,  0,  0, 46,  0,  0,  1,  0],\n",
    "    6   [ 0,  0,  0,  0,  1,  0, 34,  0,  0,  0],\n",
    "    7   [ 0,  0,  0,  0,  0,  0,  0, 33,  0,  1],\n",
    "    8   [ 0,  2,  0,  0,  0,  0,  0,  0, 27,  1],\n",
    "    9   [ 0,  0,  0,  1,  1,  0,  0,  0,  1, 37]\n",
    "'''"
   ]
  },
  {
   "cell_type": "code",
   "execution_count": 38,
   "metadata": {},
   "outputs": [
    {
     "name": "stdout",
     "output_type": "stream",
     "text": [
      "              precision    recall  f1-score   support\n",
      "\n",
      "           0       1.00      0.97      0.99        38\n",
      "           1       0.92      0.95      0.93        37\n",
      "           2       1.00      0.97      0.98        32\n",
      "           3       0.98      0.96      0.97        47\n",
      "           4       0.95      0.97      0.96        39\n",
      "           5       1.00      0.89      0.94        38\n",
      "           6       1.00      1.00      1.00        34\n",
      "           7       0.96      0.96      0.96        25\n",
      "           8       0.85      0.93      0.89        42\n",
      "           9       0.86      0.89      0.88        28\n",
      "\n",
      "    accuracy                           0.95       360\n",
      "   macro avg       0.95      0.95      0.95       360\n",
      "weighted avg       0.95      0.95      0.95       360\n",
      "\n"
     ]
    }
   ],
   "source": [
    "print(clrep)"
   ]
  },
  {
   "cell_type": "code",
   "execution_count": 39,
   "metadata": {
    "colab": {
     "base_uri": "https://localhost:8080/",
     "height": 283
    },
    "id": "2-jqWtwNcMNq",
    "outputId": "16b62d2b-9ef4-4c15-ca4b-4ace5a1a1a12"
   },
   "outputs": [
    {
     "data": {
      "text/plain": [
       "<AxesSubplot:>"
      ]
     },
     "execution_count": 39,
     "metadata": {},
     "output_type": "execute_result"
    },
    {
     "data": {
      "image/png": "[encoded data removed]",
      "text/plain": [
       "<Figure size 432x288 with 2 Axes>"
      ]
     },
     "metadata": {
      "needs_background": "light"
     },
     "output_type": "display_data"
    }
   ],
   "source": [
    "import seaborn as sns\n",
    "sns.heatmap(cf)"
   ]
  },
  {
   "cell_type": "code",
   "execution_count": null,
   "metadata": {},
   "outputs": [],
   "source": [
    "#recall->tp / (tp + fn)-- #sensitivity of the model\n",
    "#The recall is the measure of our model correctly identifying True Positives. \n",
    "#\n",
    "#precision of class 0 = TP of class 0/total number of object \n",
    "#What is the Precision for our model? Yes, it is 0.1 or, when it predicts 0 digit, it is correct around 100% of the time.\n",
    "#precision of class 1 = TP of class 1/total number of object \n",
    "\n",
    "#macro average = (precision of class 0 + precision of class 1+..... +pres. of class 9)/10 \n",
    "\n",
    "#weighted average is precision of all classes merge together\n",
    "#weighted average = (TP of class 0 + TP of class 1)/(total number of class 0 + total number of class 1) \n",
    "\n",
    "#F1-score is a measure of a model's accuracy on a dataset\n",
    "#a good F1 score means that you have low false positives and low false negatives, \n",
    "#Accuracy is used when the True Positives and True negatives are more important while # for correctly classified data\n",
    "#F1-score is used when the False Negatives and False Positives are crucial.# for missclassified data\n",
    "#Support is the number of total data found for each target."
   ]
  },
  {
   "cell_type": "code",
   "execution_count": null,
   "metadata": {
    "colab": {
     "base_uri": "https://localhost:8080/"
    },
    "id": "-fOCYFmAcxdN",
    "outputId": "a625140a-9ce1-4427-e059-fe9bd59a23f2"
   },
   "outputs": [],
   "source": [
    "y_test"
   ]
  },
  {
   "cell_type": "code",
   "execution_count": null,
   "metadata": {
    "colab": {
     "base_uri": "https://localhost:8080/"
    },
    "id": "H-lfwVv7jQgF",
    "outputId": "cd7ee581-7bb9-4d7f-c37b-2eabb57f2579"
   },
   "outputs": [],
   "source": [
    "y_pred1"
   ]
  },
  {
   "cell_type": "code",
   "execution_count": null,
   "metadata": {
    "colab": {
     "base_uri": "https://localhost:8080/",
     "height": 94
    },
    "id": "M73zIGmCjjO9",
    "outputId": "3162843b-1754-47ca-f5c0-bf9f3758b74e"
   },
   "outputs": [],
   "source": [
    "def get_misclassified_index(y_pred,y_test):\n",
    "    misclassification=[]#help us out to get the misclassified index value\n",
    "    for index,(predicted,actual) in enumerate(zip(y_pred,y_test)):\n",
    "        if predicted!=actual:\n",
    "            misclassification.append(index)\n",
    "            \n",
    "    return misclassification"
   ]
  },
  {
   "cell_type": "code",
   "execution_count": null,
   "metadata": {},
   "outputs": [],
   "source": [
    "misclassification = get_misclassified_index(y_pred1,y_test)"
   ]
  },
  {
   "cell_type": "code",
   "execution_count": null,
   "metadata": {},
   "outputs": [],
   "source": [
    "misclassification"
   ]
  },
  {
   "cell_type": "code",
   "execution_count": null,
   "metadata": {},
   "outputs": [],
   "source": []
  },
  {
   "cell_type": "code",
   "execution_count": null,
   "metadata": {},
   "outputs": [],
   "source": [
    "def plot_misclassifications(misclassification):\n",
    "    plt.figure(figsize=(20,4))\n",
    "    for index,wrong in enumerate(misclassification[0:5]):\n",
    "        plt.subplot(1,5,index+1)\n",
    "        plt.imshow(np.reshape(X_test[wrong],(3,3)),cmap=plt.cm.gray)\n",
    "        plt.title(\"Predicted:{} Actual:{}\".format(y_pred1[wrong],y_test[wrong]))"
   ]
  },
  {
   "cell_type": "code",
   "execution_count": null,
   "metadata": {
    "colab": {
     "base_uri": "https://localhost:8080/",
     "height": 94
    },
    "id": "aLWLmmTFB-Zk",
    "outputId": "753792fe-cdae-4d1e-bcab-b9cae1cc68d4"
   },
   "outputs": [],
   "source": [
    "plot_misclassifications(misclassification)"
   ]
  },
  {
   "cell_type": "code",
   "execution_count": null,
   "metadata": {
    "id": "-VWgMJyfC9Iq"
   },
   "outputs": [],
   "source": []
  }
 ],
 "metadata": {
  "colab": {
   "name": "LDA Hands-on",
   "provenance": []
  },
  "kernelspec": {
   "display_name": "Python 3 (ipykernel)",
   "language": "python",
   "name": "python3"
  },
  "language_info": {
   "codemirror_mode": {
    "name": "ipython",
    "version": 3
   },
   "file_extension": ".py",
   "mimetype": "text/x-python",
   "name": "python",
   "nbconvert_exporter": "python",
   "pygments_lexer": "ipython3",
   "version": "3.9.7"
  }
 },
 "nbformat": 4,
 "nbformat_minor": 1
}
