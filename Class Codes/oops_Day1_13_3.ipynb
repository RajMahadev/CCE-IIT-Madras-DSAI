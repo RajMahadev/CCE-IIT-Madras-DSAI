{
 "cells": [
  {
   "cell_type": "markdown",
   "id": "513e8d7f",
   "metadata": {},
   "source": [
    "# Day 1 OOPS"
   ]
  },
  {
   "cell_type": "raw",
   "id": "75ea467e",
   "metadata": {},
   "source": [
    "OOPS\n",
    "Classes\n",
    "Objects\n",
    "Methods\n",
    "Implementation"
   ]
  },
  {
   "cell_type": "raw",
   "id": "bcccbe3a",
   "metadata": {},
   "source": [
    "oops---> object oriented programming\n",
    "\n",
    "class?\n",
    "blueprint\n",
    "description on how the object looks like\n",
    "collection of objects\n",
    "\n",
    "object?\n",
    "refers to an real world entity having certain behaviours and properties\n",
    "\n",
    "methods?\n",
    "set of code perforing similar task"
   ]
  },
  {
   "cell_type": "raw",
   "id": "924d86fe",
   "metadata": {},
   "source": [
    "Syntax:\n",
    "\n",
    "class?\n",
    "class name:\n",
    "\n",
    "object?\n",
    "object_name=class_name()\n",
    "\n",
    "method?\n",
    "def method_name(self):"
   ]
  },
  {
   "cell_type": "code",
   "execution_count": 4,
   "id": "9ecc68d8",
   "metadata": {},
   "outputs": [
    {
     "ename": "SyntaxError",
     "evalue": "invalid syntax (<ipython-input-4-96626903dee2>, line 1)",
     "output_type": "error",
     "traceback": [
      "\u001b[1;36m  File \u001b[1;32m\"<ipython-input-4-96626903dee2>\"\u001b[1;36m, line \u001b[1;32m1\u001b[0m\n\u001b[1;33m    class 1235:\u001b[0m\n\u001b[1;37m          ^\u001b[0m\n\u001b[1;31mSyntaxError\u001b[0m\u001b[1;31m:\u001b[0m invalid syntax\n"
     ]
    }
   ],
   "source": [
    "class 1235:\n",
    "    a=2+2\n",
    "    print(a)"
   ]
  },
  {
   "cell_type": "code",
   "execution_count": 5,
   "id": "6b323cd5",
   "metadata": {},
   "outputs": [
    {
     "name": "stdout",
     "output_type": "stream",
     "text": [
      "4\n"
     ]
    }
   ],
   "source": [
    "class a1234:\n",
    "    a=2+2\n",
    "    print(a)\n",
    "    #start with alphabet"
   ]
  },
  {
   "cell_type": "code",
   "execution_count": 6,
   "id": "8763181f",
   "metadata": {},
   "outputs": [
    {
     "name": "stdout",
     "output_type": "stream",
     "text": [
      "4\n"
     ]
    }
   ],
   "source": [
    "class a_:\n",
    "    a=2+2\n",
    "    print(a)"
   ]
  },
  {
   "cell_type": "code",
   "execution_count": 7,
   "id": "81a3b8d7",
   "metadata": {},
   "outputs": [
    {
     "name": "stdout",
     "output_type": "stream",
     "text": [
      "4\n"
     ]
    }
   ],
   "source": [
    "class _a:\n",
    "    a=2+2\n",
    "    print(a)"
   ]
  },
  {
   "cell_type": "code",
   "execution_count": 8,
   "id": "3a7a8e15",
   "metadata": {},
   "outputs": [
    {
     "ename": "SyntaxError",
     "evalue": "invalid syntax (<ipython-input-8-08e609803397>, line 1)",
     "output_type": "error",
     "traceback": [
      "\u001b[1;36m  File \u001b[1;32m\"<ipython-input-8-08e609803397>\"\u001b[1;36m, line \u001b[1;32m1\u001b[0m\n\u001b[1;33m    class @dhjdh:\u001b[0m\n\u001b[1;37m          ^\u001b[0m\n\u001b[1;31mSyntaxError\u001b[0m\u001b[1;31m:\u001b[0m invalid syntax\n"
     ]
    }
   ],
   "source": [
    "class @dhjdh:\n",
    "    a=2+2\n",
    "    print(a)"
   ]
  },
  {
   "cell_type": "code",
   "execution_count": 9,
   "id": "d60c0a66",
   "metadata": {},
   "outputs": [
    {
     "name": "stdout",
     "output_type": "stream",
     "text": [
      "4\n"
     ]
    }
   ],
   "source": [
    "class _1235:\n",
    "    a=2+2\n",
    "    print(a)"
   ]
  },
  {
   "cell_type": "code",
   "execution_count": 10,
   "id": "4a0a5a49",
   "metadata": {},
   "outputs": [
    {
     "ename": "SyntaxError",
     "evalue": "invalid decimal literal (<ipython-input-10-9ae102dc7601>, line 1)",
     "output_type": "error",
     "traceback": [
      "\u001b[1;36m  File \u001b[1;32m\"<ipython-input-10-9ae102dc7601>\"\u001b[1;36m, line \u001b[1;32m1\u001b[0m\n\u001b[1;33m    class 1235_:\u001b[0m\n\u001b[1;37m              ^\u001b[0m\n\u001b[1;31mSyntaxError\u001b[0m\u001b[1;31m:\u001b[0m invalid decimal literal\n"
     ]
    }
   ],
   "source": [
    "class 1235_:\n",
    "    a=2+2\n",
    "    print(a)"
   ]
  },
  {
   "cell_type": "raw",
   "id": "a0114533",
   "metadata": {},
   "source": [
    "method?\n",
    "def method_name(self):"
   ]
  },
  {
   "cell_type": "code",
   "execution_count": 16,
   "id": "f7761009",
   "metadata": {},
   "outputs": [
    {
     "data": {
      "text/plain": [
       "4"
      ]
     },
     "execution_count": 16,
     "metadata": {},
     "output_type": "execute_result"
    }
   ],
   "source": [
    "#this is a user defined function\n",
    "#this independent-->no need self\n",
    "#i can directly access / call it\n",
    "\n",
    "\n",
    "def abc(a,b): #1\n",
    "    return a+b #3\n",
    "abc(2,2) #2"
   ]
  },
  {
   "cell_type": "raw",
   "id": "af0f16b9",
   "metadata": {},
   "source": [
    "add()-->add\n",
    "abc()-->can add"
   ]
  },
  {
   "cell_type": "raw",
   "id": "d0d45f3e",
   "metadata": {},
   "source": [
    "object?\n",
    "object_name=class_name()"
   ]
  },
  {
   "cell_type": "code",
   "execution_count": 30,
   "id": "6f38022e",
   "metadata": {},
   "outputs": [
    {
     "data": {
      "text/plain": [
       "4"
      ]
     },
     "execution_count": 30,
     "metadata": {},
     "output_type": "execute_result"
    }
   ],
   "source": [
    "#this is a method\n",
    "#this is dependent/ inside the class--->self\n",
    "#i can only call it with the help of object\n",
    "\n",
    "\n",
    "\n",
    "class demo:\n",
    "    def abc1(self,a,b):\n",
    "        return a+b\n",
    "a=demo() \n",
    "a.abc1(2,2)\n"
   ]
  },
  {
   "cell_type": "code",
   "execution_count": 31,
   "id": "bd3d185e",
   "metadata": {},
   "outputs": [],
   "source": [
    "class demo2:\n",
    "    def fun1(self,x,y):\n",
    "        return x+y\n",
    "    def fun2(self,x,y):\n",
    "        return x-y"
   ]
  },
  {
   "cell_type": "code",
   "execution_count": 32,
   "id": "2dfe7914",
   "metadata": {},
   "outputs": [],
   "source": [
    "a2=demo2()"
   ]
  },
  {
   "cell_type": "code",
   "execution_count": 33,
   "id": "46dbcbc6",
   "metadata": {},
   "outputs": [
    {
     "data": {
      "text/plain": [
       "14"
      ]
     },
     "execution_count": 33,
     "metadata": {},
     "output_type": "execute_result"
    }
   ],
   "source": [
    "a2.fun1(5,9)"
   ]
  },
  {
   "cell_type": "code",
   "execution_count": 34,
   "id": "704d7066",
   "metadata": {},
   "outputs": [
    {
     "data": {
      "text/plain": [
       "2"
      ]
     },
     "execution_count": 34,
     "metadata": {},
     "output_type": "execute_result"
    }
   ],
   "source": [
    "a2.fun2(5,3)"
   ]
  },
  {
   "cell_type": "code",
   "execution_count": 35,
   "id": "ff334482",
   "metadata": {},
   "outputs": [],
   "source": [
    "class employee:\n",
    "    def details(self,name,location):\n",
    "        print(\"Name= \",name)\n",
    "        print(\"Location= \", location)\n",
    "    \n",
    "    def data_emp(self,eid,department):\n",
    "        print(\"Employee ID= \",eid)\n",
    "        print(\"Department= \",department)"
   ]
  },
  {
   "cell_type": "code",
   "execution_count": 36,
   "id": "6fcb1326",
   "metadata": {},
   "outputs": [],
   "source": [
    "john=employee()"
   ]
  },
  {
   "cell_type": "code",
   "execution_count": 37,
   "id": "6ee9b5c0",
   "metadata": {},
   "outputs": [
    {
     "name": "stdout",
     "output_type": "stream",
     "text": [
      "Name=  John\n",
      "Location=  Bangalore\n"
     ]
    }
   ],
   "source": [
    "john.details(\"John\",\"Bangalore\")"
   ]
  },
  {
   "cell_type": "code",
   "execution_count": 38,
   "id": "e1db5f46",
   "metadata": {},
   "outputs": [
    {
     "name": "stdout",
     "output_type": "stream",
     "text": [
      "Employee ID=  100\n",
      "Department=  Technical\n"
     ]
    }
   ],
   "source": [
    "john.data_emp(100,\"Technical\")"
   ]
  },
  {
   "cell_type": "code",
   "execution_count": 40,
   "id": "397d044f",
   "metadata": {},
   "outputs": [],
   "source": [
    "ema=employee()"
   ]
  },
  {
   "cell_type": "code",
   "execution_count": 41,
   "id": "9c333673",
   "metadata": {},
   "outputs": [
    {
     "name": "stdout",
     "output_type": "stream",
     "text": [
      "Name=  Ema\n",
      "Location=  Delhi\n"
     ]
    }
   ],
   "source": [
    "ema.details(\"Ema\",\"Delhi\")"
   ]
  },
  {
   "cell_type": "code",
   "execution_count": 42,
   "id": "2c08ca61",
   "metadata": {},
   "outputs": [
    {
     "name": "stdout",
     "output_type": "stream",
     "text": [
      "Employee ID=  101\n",
      "Department=  Operations\n"
     ]
    }
   ],
   "source": [
    "ema.data_emp(101,\"Operations\")"
   ]
  },
  {
   "cell_type": "code",
   "execution_count": 43,
   "id": "508a7a80",
   "metadata": {},
   "outputs": [],
   "source": [
    "#local and global variable"
   ]
  },
  {
   "cell_type": "code",
   "execution_count": 44,
   "id": "ec5c5567",
   "metadata": {},
   "outputs": [],
   "source": [
    "class demo3:\n",
    "    p=80\n",
    "    q=90\n",
    "    def fun3(self,a):\n",
    "        s=a+self.p\n",
    "        return s\n",
    "    def fun4(self,b):\n",
    "        h=b+self.q\n",
    "        return h"
   ]
  },
  {
   "cell_type": "code",
   "execution_count": 45,
   "id": "4c492235",
   "metadata": {},
   "outputs": [],
   "source": [
    "a3=demo3()"
   ]
  },
  {
   "cell_type": "code",
   "execution_count": 46,
   "id": "cf29d2dd",
   "metadata": {},
   "outputs": [
    {
     "data": {
      "text/plain": [
       "90"
      ]
     },
     "execution_count": 46,
     "metadata": {},
     "output_type": "execute_result"
    }
   ],
   "source": [
    "a3.fun3(10)"
   ]
  },
  {
   "cell_type": "code",
   "execution_count": 47,
   "id": "dfafeaba",
   "metadata": {},
   "outputs": [
    {
     "data": {
      "text/plain": [
       "100"
      ]
     },
     "execution_count": 47,
     "metadata": {},
     "output_type": "execute_result"
    }
   ],
   "source": [
    "a3.fun4(10)"
   ]
  },
  {
   "cell_type": "raw",
   "id": "41032695",
   "metadata": {},
   "source": [
    "Banking Case Study\n",
    "\n",
    "1. main_balance--->0\n",
    "2. check_balance()--->print my main_balance\n",
    "3. deposit()------> MB---->x(amount)----->MB+x--->MB\n",
    "4. withdraw()-----> MB---->y(amount)----->Y-MB=MB\n",
    "        mb>y---->success\n",
    "        --------->insuff funds"
   ]
  },
  {
   "cell_type": "code",
   "execution_count": 57,
   "id": "1fcd15d2",
   "metadata": {},
   "outputs": [],
   "source": [
    "class bankaccount:\n",
    "    main_bal=0\n",
    "    def checkbal(self):\n",
    "        print(\"your current balance is: \",self.main_bal)\n",
    "    def deposit(self,x):\n",
    "        self.main_bal=self.main_bal+x\n",
    "        print(\"the cash depositted is: \", x)\n",
    "    def withdraw(self,y):\n",
    "        if self.main_bal>=y:\n",
    "            self.main_bal=self.main_bal-y\n",
    "            print(\" the amount debitted is: \",y)\n",
    "        else:\n",
    "            print(\"insufficient funds\")"
   ]
  },
  {
   "cell_type": "code",
   "execution_count": 58,
   "id": "d8991769",
   "metadata": {},
   "outputs": [],
   "source": [
    "person1=bankaccount()"
   ]
  },
  {
   "cell_type": "code",
   "execution_count": 59,
   "id": "84ff5272",
   "metadata": {},
   "outputs": [
    {
     "name": "stdout",
     "output_type": "stream",
     "text": [
      "your current balance is:  0\n"
     ]
    }
   ],
   "source": [
    "person1.checkbal()"
   ]
  },
  {
   "cell_type": "code",
   "execution_count": 60,
   "id": "7abf67af",
   "metadata": {},
   "outputs": [
    {
     "name": "stdout",
     "output_type": "stream",
     "text": [
      "the cash depositted is:  1000\n"
     ]
    }
   ],
   "source": [
    "person1.deposit(1000)"
   ]
  },
  {
   "cell_type": "code",
   "execution_count": 61,
   "id": "b7f87c59",
   "metadata": {},
   "outputs": [
    {
     "name": "stdout",
     "output_type": "stream",
     "text": [
      "your current balance is:  1000\n"
     ]
    }
   ],
   "source": [
    "person1.checkbal()"
   ]
  },
  {
   "cell_type": "code",
   "execution_count": 62,
   "id": "d1827ad7",
   "metadata": {},
   "outputs": [
    {
     "name": "stdout",
     "output_type": "stream",
     "text": [
      "insufficient funds\n"
     ]
    }
   ],
   "source": [
    "person1.withdraw(2000)"
   ]
  },
  {
   "cell_type": "code",
   "execution_count": 63,
   "id": "8690b543",
   "metadata": {},
   "outputs": [
    {
     "name": "stdout",
     "output_type": "stream",
     "text": [
      "your current balance is:  1000\n"
     ]
    }
   ],
   "source": [
    "person1.checkbal()"
   ]
  },
  {
   "cell_type": "code",
   "execution_count": 64,
   "id": "37f6337b",
   "metadata": {},
   "outputs": [
    {
     "name": "stdout",
     "output_type": "stream",
     "text": [
      " the amount debitted is:  500\n"
     ]
    }
   ],
   "source": [
    "person1.withdraw(500)"
   ]
  },
  {
   "cell_type": "code",
   "execution_count": 65,
   "id": "785a414c",
   "metadata": {},
   "outputs": [
    {
     "name": "stdout",
     "output_type": "stream",
     "text": [
      "your current balance is:  500\n"
     ]
    }
   ],
   "source": [
    "person1.checkbal()"
   ]
  },
  {
   "cell_type": "code",
   "execution_count": 66,
   "id": "dd19f903",
   "metadata": {},
   "outputs": [],
   "source": [
    "person2=bankaccount()"
   ]
  },
  {
   "cell_type": "code",
   "execution_count": 67,
   "id": "869abb57",
   "metadata": {},
   "outputs": [
    {
     "name": "stdout",
     "output_type": "stream",
     "text": [
      "your current balance is:  0\n"
     ]
    }
   ],
   "source": [
    "person2.checkbal()"
   ]
  },
  {
   "cell_type": "code",
   "execution_count": 68,
   "id": "b13ef4ca",
   "metadata": {},
   "outputs": [],
   "source": [
    "#constructor\n",
    "#. default\n",
    "#parameterised\n",
    "\n",
    "def __init__(self):"
   ]
  },
  {
   "cell_type": "code",
   "execution_count": 82,
   "id": "6a71e8b1",
   "metadata": {},
   "outputs": [],
   "source": [
    "class abc:\n",
    "    def __init__(self):\n",
    "        self.day=\"sunday\"\n",
    "        print(\"this is my constructor\")\n",
    "    def display(self):\n",
    "        print(\"today is \",self.day)\n",
    "    def disp(self):\n",
    "        print(self.day,\"is a good day\")\n",
    "        \n",
    "    "
   ]
  },
  {
   "cell_type": "code",
   "execution_count": 83,
   "id": "4f65ce12",
   "metadata": {},
   "outputs": [
    {
     "name": "stdout",
     "output_type": "stream",
     "text": [
      "this is my constructor\n"
     ]
    }
   ],
   "source": [
    "b=abc()"
   ]
  },
  {
   "cell_type": "code",
   "execution_count": 80,
   "id": "0943c9c0",
   "metadata": {},
   "outputs": [
    {
     "name": "stdout",
     "output_type": "stream",
     "text": [
      "today is  sunday\n"
     ]
    }
   ],
   "source": [
    "b.display()"
   ]
  },
  {
   "cell_type": "code",
   "execution_count": 81,
   "id": "fff0eaa6",
   "metadata": {},
   "outputs": [
    {
     "name": "stdout",
     "output_type": "stream",
     "text": [
      "sunday is a good day\n"
     ]
    }
   ],
   "source": [
    "b.disp()"
   ]
  },
  {
   "cell_type": "code",
   "execution_count": 94,
   "id": "b80b96ed",
   "metadata": {},
   "outputs": [],
   "source": [
    "class addition:\n",
    "    a=0\n",
    "    b=0\n",
    "    result=0\n",
    "    \n",
    "    def display(self):\n",
    "        print(\"first number= \",self.a)\n",
    "        print(\"second number= \",self.b)\n",
    "        print(\"result= \",self.result)\n",
    "    def calculate(self):\n",
    "        self.result=self.a+self.b\n",
    "        print(self.result)\n",
    "        "
   ]
  },
  {
   "cell_type": "code",
   "execution_count": 102,
   "id": "1cc3bff9",
   "metadata": {},
   "outputs": [
    {
     "ename": "TypeError",
     "evalue": "addition() takes no arguments",
     "output_type": "error",
     "traceback": [
      "\u001b[1;31m---------------------------------------------------------------------------\u001b[0m",
      "\u001b[1;31mTypeError\u001b[0m                                 Traceback (most recent call last)",
      "\u001b[1;32m<ipython-input-102-7f8fbd5400a7>\u001b[0m in \u001b[0;36m<module>\u001b[1;34m\u001b[0m\n\u001b[1;32m----> 1\u001b[1;33m \u001b[0mb1\u001b[0m\u001b[1;33m=\u001b[0m\u001b[0maddition\u001b[0m\u001b[1;33m(\u001b[0m\u001b[1;36m10\u001b[0m\u001b[1;33m,\u001b[0m\u001b[1;36m89\u001b[0m\u001b[1;33m)\u001b[0m\u001b[1;33m\u001b[0m\u001b[1;33m\u001b[0m\u001b[0m\n\u001b[0m",
      "\u001b[1;31mTypeError\u001b[0m: addition() takes no arguments"
     ]
    }
   ],
   "source": [
    "b1=addition(10,89)"
   ]
  },
  {
   "cell_type": "code",
   "execution_count": 96,
   "id": "d24b23e5",
   "metadata": {},
   "outputs": [
    {
     "name": "stdout",
     "output_type": "stream",
     "text": [
      "first number=  0\n",
      "second number=  0\n",
      "result=  0\n"
     ]
    }
   ],
   "source": [
    "b1.display()"
   ]
  },
  {
   "cell_type": "code",
   "execution_count": 97,
   "id": "7deb71f8",
   "metadata": {},
   "outputs": [
    {
     "name": "stdout",
     "output_type": "stream",
     "text": [
      "0\n"
     ]
    }
   ],
   "source": [
    "b1.calculate()"
   ]
  },
  {
   "cell_type": "code",
   "execution_count": 103,
   "id": "2471d4a3",
   "metadata": {},
   "outputs": [],
   "source": [
    "class addition2:\n",
    "    a=0\n",
    "    b=0\n",
    "    result=0\n",
    "    \n",
    "    def __init__(self,one,two):\n",
    "        self.a=one\n",
    "        self.b=two\n",
    "    \n",
    "    \n",
    "    def display(self):\n",
    "        print(\"first number= \",self.a)\n",
    "        print(\"second number= \",self.b)\n",
    "        print(\"result= \",self.result)\n",
    "    def calculate(self):\n",
    "        self.result=self.a+self.b\n",
    "        print(self.result)\n",
    "  "
   ]
  },
  {
   "cell_type": "code",
   "execution_count": 99,
   "id": "df87ad87",
   "metadata": {},
   "outputs": [],
   "source": [
    "b2=addition2(100,200)"
   ]
  },
  {
   "cell_type": "code",
   "execution_count": 100,
   "id": "c5e688a5",
   "metadata": {},
   "outputs": [
    {
     "name": "stdout",
     "output_type": "stream",
     "text": [
      "first number=  100\n",
      "second number=  200\n",
      "result=  0\n"
     ]
    }
   ],
   "source": [
    "b2.display()"
   ]
  },
  {
   "cell_type": "code",
   "execution_count": 101,
   "id": "e105bb0c",
   "metadata": {},
   "outputs": [
    {
     "name": "stdout",
     "output_type": "stream",
     "text": [
      "300\n"
     ]
    }
   ],
   "source": [
    "b2.calculate()"
   ]
  },
  {
   "cell_type": "code",
   "execution_count": null,
   "id": "cbc57e36",
   "metadata": {},
   "outputs": [],
   "source": []
  }
 ],
 "metadata": {
  "kernelspec": {
   "display_name": "Python 3",
   "language": "python",
   "name": "python3"
  },
  "language_info": {
   "codemirror_mode": {
    "name": "ipython",
    "version": 3
   },
   "file_extension": ".py",
   "mimetype": "text/x-python",
   "name": "python",
   "nbconvert_exporter": "python",
   "pygments_lexer": "ipython3",
   "version": "3.8.8"
  }
 },
 "nbformat": 4,
 "nbformat_minor": 5
}
