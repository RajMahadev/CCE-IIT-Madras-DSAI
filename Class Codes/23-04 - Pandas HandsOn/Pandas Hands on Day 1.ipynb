{
 "cells": [
  {
   "cell_type": "code",
   "execution_count": 1,
   "id": "8ba5caed",
   "metadata": {},
   "outputs": [],
   "source": [
    "# Hands on 1\n",
    "\n",
    "# List, tuple, set.\n",
    "\n",
    "list_1=[1,2,3,4,5,6,7,8,9,10]\n",
    "tup1=(1,2,3,4,5,6,7,8,9,10)\n",
    "set1={1,2,3,4,5,6,7,8,9,10}"
   ]
  },
  {
   "cell_type": "code",
   "execution_count": null,
   "id": "202db52e",
   "metadata": {},
   "outputs": [],
   "source": [
    "# pandas Series : 1 dimensional Labelled Datastructure "
   ]
  },
  {
   "cell_type": "code",
   "execution_count": 2,
   "id": "329876a4",
   "metadata": {},
   "outputs": [],
   "source": [
    "# Import the required Package\n",
    "\n",
    "import pandas as pd"
   ]
  },
  {
   "cell_type": "code",
   "execution_count": 5,
   "id": "d6a3b751",
   "metadata": {},
   "outputs": [],
   "source": [
    "S1=pd.Series(list_1,index=['a','b','c','d','e','f','g','h','i','j'])   # Explict way for defining the labels."
   ]
  },
  {
   "cell_type": "code",
   "execution_count": 6,
   "id": "c7fe1758",
   "metadata": {},
   "outputs": [
    {
     "data": {
      "text/plain": [
       "a     1\n",
       "b     2\n",
       "c     3\n",
       "d     4\n",
       "e     5\n",
       "f     6\n",
       "g     7\n",
       "h     8\n",
       "i     9\n",
       "j    10\n",
       "dtype: int64"
      ]
     },
     "execution_count": 6,
     "metadata": {},
     "output_type": "execute_result"
    }
   ],
   "source": [
    "S1"
   ]
  },
  {
   "cell_type": "code",
   "execution_count": 7,
   "id": "cbbdb77e",
   "metadata": {},
   "outputs": [
    {
     "data": {
      "text/plain": [
       "pandas.core.series.Series"
      ]
     },
     "execution_count": 7,
     "metadata": {},
     "output_type": "execute_result"
    }
   ],
   "source": [
    "type(S1)"
   ]
  },
  {
   "cell_type": "code",
   "execution_count": 8,
   "id": "49877248",
   "metadata": {},
   "outputs": [],
   "source": [
    "S2=pd.Series(tup1)"
   ]
  },
  {
   "cell_type": "code",
   "execution_count": 9,
   "id": "12829eec",
   "metadata": {},
   "outputs": [
    {
     "data": {
      "text/plain": [
       "0     1\n",
       "1     2\n",
       "2     3\n",
       "3     4\n",
       "4     5\n",
       "5     6\n",
       "6     7\n",
       "7     8\n",
       "8     9\n",
       "9    10\n",
       "dtype: int64"
      ]
     },
     "execution_count": 9,
     "metadata": {},
     "output_type": "execute_result"
    }
   ],
   "source": [
    "S2"
   ]
  },
  {
   "cell_type": "code",
   "execution_count": 10,
   "id": "6efa7e46",
   "metadata": {},
   "outputs": [
    {
     "data": {
      "text/plain": [
       "pandas.core.series.Series"
      ]
     },
     "execution_count": 10,
     "metadata": {},
     "output_type": "execute_result"
    }
   ],
   "source": [
    "type(S2)"
   ]
  },
  {
   "cell_type": "code",
   "execution_count": 11,
   "id": "4b207fd7",
   "metadata": {},
   "outputs": [
    {
     "ename": "TypeError",
     "evalue": "'set' type is unordered",
     "output_type": "error",
     "traceback": [
      "\u001b[1;31m---------------------------------------------------------------------------\u001b[0m",
      "\u001b[1;31mTypeError\u001b[0m                                 Traceback (most recent call last)",
      "\u001b[1;32m~\\AppData\\Local\\Temp/ipykernel_9392/2680761800.py\u001b[0m in \u001b[0;36m<module>\u001b[1;34m\u001b[0m\n\u001b[0;32m      1\u001b[0m \u001b[1;31m# Set: Unordered , unindex ,unique collection element.\u001b[0m\u001b[1;33m\u001b[0m\u001b[1;33m\u001b[0m\u001b[0m\n\u001b[0;32m      2\u001b[0m \u001b[1;33m\u001b[0m\u001b[0m\n\u001b[1;32m----> 3\u001b[1;33m \u001b[0mS3\u001b[0m\u001b[1;33m=\u001b[0m\u001b[0mpd\u001b[0m\u001b[1;33m.\u001b[0m\u001b[0mSeries\u001b[0m\u001b[1;33m(\u001b[0m\u001b[0mset1\u001b[0m\u001b[1;33m)\u001b[0m\u001b[1;33m\u001b[0m\u001b[1;33m\u001b[0m\u001b[0m\n\u001b[0m",
      "\u001b[1;32m~\\anaconda3\\lib\\site-packages\\pandas\\core\\series.py\u001b[0m in \u001b[0;36m__init__\u001b[1;34m(self, data, index, dtype, name, copy, fastpath)\u001b[0m\n\u001b[0;32m    437\u001b[0m                     \u001b[0mdata\u001b[0m \u001b[1;33m=\u001b[0m \u001b[0mdata\u001b[0m\u001b[1;33m.\u001b[0m\u001b[0mcopy\u001b[0m\u001b[1;33m(\u001b[0m\u001b[1;33m)\u001b[0m\u001b[1;33m\u001b[0m\u001b[1;33m\u001b[0m\u001b[0m\n\u001b[0;32m    438\u001b[0m             \u001b[1;32melse\u001b[0m\u001b[1;33m:\u001b[0m\u001b[1;33m\u001b[0m\u001b[1;33m\u001b[0m\u001b[0m\n\u001b[1;32m--> 439\u001b[1;33m                 \u001b[0mdata\u001b[0m \u001b[1;33m=\u001b[0m \u001b[0msanitize_array\u001b[0m\u001b[1;33m(\u001b[0m\u001b[0mdata\u001b[0m\u001b[1;33m,\u001b[0m \u001b[0mindex\u001b[0m\u001b[1;33m,\u001b[0m \u001b[0mdtype\u001b[0m\u001b[1;33m,\u001b[0m \u001b[0mcopy\u001b[0m\u001b[1;33m)\u001b[0m\u001b[1;33m\u001b[0m\u001b[1;33m\u001b[0m\u001b[0m\n\u001b[0m\u001b[0;32m    440\u001b[0m \u001b[1;33m\u001b[0m\u001b[0m\n\u001b[0;32m    441\u001b[0m                 \u001b[0mmanager\u001b[0m \u001b[1;33m=\u001b[0m \u001b[0mget_option\u001b[0m\u001b[1;33m(\u001b[0m\u001b[1;34m\"mode.data_manager\"\u001b[0m\u001b[1;33m)\u001b[0m\u001b[1;33m\u001b[0m\u001b[1;33m\u001b[0m\u001b[0m\n",
      "\u001b[1;32m~\\anaconda3\\lib\\site-packages\\pandas\\core\\construction.py\u001b[0m in \u001b[0;36msanitize_array\u001b[1;34m(data, index, dtype, copy, raise_cast_failure, allow_2d)\u001b[0m\n\u001b[0;32m    557\u001b[0m         \u001b[1;32mif\u001b[0m \u001b[0misinstance\u001b[0m\u001b[1;33m(\u001b[0m\u001b[0mdata\u001b[0m\u001b[1;33m,\u001b[0m \u001b[1;33m(\u001b[0m\u001b[0mset\u001b[0m\u001b[1;33m,\u001b[0m \u001b[0mfrozenset\u001b[0m\u001b[1;33m)\u001b[0m\u001b[1;33m)\u001b[0m\u001b[1;33m:\u001b[0m\u001b[1;33m\u001b[0m\u001b[1;33m\u001b[0m\u001b[0m\n\u001b[0;32m    558\u001b[0m             \u001b[1;31m# Raise only for unordered sets, e.g., not for dict_keys\u001b[0m\u001b[1;33m\u001b[0m\u001b[1;33m\u001b[0m\u001b[0m\n\u001b[1;32m--> 559\u001b[1;33m             \u001b[1;32mraise\u001b[0m \u001b[0mTypeError\u001b[0m\u001b[1;33m(\u001b[0m\u001b[1;34mf\"'{type(data).__name__}' type is unordered\"\u001b[0m\u001b[1;33m)\u001b[0m\u001b[1;33m\u001b[0m\u001b[1;33m\u001b[0m\u001b[0m\n\u001b[0m\u001b[0;32m    560\u001b[0m \u001b[1;33m\u001b[0m\u001b[0m\n\u001b[0;32m    561\u001b[0m         \u001b[1;31m# materialize e.g. generators, convert e.g. tuples, abc.ValueView\u001b[0m\u001b[1;33m\u001b[0m\u001b[1;33m\u001b[0m\u001b[0m\n",
      "\u001b[1;31mTypeError\u001b[0m: 'set' type is unordered"
     ]
    }
   ],
   "source": [
    "# Set: Unordered , unindex ,unique collection element.\n",
    "\n",
    "S3=pd.Series(set1)"
   ]
  },
  {
   "cell_type": "code",
   "execution_count": 13,
   "id": "217b4d2c",
   "metadata": {},
   "outputs": [],
   "source": [
    "# set--->list---> Series\n",
    "\n",
    "sky=list(set1)"
   ]
  },
  {
   "cell_type": "code",
   "execution_count": 15,
   "id": "f63c5e71",
   "metadata": {},
   "outputs": [
    {
     "data": {
      "text/plain": [
       "list"
      ]
     },
     "execution_count": 15,
     "metadata": {},
     "output_type": "execute_result"
    }
   ],
   "source": [
    "type(sky)"
   ]
  },
  {
   "cell_type": "code",
   "execution_count": 16,
   "id": "2ae10f7f",
   "metadata": {},
   "outputs": [],
   "source": [
    "S3=pd.Series(sky)"
   ]
  },
  {
   "cell_type": "code",
   "execution_count": 18,
   "id": "fe4a2280",
   "metadata": {},
   "outputs": [
    {
     "data": {
      "text/plain": [
       "0     1\n",
       "1     2\n",
       "2     3\n",
       "3     4\n",
       "4     5\n",
       "5     6\n",
       "6     7\n",
       "7     8\n",
       "8     9\n",
       "9    10\n",
       "dtype: int64"
      ]
     },
     "execution_count": 18,
     "metadata": {},
     "output_type": "execute_result"
    }
   ],
   "source": [
    "S3"
   ]
  },
  {
   "cell_type": "code",
   "execution_count": null,
   "id": "6b1d51ab",
   "metadata": {},
   "outputs": [],
   "source": [
    "# Data Frame: collection pandas series.\n",
    "\n",
    "# Stock , finanace\n",
    " "
   ]
  },
  {
   "cell_type": "code",
   "execution_count": 19,
   "id": "8fd87d55",
   "metadata": {},
   "outputs": [
    {
     "data": {
      "text/plain": [
       "'Create a python dictionary with three key value pairs. Keep the keys as the first names,\\nand the respective last names as values in the dictionary. Use the dictionary to create a\\npandas series.'"
      ]
     },
     "execution_count": 19,
     "metadata": {},
     "output_type": "execute_result"
    }
   ],
   "source": [
    "\"\"\"Create a python dictionary with three key value pairs. Keep the keys as the first names,\n",
    "and the respective last names as values in the dictionary. Use the dictionary to create a\n",
    "pandas series.\"\"\""
   ]
  },
  {
   "cell_type": "code",
   "execution_count": 20,
   "id": "ab5b1569",
   "metadata": {},
   "outputs": [],
   "source": [
    "# Task 2  Dictionary----> Series.\n",
    "\n",
    "dict_1={'Virat':'Kohli','Yuvraj':'Singh','Harbhajan':'Singh'}\n"
   ]
  },
  {
   "cell_type": "code",
   "execution_count": 21,
   "id": "5f637ff0",
   "metadata": {},
   "outputs": [
    {
     "data": {
      "text/plain": [
       "{'Virat': 'Kohli', 'Yuvraj': 'Singh', 'Harbhajan': 'Singh'}"
      ]
     },
     "execution_count": 21,
     "metadata": {},
     "output_type": "execute_result"
    }
   ],
   "source": [
    "dict_1"
   ]
  },
  {
   "cell_type": "code",
   "execution_count": 30,
   "id": "e37a0c38",
   "metadata": {},
   "outputs": [],
   "source": [
    "S4=pd.Series(dict_1,index=['Yuvraj','Harbhajan','Virat','Mahendra'])"
   ]
  },
  {
   "cell_type": "code",
   "execution_count": 31,
   "id": "9fb2eb90",
   "metadata": {},
   "outputs": [
    {
     "data": {
      "text/plain": [
       "Yuvraj       Singh\n",
       "Harbhajan    Singh\n",
       "Virat        Kohli\n",
       "Mahendra       NaN\n",
       "dtype: object"
      ]
     },
     "execution_count": 31,
     "metadata": {},
     "output_type": "execute_result"
    }
   ],
   "source": [
    "S4"
   ]
  },
  {
   "cell_type": "code",
   "execution_count": 32,
   "id": "2d14c80d",
   "metadata": {},
   "outputs": [],
   "source": [
    "dict_2={'A':90,'C':40,'B':67,'D':86}"
   ]
  },
  {
   "cell_type": "code",
   "execution_count": 33,
   "id": "dfc63865",
   "metadata": {},
   "outputs": [],
   "source": [
    "S5=pd.Series(dict_2)"
   ]
  },
  {
   "cell_type": "code",
   "execution_count": 34,
   "id": "961fbf24",
   "metadata": {},
   "outputs": [
    {
     "data": {
      "text/plain": [
       "A    90\n",
       "C    40\n",
       "B    67\n",
       "D    86\n",
       "dtype: int64"
      ]
     },
     "execution_count": 34,
     "metadata": {},
     "output_type": "execute_result"
    }
   ],
   "source": [
    "S5"
   ]
  },
  {
   "cell_type": "code",
   "execution_count": 36,
   "id": "a173ed9d",
   "metadata": {},
   "outputs": [
    {
     "data": {
      "text/plain": [
       "A    90\n",
       "D    86\n",
       "B    67\n",
       "C    40\n",
       "dtype: int64"
      ]
     },
     "execution_count": 36,
     "metadata": {},
     "output_type": "execute_result"
    }
   ],
   "source": [
    "# Sort the Series \n",
    "\n",
    "S5.sort_values(ascending=False)"
   ]
  },
  {
   "cell_type": "code",
   "execution_count": 37,
   "id": "5a3e8d03",
   "metadata": {},
   "outputs": [
    {
     "data": {
      "text/plain": [
       "A    90\n",
       "B    67\n",
       "C    40\n",
       "D    86\n",
       "dtype: int64"
      ]
     },
     "execution_count": 37,
     "metadata": {},
     "output_type": "execute_result"
    }
   ],
   "source": [
    "S5.sort_index()"
   ]
  },
  {
   "cell_type": "code",
   "execution_count": null,
   "id": "0a8fb05d",
   "metadata": {},
   "outputs": [],
   "source": [
    "\"\"\"Create a pandas series, with the elements as numbers from 1-10. Use the index values\n",
    "starting from 0-10. For the above series:\n",
    "a. Convert it to a list.\n",
    "b. Convert it to a dictionary.\n",
    "c. Convert it to a tuple.\n",
    "d. Convert it to a set.\"\""
   ]
  },
  {
   "cell_type": "code",
   "execution_count": 2,
   "id": "f0fb4604",
   "metadata": {},
   "outputs": [],
   "source": [
    "import pandas as pd\n",
    "S6=pd.Series(range(1,11))"
   ]
  },
  {
   "cell_type": "code",
   "execution_count": 3,
   "id": "f1dba455",
   "metadata": {},
   "outputs": [
    {
     "data": {
      "text/plain": [
       "0     1\n",
       "1     2\n",
       "2     3\n",
       "3     4\n",
       "4     5\n",
       "5     6\n",
       "6     7\n",
       "7     8\n",
       "8     9\n",
       "9    10\n",
       "dtype: int64"
      ]
     },
     "execution_count": 3,
     "metadata": {},
     "output_type": "execute_result"
    }
   ],
   "source": [
    "S6"
   ]
  },
  {
   "cell_type": "code",
   "execution_count": 4,
   "id": "cfcf710d",
   "metadata": {},
   "outputs": [],
   "source": [
    "# Converting S--->List\n",
    "\n",
    "L1=list(S6)"
   ]
  },
  {
   "cell_type": "code",
   "execution_count": 5,
   "id": "3b1797e3",
   "metadata": {},
   "outputs": [
    {
     "data": {
      "text/plain": [
       "[1, 2, 3, 4, 5, 6, 7, 8, 9, 10]"
      ]
     },
     "execution_count": 5,
     "metadata": {},
     "output_type": "execute_result"
    }
   ],
   "source": [
    "L1"
   ]
  },
  {
   "cell_type": "code",
   "execution_count": 6,
   "id": "e8b9ff69",
   "metadata": {},
   "outputs": [
    {
     "data": {
      "text/plain": [
       "list"
      ]
     },
     "execution_count": 6,
     "metadata": {},
     "output_type": "execute_result"
    }
   ],
   "source": [
    "type(L1)"
   ]
  },
  {
   "cell_type": "code",
   "execution_count": 7,
   "id": "f805b66a",
   "metadata": {},
   "outputs": [],
   "source": [
    "# Converting S--->tuple\n",
    "T1=tuple(S6)\n"
   ]
  },
  {
   "cell_type": "code",
   "execution_count": 8,
   "id": "6dec2b41",
   "metadata": {},
   "outputs": [
    {
     "data": {
      "text/plain": [
       "(1, 2, 3, 4, 5, 6, 7, 8, 9, 10)"
      ]
     },
     "execution_count": 8,
     "metadata": {},
     "output_type": "execute_result"
    }
   ],
   "source": [
    "T1"
   ]
  },
  {
   "cell_type": "code",
   "execution_count": 9,
   "id": "ca27a029",
   "metadata": {},
   "outputs": [
    {
     "data": {
      "text/plain": [
       "tuple"
      ]
     },
     "execution_count": 9,
     "metadata": {},
     "output_type": "execute_result"
    }
   ],
   "source": [
    "type(T1)"
   ]
  },
  {
   "cell_type": "code",
   "execution_count": 10,
   "id": "887a8a10",
   "metadata": {},
   "outputs": [],
   "source": [
    "# Converting S---> Dictionary\n",
    "\n",
    "D1=dict(S6)"
   ]
  },
  {
   "cell_type": "code",
   "execution_count": 11,
   "id": "0a2fc20a",
   "metadata": {},
   "outputs": [
    {
     "data": {
      "text/plain": [
       "{0: 1, 1: 2, 2: 3, 3: 4, 4: 5, 5: 6, 6: 7, 7: 8, 8: 9, 9: 10}"
      ]
     },
     "execution_count": 11,
     "metadata": {},
     "output_type": "execute_result"
    }
   ],
   "source": [
    "D1"
   ]
  },
  {
   "cell_type": "code",
   "execution_count": 18,
   "id": "1f71baba",
   "metadata": {},
   "outputs": [],
   "source": [
    "# conversion to set\n",
    "\n",
    "Set_2=set(S6)"
   ]
  },
  {
   "cell_type": "code",
   "execution_count": 19,
   "id": "fd4f14a3",
   "metadata": {},
   "outputs": [
    {
     "data": {
      "text/plain": [
       "{1, 2, 3, 4, 5, 6, 7, 8, 9, 10}"
      ]
     },
     "execution_count": 19,
     "metadata": {},
     "output_type": "execute_result"
    }
   ],
   "source": [
    "Set_2\n",
    "\n",
    "# Series can be converted to set , but set cannot be converted to Series Directly."
   ]
  },
  {
   "cell_type": "code",
   "execution_count": null,
   "id": "6ff470f5",
   "metadata": {},
   "outputs": [],
   "source": [
    "\"\"\"\"Create a sample pandas series with x integer elements. Perform the following operations\n",
    "on the same:\n",
    "a. Print the first 5 elements of the series\n",
    "b. Print the last 5 elements of the series\n",
    "c. Insert an integer value ‘50’ at the index 5.\n",
    "d. Update the last element in the series with the value 100.\n",
    "e. Delete the first element from the series.\"\"\""
   ]
  },
  {
   "cell_type": "code",
   "execution_count": 33,
   "id": "1b3fe782",
   "metadata": {},
   "outputs": [],
   "source": [
    "S7=pd.Series(range(30,45))"
   ]
  },
  {
   "cell_type": "code",
   "execution_count": 34,
   "id": "6eb2124f",
   "metadata": {},
   "outputs": [
    {
     "data": {
      "text/plain": [
       "0     30\n",
       "1     31\n",
       "2     32\n",
       "3     33\n",
       "4     34\n",
       "5     35\n",
       "6     36\n",
       "7     37\n",
       "8     38\n",
       "9     39\n",
       "10    40\n",
       "11    41\n",
       "12    42\n",
       "13    43\n",
       "14    44\n",
       "dtype: int64"
      ]
     },
     "execution_count": 34,
     "metadata": {},
     "output_type": "execute_result"
    }
   ],
   "source": [
    "S7"
   ]
  },
  {
   "cell_type": "code",
   "execution_count": 35,
   "id": "72c1f595",
   "metadata": {},
   "outputs": [
    {
     "data": {
      "text/plain": [
       "0    30\n",
       "1    31\n",
       "2    32\n",
       "3    33\n",
       "4    34\n",
       "dtype: int64"
      ]
     },
     "execution_count": 35,
     "metadata": {},
     "output_type": "execute_result"
    }
   ],
   "source": [
    "S7.head() # Accessing the First 5 Element"
   ]
  },
  {
   "cell_type": "code",
   "execution_count": 36,
   "id": "9f979aeb",
   "metadata": {},
   "outputs": [
    {
     "data": {
      "text/plain": [
       "0    30\n",
       "1    31\n",
       "2    32\n",
       "3    33\n",
       "4    34\n",
       "dtype: int64"
      ]
     },
     "execution_count": 36,
     "metadata": {},
     "output_type": "execute_result"
    }
   ],
   "source": [
    "S7[0:5]"
   ]
  },
  {
   "cell_type": "code",
   "execution_count": 37,
   "id": "95681856",
   "metadata": {},
   "outputs": [
    {
     "data": {
      "text/plain": [
       "8     38\n",
       "9     39\n",
       "10    40\n",
       "11    41\n",
       "12    42\n",
       "13    43\n",
       "14    44\n",
       "dtype: int64"
      ]
     },
     "execution_count": 37,
     "metadata": {},
     "output_type": "execute_result"
    }
   ],
   "source": [
    "S7.tail(7)"
   ]
  },
  {
   "cell_type": "code",
   "execution_count": 38,
   "id": "d11e1b32",
   "metadata": {},
   "outputs": [
    {
     "data": {
      "text/plain": [
       "10    40\n",
       "11    41\n",
       "12    42\n",
       "13    43\n",
       "14    44\n",
       "dtype: int64"
      ]
     },
     "execution_count": 38,
     "metadata": {},
     "output_type": "execute_result"
    }
   ],
   "source": [
    "S7[-5:]  #[-5,-4,-3,-2,-1]"
   ]
  },
  {
   "cell_type": "code",
   "execution_count": 39,
   "id": "dfff0190",
   "metadata": {},
   "outputs": [
    {
     "data": {
      "text/plain": [
       "0     30\n",
       "1     31\n",
       "2     32\n",
       "3     33\n",
       "4     34\n",
       "5     35\n",
       "6     36\n",
       "7     37\n",
       "8     38\n",
       "9     39\n",
       "10    40\n",
       "11    41\n",
       "12    42\n",
       "13    43\n",
       "14    44\n",
       "dtype: int64"
      ]
     },
     "execution_count": 39,
     "metadata": {},
     "output_type": "execute_result"
    }
   ],
   "source": [
    "S7"
   ]
  },
  {
   "cell_type": "code",
   "execution_count": 40,
   "id": "bc0b4304",
   "metadata": {},
   "outputs": [],
   "source": [
    "# Convert List---> Series\n",
    "\n",
    "my_list=list(S7)"
   ]
  },
  {
   "cell_type": "code",
   "execution_count": 41,
   "id": "e29a3a36",
   "metadata": {},
   "outputs": [],
   "source": [
    "my_list.insert(5,50)"
   ]
  },
  {
   "cell_type": "code",
   "execution_count": 42,
   "id": "9a32fae2",
   "metadata": {},
   "outputs": [],
   "source": [
    "S7=pd.Series(my_list)"
   ]
  },
  {
   "cell_type": "code",
   "execution_count": 43,
   "id": "d096837d",
   "metadata": {},
   "outputs": [
    {
     "data": {
      "text/plain": [
       "0     30\n",
       "1     31\n",
       "2     32\n",
       "3     33\n",
       "4     34\n",
       "5     50\n",
       "6     35\n",
       "7     36\n",
       "8     37\n",
       "9     38\n",
       "10    39\n",
       "11    40\n",
       "12    41\n",
       "13    42\n",
       "14    43\n",
       "15    44\n",
       "dtype: int64"
      ]
     },
     "execution_count": 43,
     "metadata": {},
     "output_type": "execute_result"
    }
   ],
   "source": [
    "S7"
   ]
  },
  {
   "cell_type": "code",
   "execution_count": 46,
   "id": "c7ade762",
   "metadata": {},
   "outputs": [],
   "source": [
    "# Updating the Last.\n",
    "\n",
    "\n",
    "S7[-1:]=100"
   ]
  },
  {
   "cell_type": "code",
   "execution_count": 49,
   "id": "422565e0",
   "metadata": {},
   "outputs": [],
   "source": [
    "S7[15]=100"
   ]
  },
  {
   "cell_type": "code",
   "execution_count": 50,
   "id": "5a6dc4fb",
   "metadata": {},
   "outputs": [
    {
     "data": {
      "text/plain": [
       "0      30\n",
       "1      31\n",
       "2      32\n",
       "3      33\n",
       "4      34\n",
       "5      50\n",
       "6      35\n",
       "7      36\n",
       "8      37\n",
       "9      38\n",
       "10     39\n",
       "11     40\n",
       "12     41\n",
       "13     42\n",
       "14     43\n",
       "15    100\n",
       "dtype: int64"
      ]
     },
     "execution_count": 50,
     "metadata": {},
     "output_type": "execute_result"
    }
   ],
   "source": [
    "S7"
   ]
  },
  {
   "cell_type": "code",
   "execution_count": 52,
   "id": "d8d74150",
   "metadata": {},
   "outputs": [],
   "source": [
    "# deleting \n",
    "\n",
    "S7=S7.drop(0)"
   ]
  },
  {
   "cell_type": "code",
   "execution_count": 53,
   "id": "68247b7d",
   "metadata": {},
   "outputs": [
    {
     "data": {
      "text/plain": [
       "1      31\n",
       "2      32\n",
       "3      33\n",
       "4      34\n",
       "5      50\n",
       "6      35\n",
       "7      36\n",
       "8      37\n",
       "9      38\n",
       "10     39\n",
       "11     40\n",
       "12     41\n",
       "13     42\n",
       "14     43\n",
       "15    100\n",
       "dtype: int64"
      ]
     },
     "execution_count": 53,
     "metadata": {},
     "output_type": "execute_result"
    }
   ],
   "source": [
    "S7"
   ]
  },
  {
   "cell_type": "code",
   "execution_count": 54,
   "id": "30e9ce56",
   "metadata": {},
   "outputs": [
    {
     "data": {
      "text/plain": [
       "1      31\n",
       "2      32\n",
       "3      33\n",
       "4      34\n",
       "5      50\n",
       "6      35\n",
       "7      36\n",
       "8      37\n",
       "9      38\n",
       "10     39\n",
       "11     40\n",
       "12     41\n",
       "13     42\n",
       "14     43\n",
       "15    100\n",
       "dtype: int64"
      ]
     },
     "execution_count": 54,
     "metadata": {},
     "output_type": "execute_result"
    }
   ],
   "source": [
    "S7"
   ]
  },
  {
   "cell_type": "code",
   "execution_count": 71,
   "id": "78eb9925",
   "metadata": {},
   "outputs": [
    {
     "name": "stdout",
     "output_type": "stream",
     "text": [
      "Element is Present\n",
      "10\n"
     ]
    }
   ],
   "source": [
    "# Task 5:\n",
    "\n",
    "S7\n",
    "\n",
    "for i in S7:\n",
    "    if i==39:\n",
    "        print('Element is Present')\n",
    "        print(S7[S7==i].index[0])"
   ]
  },
  {
   "cell_type": "code",
   "execution_count": 66,
   "id": "7b4a5452",
   "metadata": {},
   "outputs": [
    {
     "data": {
      "text/plain": [
       "15"
      ]
     },
     "execution_count": 66,
     "metadata": {},
     "output_type": "execute_result"
    }
   ],
   "source": [
    "S7[S7==100].index[0]"
   ]
  },
  {
   "cell_type": "code",
   "execution_count": 72,
   "id": "8d9f5e58",
   "metadata": {},
   "outputs": [],
   "source": [
    "# Task 6\n",
    "\n",
    "series_A = pd.Series([1,2,3,4,5])\n",
    "series_B = pd.Series([6,7,8,9,10])"
   ]
  },
  {
   "cell_type": "code",
   "execution_count": 80,
   "id": "70752c75",
   "metadata": {},
   "outputs": [
    {
     "data": {
      "text/plain": [
       "0     1\n",
       "1     2\n",
       "2     3\n",
       "3     4\n",
       "4     5\n",
       "5     6\n",
       "6     7\n",
       "7     8\n",
       "8     9\n",
       "9    10\n",
       "dtype: int64"
      ]
     },
     "execution_count": 80,
     "metadata": {},
     "output_type": "execute_result"
    }
   ],
   "source": [
    "pd.concat((series_A,series_B),ignore_index=True)"
   ]
  },
  {
   "cell_type": "code",
   "execution_count": 75,
   "id": "f41a9b46",
   "metadata": {},
   "outputs": [],
   "source": [
    "S_A=series_A+series_B"
   ]
  },
  {
   "cell_type": "code",
   "execution_count": 76,
   "id": "044b2145",
   "metadata": {},
   "outputs": [
    {
     "data": {
      "text/plain": [
       "0     7\n",
       "1     9\n",
       "2    11\n",
       "3    13\n",
       "4    15\n",
       "dtype: int64"
      ]
     },
     "execution_count": 76,
     "metadata": {},
     "output_type": "execute_result"
    }
   ],
   "source": [
    "S_A"
   ]
  },
  {
   "cell_type": "code",
   "execution_count": 81,
   "id": "f9816fdf",
   "metadata": {},
   "outputs": [],
   "source": [
    "# Task 7\n",
    "\n",
    "Sample = pd.Series([1,2,3,4,5,6,7,8,9,10])"
   ]
  },
  {
   "cell_type": "code",
   "execution_count": 82,
   "id": "82080dd0",
   "metadata": {},
   "outputs": [
    {
     "data": {
      "text/plain": [
       "0     1\n",
       "1     2\n",
       "2     3\n",
       "3     4\n",
       "4     5\n",
       "5     6\n",
       "6     7\n",
       "7     8\n",
       "8     9\n",
       "9    10\n",
       "dtype: int64"
      ]
     },
     "execution_count": 82,
     "metadata": {},
     "output_type": "execute_result"
    }
   ],
   "source": [
    "Sample"
   ]
  },
  {
   "cell_type": "code",
   "execution_count": 83,
   "id": "c90bd602",
   "metadata": {},
   "outputs": [
    {
     "name": "stdout",
     "output_type": "stream",
     "text": [
      "1\n",
      "2\n",
      "3\n",
      "4\n",
      "5\n",
      "6\n",
      "7\n",
      "8\n",
      "9\n",
      "10\n"
     ]
    }
   ],
   "source": [
    "for x in Sample:\n",
    "    print(x)"
   ]
  },
  {
   "cell_type": "code",
   "execution_count": 91,
   "id": "5071c09b",
   "metadata": {},
   "outputs": [],
   "source": [
    "# Data Frame (row and columns): Collection of pandas Series.\n",
    "\n",
    "List = [['AA','BB','CC'], ['DD','EE','FF'], ['GG','HH','II']]\n",
    "Dictionary = { 'Kris': ['Jordan', 12,22],'Memphis': ['Depay', 23, 24],'Harry':['Mark',25,65]}"
   ]
  },
  {
   "cell_type": "code",
   "execution_count": 92,
   "id": "c87f25ef",
   "metadata": {},
   "outputs": [],
   "source": [
    "Df1=pd.DataFrame(List,columns=['Col1','Col2','Col3'])"
   ]
  },
  {
   "cell_type": "code",
   "execution_count": 93,
   "id": "b0de9ace",
   "metadata": {},
   "outputs": [
    {
     "data": {
      "text/html": [
       "<div>\n",
       "<style scoped>\n",
       "    .dataframe tbody tr th:only-of-type {\n",
       "        vertical-align: middle;\n",
       "    }\n",
       "\n",
       "    .dataframe tbody tr th {\n",
       "        vertical-align: top;\n",
       "    }\n",
       "\n",
       "    .dataframe thead th {\n",
       "        text-align: right;\n",
       "    }\n",
       "</style>\n",
       "<table border=\"1\" class=\"dataframe\">\n",
       "  <thead>\n",
       "    <tr style=\"text-align: right;\">\n",
       "      <th></th>\n",
       "      <th>Col1</th>\n",
       "      <th>Col2</th>\n",
       "      <th>Col3</th>\n",
       "    </tr>\n",
       "  </thead>\n",
       "  <tbody>\n",
       "    <tr>\n",
       "      <th>0</th>\n",
       "      <td>AA</td>\n",
       "      <td>BB</td>\n",
       "      <td>CC</td>\n",
       "    </tr>\n",
       "    <tr>\n",
       "      <th>1</th>\n",
       "      <td>DD</td>\n",
       "      <td>EE</td>\n",
       "      <td>FF</td>\n",
       "    </tr>\n",
       "    <tr>\n",
       "      <th>2</th>\n",
       "      <td>GG</td>\n",
       "      <td>HH</td>\n",
       "      <td>II</td>\n",
       "    </tr>\n",
       "  </tbody>\n",
       "</table>\n",
       "</div>"
      ],
      "text/plain": [
       "  Col1 Col2 Col3\n",
       "0   AA   BB   CC\n",
       "1   DD   EE   FF\n",
       "2   GG   HH   II"
      ]
     },
     "execution_count": 93,
     "metadata": {},
     "output_type": "execute_result"
    }
   ],
   "source": [
    "Df1"
   ]
  },
  {
   "cell_type": "code",
   "execution_count": 99,
   "id": "0bce18c4",
   "metadata": {},
   "outputs": [],
   "source": [
    "Df2=pd.DataFrame(Dictionary)"
   ]
  },
  {
   "cell_type": "code",
   "execution_count": 101,
   "id": "e9711b80",
   "metadata": {},
   "outputs": [
    {
     "data": {
      "text/html": [
       "<div>\n",
       "<style scoped>\n",
       "    .dataframe tbody tr th:only-of-type {\n",
       "        vertical-align: middle;\n",
       "    }\n",
       "\n",
       "    .dataframe tbody tr th {\n",
       "        vertical-align: top;\n",
       "    }\n",
       "\n",
       "    .dataframe thead th {\n",
       "        text-align: right;\n",
       "    }\n",
       "</style>\n",
       "<table border=\"1\" class=\"dataframe\">\n",
       "  <thead>\n",
       "    <tr style=\"text-align: right;\">\n",
       "      <th></th>\n",
       "      <th>Col A</th>\n",
       "      <th>Col B</th>\n",
       "      <th>Col C</th>\n",
       "    </tr>\n",
       "  </thead>\n",
       "  <tbody>\n",
       "    <tr>\n",
       "      <th>0</th>\n",
       "      <td>Jordan</td>\n",
       "      <td>Depay</td>\n",
       "      <td>Mark</td>\n",
       "    </tr>\n",
       "    <tr>\n",
       "      <th>1</th>\n",
       "      <td>12</td>\n",
       "      <td>23</td>\n",
       "      <td>25</td>\n",
       "    </tr>\n",
       "    <tr>\n",
       "      <th>2</th>\n",
       "      <td>22</td>\n",
       "      <td>24</td>\n",
       "      <td>65</td>\n",
       "    </tr>\n",
       "  </tbody>\n",
       "</table>\n",
       "</div>"
      ],
      "text/plain": [
       "    Col A  Col B Col C\n",
       "0  Jordan  Depay  Mark\n",
       "1      12     23    25\n",
       "2      22     24    65"
      ]
     },
     "execution_count": 101,
     "metadata": {},
     "output_type": "execute_result"
    }
   ],
   "source": [
    "Df2.rename(columns={'Kris':'Col A','Memphis':'Col B','Harry':'Col C'})"
   ]
  },
  {
   "cell_type": "code",
   "execution_count": 118,
   "id": "bcad827b",
   "metadata": {},
   "outputs": [],
   "source": [
    "dict_3={'Name':['John','Marry','Bob','Henry','Rose'],'Age':[23,12,34,26,32]}"
   ]
  },
  {
   "cell_type": "code",
   "execution_count": 119,
   "id": "7b7a258a",
   "metadata": {},
   "outputs": [],
   "source": [
    "Df3=pd.DataFrame(dict_3)"
   ]
  },
  {
   "cell_type": "code",
   "execution_count": 120,
   "id": "e85c07af",
   "metadata": {},
   "outputs": [
    {
     "data": {
      "text/html": [
       "<div>\n",
       "<style scoped>\n",
       "    .dataframe tbody tr th:only-of-type {\n",
       "        vertical-align: middle;\n",
       "    }\n",
       "\n",
       "    .dataframe tbody tr th {\n",
       "        vertical-align: top;\n",
       "    }\n",
       "\n",
       "    .dataframe thead th {\n",
       "        text-align: right;\n",
       "    }\n",
       "</style>\n",
       "<table border=\"1\" class=\"dataframe\">\n",
       "  <thead>\n",
       "    <tr style=\"text-align: right;\">\n",
       "      <th></th>\n",
       "      <th>Name</th>\n",
       "      <th>Age</th>\n",
       "    </tr>\n",
       "  </thead>\n",
       "  <tbody>\n",
       "    <tr>\n",
       "      <th>0</th>\n",
       "      <td>John</td>\n",
       "      <td>23</td>\n",
       "    </tr>\n",
       "    <tr>\n",
       "      <th>1</th>\n",
       "      <td>Marry</td>\n",
       "      <td>12</td>\n",
       "    </tr>\n",
       "    <tr>\n",
       "      <th>2</th>\n",
       "      <td>Bob</td>\n",
       "      <td>34</td>\n",
       "    </tr>\n",
       "    <tr>\n",
       "      <th>3</th>\n",
       "      <td>Henry</td>\n",
       "      <td>26</td>\n",
       "    </tr>\n",
       "    <tr>\n",
       "      <th>4</th>\n",
       "      <td>Rose</td>\n",
       "      <td>32</td>\n",
       "    </tr>\n",
       "  </tbody>\n",
       "</table>\n",
       "</div>"
      ],
      "text/plain": [
       "    Name  Age\n",
       "0   John   23\n",
       "1  Marry   12\n",
       "2    Bob   34\n",
       "3  Henry   26\n",
       "4   Rose   32"
      ]
     },
     "execution_count": 120,
     "metadata": {},
     "output_type": "execute_result"
    }
   ],
   "source": [
    "Df3"
   ]
  },
  {
   "cell_type": "code",
   "execution_count": 121,
   "id": "c20aa035",
   "metadata": {},
   "outputs": [
    {
     "data": {
      "text/html": [
       "<div>\n",
       "<style scoped>\n",
       "    .dataframe tbody tr th:only-of-type {\n",
       "        vertical-align: middle;\n",
       "    }\n",
       "\n",
       "    .dataframe tbody tr th {\n",
       "        vertical-align: top;\n",
       "    }\n",
       "\n",
       "    .dataframe thead th {\n",
       "        text-align: right;\n",
       "    }\n",
       "</style>\n",
       "<table border=\"1\" class=\"dataframe\">\n",
       "  <thead>\n",
       "    <tr style=\"text-align: right;\">\n",
       "      <th></th>\n",
       "      <th>Name</th>\n",
       "      <th>Age</th>\n",
       "    </tr>\n",
       "  </thead>\n",
       "  <tbody>\n",
       "    <tr>\n",
       "      <th>0</th>\n",
       "      <td>John</td>\n",
       "      <td>23</td>\n",
       "    </tr>\n",
       "    <tr>\n",
       "      <th>1</th>\n",
       "      <td>Marry</td>\n",
       "      <td>12</td>\n",
       "    </tr>\n",
       "    <tr>\n",
       "      <th>2</th>\n",
       "      <td>Bob</td>\n",
       "      <td>34</td>\n",
       "    </tr>\n",
       "  </tbody>\n",
       "</table>\n",
       "</div>"
      ],
      "text/plain": [
       "    Name  Age\n",
       "0   John   23\n",
       "1  Marry   12\n",
       "2    Bob   34"
      ]
     },
     "execution_count": 121,
     "metadata": {},
     "output_type": "execute_result"
    }
   ],
   "source": [
    "Df3.head(3)"
   ]
  },
  {
   "cell_type": "code",
   "execution_count": 109,
   "id": "4e1509e6",
   "metadata": {},
   "outputs": [
    {
     "data": {
      "text/html": [
       "<div>\n",
       "<style scoped>\n",
       "    .dataframe tbody tr th:only-of-type {\n",
       "        vertical-align: middle;\n",
       "    }\n",
       "\n",
       "    .dataframe tbody tr th {\n",
       "        vertical-align: top;\n",
       "    }\n",
       "\n",
       "    .dataframe thead th {\n",
       "        text-align: right;\n",
       "    }\n",
       "</style>\n",
       "<table border=\"1\" class=\"dataframe\">\n",
       "  <thead>\n",
       "    <tr style=\"text-align: right;\">\n",
       "      <th></th>\n",
       "      <th>Name</th>\n",
       "      <th>Age</th>\n",
       "    </tr>\n",
       "  </thead>\n",
       "  <tbody>\n",
       "    <tr>\n",
       "      <th>0</th>\n",
       "      <td>John</td>\n",
       "      <td>23</td>\n",
       "    </tr>\n",
       "    <tr>\n",
       "      <th>1</th>\n",
       "      <td>Marry</td>\n",
       "      <td>12</td>\n",
       "    </tr>\n",
       "    <tr>\n",
       "      <th>2</th>\n",
       "      <td>Bob</td>\n",
       "      <td>34</td>\n",
       "    </tr>\n",
       "  </tbody>\n",
       "</table>\n",
       "</div>"
      ],
      "text/plain": [
       "    Name  Age\n",
       "0   John   23\n",
       "1  Marry   12\n",
       "2    Bob   34"
      ]
     },
     "execution_count": 109,
     "metadata": {},
     "output_type": "execute_result"
    }
   ],
   "source": [
    "Df3[0:3]"
   ]
  },
  {
   "cell_type": "code",
   "execution_count": null,
   "id": "0f9dd2bf",
   "metadata": {},
   "outputs": [],
   "source": [
    "''''a. Print the first 3 rows of the Data Frame .\n",
    "b. Print the rows that have the age greater than 15.\n",
    "c. Insert 5 imaginary names and ages as values to the pandas Data Frame .\n",
    "d. Update the 5th row so that the name = john and age=56.\n",
    "e. Delete the first row from the Data Frame"
   ]
  },
  {
   "cell_type": "code",
   "execution_count": 111,
   "id": "80f7ea89",
   "metadata": {},
   "outputs": [
    {
     "data": {
      "text/html": [
       "<div>\n",
       "<style scoped>\n",
       "    .dataframe tbody tr th:only-of-type {\n",
       "        vertical-align: middle;\n",
       "    }\n",
       "\n",
       "    .dataframe tbody tr th {\n",
       "        vertical-align: top;\n",
       "    }\n",
       "\n",
       "    .dataframe thead th {\n",
       "        text-align: right;\n",
       "    }\n",
       "</style>\n",
       "<table border=\"1\" class=\"dataframe\">\n",
       "  <thead>\n",
       "    <tr style=\"text-align: right;\">\n",
       "      <th></th>\n",
       "      <th>Name</th>\n",
       "      <th>Age</th>\n",
       "    </tr>\n",
       "  </thead>\n",
       "  <tbody>\n",
       "    <tr>\n",
       "      <th>2</th>\n",
       "      <td>Bob</td>\n",
       "      <td>34</td>\n",
       "    </tr>\n",
       "    <tr>\n",
       "      <th>3</th>\n",
       "      <td>Henry</td>\n",
       "      <td>26</td>\n",
       "    </tr>\n",
       "  </tbody>\n",
       "</table>\n",
       "</div>"
      ],
      "text/plain": [
       "    Name  Age\n",
       "2    Bob   34\n",
       "3  Henry   26"
      ]
     },
     "execution_count": 111,
     "metadata": {},
     "output_type": "execute_result"
    }
   ],
   "source": [
    "Df3[Df3['Age']>23]"
   ]
  },
  {
   "cell_type": "code",
   "execution_count": 112,
   "id": "373695d5",
   "metadata": {},
   "outputs": [
    {
     "data": {
      "text/plain": [
       "0    23\n",
       "1    12\n",
       "2    34\n",
       "3    26\n",
       "Name: Age, dtype: int64"
      ]
     },
     "execution_count": 112,
     "metadata": {},
     "output_type": "execute_result"
    }
   ],
   "source": [
    "Df3['Age']"
   ]
  },
  {
   "cell_type": "code",
   "execution_count": 122,
   "id": "341ccdd4",
   "metadata": {},
   "outputs": [
    {
     "data": {
      "text/html": [
       "<div>\n",
       "<style scoped>\n",
       "    .dataframe tbody tr th:only-of-type {\n",
       "        vertical-align: middle;\n",
       "    }\n",
       "\n",
       "    .dataframe tbody tr th {\n",
       "        vertical-align: top;\n",
       "    }\n",
       "\n",
       "    .dataframe thead th {\n",
       "        text-align: right;\n",
       "    }\n",
       "</style>\n",
       "<table border=\"1\" class=\"dataframe\">\n",
       "  <thead>\n",
       "    <tr style=\"text-align: right;\">\n",
       "      <th></th>\n",
       "      <th>Name</th>\n",
       "      <th>Age</th>\n",
       "    </tr>\n",
       "  </thead>\n",
       "  <tbody>\n",
       "    <tr>\n",
       "      <th>0</th>\n",
       "      <td>John</td>\n",
       "      <td>23</td>\n",
       "    </tr>\n",
       "    <tr>\n",
       "      <th>1</th>\n",
       "      <td>Marry</td>\n",
       "      <td>12</td>\n",
       "    </tr>\n",
       "    <tr>\n",
       "      <th>2</th>\n",
       "      <td>Bob</td>\n",
       "      <td>34</td>\n",
       "    </tr>\n",
       "    <tr>\n",
       "      <th>3</th>\n",
       "      <td>Henry</td>\n",
       "      <td>26</td>\n",
       "    </tr>\n",
       "    <tr>\n",
       "      <th>4</th>\n",
       "      <td>Rose</td>\n",
       "      <td>32</td>\n",
       "    </tr>\n",
       "  </tbody>\n",
       "</table>\n",
       "</div>"
      ],
      "text/plain": [
       "    Name  Age\n",
       "0   John   23\n",
       "1  Marry   12\n",
       "2    Bob   34\n",
       "3  Henry   26\n",
       "4   Rose   32"
      ]
     },
     "execution_count": 122,
     "metadata": {},
     "output_type": "execute_result"
    }
   ],
   "source": [
    "Df3"
   ]
  },
  {
   "cell_type": "code",
   "execution_count": null,
   "id": "558cc626",
   "metadata": {},
   "outputs": [],
   "source": [
    "# Familiarize\n",
    "\n",
    "# iloc: accepting the integers as location Specifiers.\n",
    "\n",
    "# loc: accepting the labels."
   ]
  },
  {
   "cell_type": "code",
   "execution_count": 127,
   "id": "bc7ee587",
   "metadata": {},
   "outputs": [
    {
     "data": {
      "text/plain": [
       "12"
      ]
     },
     "execution_count": 127,
     "metadata": {},
     "output_type": "execute_result"
    }
   ],
   "source": [
    "Df3.iloc[1,1]"
   ]
  },
  {
   "cell_type": "code",
   "execution_count": 129,
   "id": "9e106448",
   "metadata": {},
   "outputs": [],
   "source": [
    "Df3.loc[4,'Age']=56"
   ]
  },
  {
   "cell_type": "code",
   "execution_count": 130,
   "id": "053bd088",
   "metadata": {},
   "outputs": [],
   "source": [
    "Df3.loc[4,'Name']='John'"
   ]
  },
  {
   "cell_type": "code",
   "execution_count": 131,
   "id": "c799aacd",
   "metadata": {},
   "outputs": [
    {
     "data": {
      "text/html": [
       "<div>\n",
       "<style scoped>\n",
       "    .dataframe tbody tr th:only-of-type {\n",
       "        vertical-align: middle;\n",
       "    }\n",
       "\n",
       "    .dataframe tbody tr th {\n",
       "        vertical-align: top;\n",
       "    }\n",
       "\n",
       "    .dataframe thead th {\n",
       "        text-align: right;\n",
       "    }\n",
       "</style>\n",
       "<table border=\"1\" class=\"dataframe\">\n",
       "  <thead>\n",
       "    <tr style=\"text-align: right;\">\n",
       "      <th></th>\n",
       "      <th>Name</th>\n",
       "      <th>Age</th>\n",
       "    </tr>\n",
       "  </thead>\n",
       "  <tbody>\n",
       "    <tr>\n",
       "      <th>0</th>\n",
       "      <td>John</td>\n",
       "      <td>23</td>\n",
       "    </tr>\n",
       "    <tr>\n",
       "      <th>1</th>\n",
       "      <td>Marry</td>\n",
       "      <td>12</td>\n",
       "    </tr>\n",
       "    <tr>\n",
       "      <th>2</th>\n",
       "      <td>Bob</td>\n",
       "      <td>34</td>\n",
       "    </tr>\n",
       "    <tr>\n",
       "      <th>3</th>\n",
       "      <td>Henry</td>\n",
       "      <td>26</td>\n",
       "    </tr>\n",
       "    <tr>\n",
       "      <th>4</th>\n",
       "      <td>John</td>\n",
       "      <td>56</td>\n",
       "    </tr>\n",
       "  </tbody>\n",
       "</table>\n",
       "</div>"
      ],
      "text/plain": [
       "    Name  Age\n",
       "0   John   23\n",
       "1  Marry   12\n",
       "2    Bob   34\n",
       "3  Henry   26\n",
       "4   John   56"
      ]
     },
     "execution_count": 131,
     "metadata": {},
     "output_type": "execute_result"
    }
   ],
   "source": [
    "Df3"
   ]
  },
  {
   "cell_type": "code",
   "execution_count": 133,
   "id": "ecd26568",
   "metadata": {},
   "outputs": [],
   "source": [
    "Df3.loc[len(Df3.index)]=['Harry',45]"
   ]
  },
  {
   "cell_type": "code",
   "execution_count": 134,
   "id": "c509aa24",
   "metadata": {},
   "outputs": [
    {
     "data": {
      "text/html": [
       "<div>\n",
       "<style scoped>\n",
       "    .dataframe tbody tr th:only-of-type {\n",
       "        vertical-align: middle;\n",
       "    }\n",
       "\n",
       "    .dataframe tbody tr th {\n",
       "        vertical-align: top;\n",
       "    }\n",
       "\n",
       "    .dataframe thead th {\n",
       "        text-align: right;\n",
       "    }\n",
       "</style>\n",
       "<table border=\"1\" class=\"dataframe\">\n",
       "  <thead>\n",
       "    <tr style=\"text-align: right;\">\n",
       "      <th></th>\n",
       "      <th>Name</th>\n",
       "      <th>Age</th>\n",
       "    </tr>\n",
       "  </thead>\n",
       "  <tbody>\n",
       "    <tr>\n",
       "      <th>0</th>\n",
       "      <td>John</td>\n",
       "      <td>23</td>\n",
       "    </tr>\n",
       "    <tr>\n",
       "      <th>1</th>\n",
       "      <td>Marry</td>\n",
       "      <td>12</td>\n",
       "    </tr>\n",
       "    <tr>\n",
       "      <th>2</th>\n",
       "      <td>Bob</td>\n",
       "      <td>34</td>\n",
       "    </tr>\n",
       "    <tr>\n",
       "      <th>3</th>\n",
       "      <td>Henry</td>\n",
       "      <td>26</td>\n",
       "    </tr>\n",
       "    <tr>\n",
       "      <th>4</th>\n",
       "      <td>John</td>\n",
       "      <td>56</td>\n",
       "    </tr>\n",
       "    <tr>\n",
       "      <th>5</th>\n",
       "      <td>Harry</td>\n",
       "      <td>45</td>\n",
       "    </tr>\n",
       "  </tbody>\n",
       "</table>\n",
       "</div>"
      ],
      "text/plain": [
       "    Name  Age\n",
       "0   John   23\n",
       "1  Marry   12\n",
       "2    Bob   34\n",
       "3  Henry   26\n",
       "4   John   56\n",
       "5  Harry   45"
      ]
     },
     "execution_count": 134,
     "metadata": {},
     "output_type": "execute_result"
    }
   ],
   "source": [
    "Df3"
   ]
  },
  {
   "cell_type": "code",
   "execution_count": 135,
   "id": "aa37782c",
   "metadata": {},
   "outputs": [],
   "source": [
    "Dict_5={'Name':['X','Y','Z','U'],'Age':[56,43,21,67]}"
   ]
  },
  {
   "cell_type": "code",
   "execution_count": 136,
   "id": "eb06dcb6",
   "metadata": {},
   "outputs": [],
   "source": [
    "Df4=pd.DataFrame(Dict_5)"
   ]
  },
  {
   "cell_type": "code",
   "execution_count": 137,
   "id": "73a5c5a0",
   "metadata": {},
   "outputs": [
    {
     "data": {
      "text/html": [
       "<div>\n",
       "<style scoped>\n",
       "    .dataframe tbody tr th:only-of-type {\n",
       "        vertical-align: middle;\n",
       "    }\n",
       "\n",
       "    .dataframe tbody tr th {\n",
       "        vertical-align: top;\n",
       "    }\n",
       "\n",
       "    .dataframe thead th {\n",
       "        text-align: right;\n",
       "    }\n",
       "</style>\n",
       "<table border=\"1\" class=\"dataframe\">\n",
       "  <thead>\n",
       "    <tr style=\"text-align: right;\">\n",
       "      <th></th>\n",
       "      <th>Name</th>\n",
       "      <th>Age</th>\n",
       "    </tr>\n",
       "  </thead>\n",
       "  <tbody>\n",
       "    <tr>\n",
       "      <th>0</th>\n",
       "      <td>X</td>\n",
       "      <td>56</td>\n",
       "    </tr>\n",
       "    <tr>\n",
       "      <th>1</th>\n",
       "      <td>Y</td>\n",
       "      <td>43</td>\n",
       "    </tr>\n",
       "    <tr>\n",
       "      <th>2</th>\n",
       "      <td>Z</td>\n",
       "      <td>21</td>\n",
       "    </tr>\n",
       "    <tr>\n",
       "      <th>3</th>\n",
       "      <td>U</td>\n",
       "      <td>67</td>\n",
       "    </tr>\n",
       "  </tbody>\n",
       "</table>\n",
       "</div>"
      ],
      "text/plain": [
       "  Name  Age\n",
       "0    X   56\n",
       "1    Y   43\n",
       "2    Z   21\n",
       "3    U   67"
      ]
     },
     "execution_count": 137,
     "metadata": {},
     "output_type": "execute_result"
    }
   ],
   "source": [
    "Df4"
   ]
  },
  {
   "cell_type": "code",
   "execution_count": 142,
   "id": "7adf88f2",
   "metadata": {},
   "outputs": [],
   "source": [
    "Df_new=pd.concat([Df3,Df4],ignore_index=True)"
   ]
  },
  {
   "cell_type": "code",
   "execution_count": 143,
   "id": "46991807",
   "metadata": {},
   "outputs": [
    {
     "data": {
      "text/html": [
       "<div>\n",
       "<style scoped>\n",
       "    .dataframe tbody tr th:only-of-type {\n",
       "        vertical-align: middle;\n",
       "    }\n",
       "\n",
       "    .dataframe tbody tr th {\n",
       "        vertical-align: top;\n",
       "    }\n",
       "\n",
       "    .dataframe thead th {\n",
       "        text-align: right;\n",
       "    }\n",
       "</style>\n",
       "<table border=\"1\" class=\"dataframe\">\n",
       "  <thead>\n",
       "    <tr style=\"text-align: right;\">\n",
       "      <th></th>\n",
       "      <th>Name</th>\n",
       "      <th>Age</th>\n",
       "    </tr>\n",
       "  </thead>\n",
       "  <tbody>\n",
       "    <tr>\n",
       "      <th>0</th>\n",
       "      <td>John</td>\n",
       "      <td>23</td>\n",
       "    </tr>\n",
       "    <tr>\n",
       "      <th>1</th>\n",
       "      <td>Marry</td>\n",
       "      <td>12</td>\n",
       "    </tr>\n",
       "    <tr>\n",
       "      <th>2</th>\n",
       "      <td>Bob</td>\n",
       "      <td>34</td>\n",
       "    </tr>\n",
       "    <tr>\n",
       "      <th>3</th>\n",
       "      <td>Henry</td>\n",
       "      <td>26</td>\n",
       "    </tr>\n",
       "    <tr>\n",
       "      <th>4</th>\n",
       "      <td>John</td>\n",
       "      <td>56</td>\n",
       "    </tr>\n",
       "    <tr>\n",
       "      <th>5</th>\n",
       "      <td>Harry</td>\n",
       "      <td>45</td>\n",
       "    </tr>\n",
       "    <tr>\n",
       "      <th>6</th>\n",
       "      <td>X</td>\n",
       "      <td>56</td>\n",
       "    </tr>\n",
       "    <tr>\n",
       "      <th>7</th>\n",
       "      <td>Y</td>\n",
       "      <td>43</td>\n",
       "    </tr>\n",
       "    <tr>\n",
       "      <th>8</th>\n",
       "      <td>Z</td>\n",
       "      <td>21</td>\n",
       "    </tr>\n",
       "    <tr>\n",
       "      <th>9</th>\n",
       "      <td>U</td>\n",
       "      <td>67</td>\n",
       "    </tr>\n",
       "  </tbody>\n",
       "</table>\n",
       "</div>"
      ],
      "text/plain": [
       "    Name  Age\n",
       "0   John   23\n",
       "1  Marry   12\n",
       "2    Bob   34\n",
       "3  Henry   26\n",
       "4   John   56\n",
       "5  Harry   45\n",
       "6      X   56\n",
       "7      Y   43\n",
       "8      Z   21\n",
       "9      U   67"
      ]
     },
     "execution_count": 143,
     "metadata": {},
     "output_type": "execute_result"
    }
   ],
   "source": [
    "Df_new"
   ]
  },
  {
   "cell_type": "code",
   "execution_count": 144,
   "id": "c766550c",
   "metadata": {},
   "outputs": [
    {
     "data": {
      "text/plain": [
       "Name    object\n",
       "Age      int64\n",
       "dtype: object"
      ]
     },
     "execution_count": 144,
     "metadata": {},
     "output_type": "execute_result"
    }
   ],
   "source": [
    "Df_new.dtypes"
   ]
  },
  {
   "cell_type": "code",
   "execution_count": 145,
   "id": "02280d32",
   "metadata": {},
   "outputs": [
    {
     "data": {
      "text/plain": [
       "0    23\n",
       "1    12\n",
       "2    34\n",
       "3    26\n",
       "4    56\n",
       "5    45\n",
       "6    56\n",
       "7    43\n",
       "8    21\n",
       "9    67\n",
       "Name: Age, dtype: int32"
      ]
     },
     "execution_count": 145,
     "metadata": {},
     "output_type": "execute_result"
    }
   ],
   "source": [
    "Df_new['Age'].astype(int)"
   ]
  },
  {
   "cell_type": "code",
   "execution_count": null,
   "id": "5cd619c2",
   "metadata": {},
   "outputs": [],
   "source": [
    "# Dropping the column.\n",
    "\n",
    "# Addition of column\n",
    "\n",
    "# Conditional Execution and forming up the Data frame"
   ]
  }
 ],
 "metadata": {
  "kernelspec": {
   "display_name": "Python 3 (ipykernel)",
   "language": "python",
   "name": "python3"
  },
  "language_info": {
   "codemirror_mode": {
    "name": "ipython",
    "version": 3
   },
   "file_extension": ".py",
   "mimetype": "text/x-python",
   "name": "python",
   "nbconvert_exporter": "python",
   "pygments_lexer": "ipython3",
   "version": "3.9.7"
  }
 },
 "nbformat": 4,
 "nbformat_minor": 5
}
