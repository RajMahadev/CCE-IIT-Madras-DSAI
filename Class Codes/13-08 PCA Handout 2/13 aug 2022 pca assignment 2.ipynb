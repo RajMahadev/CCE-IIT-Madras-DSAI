{
 "cells": [
  {
   "cell_type": "code",
   "execution_count": 1,
   "id": "4f6ca667",
   "metadata": {},
   "outputs": [],
   "source": [
    "import numpy as np\n",
    "import pandas as pd\n",
    "import matplotlib.pyplot as plt\n",
    "from sklearn.decomposition import PCA\n",
    "from sklearn.preprocessing import StandardScaler\n",
    "from sklearn.cluster import KMeans\n",
    "from sklearn.model_selection import train_test_split\n",
    "from sklearn.tree import DecisionTreeClassifier\n",
    "from sklearn.metrics import accuracy_score,classification_report, confusion_matrix"
   ]
  },
  {
   "cell_type": "code",
   "execution_count": 2,
   "id": "1c46d6fc",
   "metadata": {},
   "outputs": [],
   "source": [
    "from sklearn.datasets import load_digits"
   ]
  },
  {
   "cell_type": "code",
   "execution_count": 3,
   "id": "61fa2db9",
   "metadata": {},
   "outputs": [],
   "source": [
    "digits=load_digits()"
   ]
  },
  {
   "cell_type": "code",
   "execution_count": 4,
   "id": "619ab708",
   "metadata": {},
   "outputs": [],
   "source": [
    "data=digits.data"
   ]
  },
  {
   "cell_type": "code",
   "execution_count": 5,
   "id": "707b3a58",
   "metadata": {},
   "outputs": [
    {
     "data": {
      "text/plain": [
       "115008"
      ]
     },
     "execution_count": 5,
     "metadata": {},
     "output_type": "execute_result"
    }
   ],
   "source": [
    "np.size(data)"
   ]
  },
  {
   "cell_type": "code",
   "execution_count": 7,
   "id": "cf01a699",
   "metadata": {},
   "outputs": [],
   "source": [
    "data_std=StandardScaler().fit_transform(data)"
   ]
  },
  {
   "cell_type": "code",
   "execution_count": 8,
   "id": "7595dab9",
   "metadata": {},
   "outputs": [
    {
     "data": {
      "text/plain": [
       "array([[ 0.        , -0.33501649, -0.04308102, ..., -1.14664746,\n",
       "        -0.5056698 , -0.19600752],\n",
       "       [ 0.        , -0.33501649, -1.09493684, ...,  0.54856067,\n",
       "        -0.5056698 , -0.19600752],\n",
       "       [ 0.        , -0.33501649, -1.09493684, ...,  1.56568555,\n",
       "         1.6951369 , -0.19600752],\n",
       "       ...,\n",
       "       [ 0.        , -0.33501649, -0.88456568, ..., -0.12952258,\n",
       "        -0.5056698 , -0.19600752],\n",
       "       [ 0.        , -0.33501649, -0.67419451, ...,  0.8876023 ,\n",
       "        -0.5056698 , -0.19600752],\n",
       "       [ 0.        , -0.33501649,  1.00877481, ...,  0.8876023 ,\n",
       "        -0.26113572, -0.19600752]])"
      ]
     },
     "execution_count": 8,
     "metadata": {},
     "output_type": "execute_result"
    }
   ],
   "source": [
    "data_std"
   ]
  },
  {
   "cell_type": "code",
   "execution_count": 9,
   "id": "9a462787",
   "metadata": {},
   "outputs": [
    {
     "data": {
      "text/plain": [
       "array([[ 0.        ,  0.        ,  0.        , ...,  0.        ,\n",
       "         0.        ,  0.        ],\n",
       "       [ 0.        ,  1.00055679,  0.55692803, ..., -0.02988686,\n",
       "         0.02656195, -0.04391324],\n",
       "       [ 0.        ,  0.55692803,  1.00055679, ..., -0.04120565,\n",
       "         0.07263924,  0.08256908],\n",
       "       ...,\n",
       "       [ 0.        , -0.02988686, -0.04120565, ...,  1.00055679,\n",
       "         0.64868875,  0.26213704],\n",
       "       [ 0.        ,  0.02656195,  0.07263924, ...,  0.64868875,\n",
       "         1.00055679,  0.62077355],\n",
       "       [ 0.        , -0.04391324,  0.08256908, ...,  0.26213704,\n",
       "         0.62077355,  1.00055679]])"
      ]
     },
     "execution_count": 9,
     "metadata": {},
     "output_type": "execute_result"
    }
   ],
   "source": [
    "cov_mat=np.cov(data_std.T)\n",
    "cov_mat"
   ]
  },
  {
   "cell_type": "code",
   "execution_count": 10,
   "id": "344e0b16",
   "metadata": {},
   "outputs": [
    {
     "name": "stdout",
     "output_type": "stream",
     "text": [
      "0.0\n",
      "-0.57051363323811\n"
     ]
    }
   ],
   "source": [
    "#3\n",
    "abs_min = abs(cov_mat).min()\n",
    "print(abs_min)\n",
    "negative_max = cov_mat.min()\n",
    "print(negative_max)"
   ]
  },
  {
   "cell_type": "code",
   "execution_count": 11,
   "id": "2b6e9e7e",
   "metadata": {},
   "outputs": [],
   "source": [
    "eigval,eigvec = np.linalg.eig(cov_mat)"
   ]
  },
  {
   "cell_type": "code",
   "execution_count": 12,
   "id": "34345864",
   "metadata": {},
   "outputs": [
    {
     "data": {
      "text/plain": [
       "array([7.34477606, 5.83549054, 5.15396118, 3.96623597, 2.9663452 ,\n",
       "       2.57204442, 2.40600941, 2.06867355, 1.82993314, 1.78951739,\n",
       "       1.69784616, 1.57287889, 1.38870781, 1.35933609, 1.32152536,\n",
       "       1.16829176, 1.08368678, 0.99977862, 0.97438293, 0.90891242,\n",
       "       0.82271926, 0.77631014, 0.71155675, 0.64552365, 0.59527399,\n",
       "       0.5765018 , 0.52673155, 0.5106363 , 0.48686381, 0.45560107,\n",
       "       0.44285155, 0.42230086, 0.3991063 , 0.39110111, 0.36094517,\n",
       "       0.34860306, 0.3195963 , 0.29406627, 0.05037444, 0.27692285,\n",
       "       0.06328961, 0.258273  , 0.24783029, 0.2423566 , 0.07635394,\n",
       "       0.08246812, 0.09018543, 0.09840876, 0.10250434, 0.11188655,\n",
       "       0.11932898, 0.12426371, 0.13321081, 0.14311427, 0.217582  ,\n",
       "       0.15818474, 0.16875236, 0.20799593, 0.17612894, 0.2000909 ,\n",
       "       0.18983516, 0.        , 0.        , 0.        ])"
      ]
     },
     "execution_count": 12,
     "metadata": {},
     "output_type": "execute_result"
    }
   ],
   "source": [
    "eigval"
   ]
  },
  {
   "cell_type": "code",
   "execution_count": 13,
   "id": "509d51bd",
   "metadata": {},
   "outputs": [],
   "source": [
    "total = sum(eigval)\n",
    "explained_variance = [(i/total)*100 for i in eigval]"
   ]
  },
  {
   "cell_type": "code",
   "execution_count": 14,
   "id": "3aed8fbb",
   "metadata": {},
   "outputs": [],
   "source": [
    "a=explained_variance"
   ]
  },
  {
   "cell_type": "code",
   "execution_count": 15,
   "id": "9895f435",
   "metadata": {},
   "outputs": [
    {
     "data": {
      "text/plain": [
       "0    64\n",
       "dtype: int64"
      ]
     },
     "execution_count": 15,
     "metadata": {},
     "output_type": "execute_result"
    }
   ],
   "source": [
    "#4\n",
    "a1=pd.DataFrame(a)\n",
    "a1.count()"
   ]
  },
  {
   "cell_type": "code",
   "execution_count": 16,
   "id": "51c12112",
   "metadata": {},
   "outputs": [
    {
     "data": {
      "text/plain": [
       "100.000000    4\n",
       "90.738337     1\n",
       "92.033038     1\n",
       "92.624422     1\n",
       "93.195585     1\n",
       "             ..\n",
       "86.077023     1\n",
       "86.940036     1\n",
       "87.776679     1\n",
       "88.574372     1\n",
       "90.046426     1\n",
       "Length: 61, dtype: int64"
      ]
     },
     "execution_count": 16,
     "metadata": {},
     "output_type": "execute_result"
    }
   ],
   "source": [
    "cumsum = np.cumsum(explained_variance)\n",
    "a=pd.DataFrame(cumsum)\n",
    "a.value_counts()"
   ]
  },
  {
   "cell_type": "code",
   "execution_count": 17,
   "id": "a57b6686",
   "metadata": {},
   "outputs": [
    {
     "data": {
      "text/plain": [
       "[<matplotlib.lines.Line2D at 0x16af3d30b50>]"
      ]
     },
     "execution_count": 17,
     "metadata": {},
     "output_type": "execute_result"
    },
    {
     "data": {
      "image/png": "[encoded data removed]",
      "text/plain": [
       "<Figure size 720x360 with 1 Axes>"
      ]
     },
     "metadata": {
      "needs_background": "light"
     },
     "output_type": "display_data"
    }
   ],
   "source": [
    "plt.figure(figsize=(10,5))\n",
    "plt.bar(range(len(explained_variance)),explained_variance,color='g')\n",
    "plt.step(range(len(cumsum)),cumsum,color='b')"
   ]
  },
  {
   "cell_type": "code",
   "execution_count": null,
   "id": "1ca18806",
   "metadata": {},
   "outputs": [],
   "source": [
    "#Question 8"
   ]
  },
  {
   "cell_type": "code",
   "execution_count": 18,
   "id": "34aa0d96",
   "metadata": {},
   "outputs": [],
   "source": [
    "pca = PCA(n_components=20)"
   ]
  },
  {
   "cell_type": "code",
   "execution_count": 19,
   "id": "73c84082",
   "metadata": {},
   "outputs": [],
   "source": [
    "data_new = pca.fit_transform(data_std)"
   ]
  },
  {
   "cell_type": "code",
   "execution_count": 20,
   "id": "5d03de9c",
   "metadata": {},
   "outputs": [
    {
     "data": {
      "text/plain": [
       "(1797, 20)"
      ]
     },
     "execution_count": 20,
     "metadata": {},
     "output_type": "execute_result"
    }
   ],
   "source": [
    "data_new.shape"
   ]
  },
  {
   "cell_type": "code",
   "execution_count": 21,
   "id": "21a35183",
   "metadata": {},
   "outputs": [],
   "source": [
    "cov_mat1= np.cov(data_new.T)\n",
    "eigval1,eigvec1 = np.linalg.eig(cov_mat1)"
   ]
  },
  {
   "cell_type": "code",
   "execution_count": 22,
   "id": "7fd97774",
   "metadata": {},
   "outputs": [],
   "source": [
    "total1 = sum(eigval1)\n",
    "explained_variance1 = [(i/total1)*100 for i in eigval1]"
   ]
  },
  {
   "cell_type": "code",
   "execution_count": 23,
   "id": "3cc8e8d3",
   "metadata": {},
   "outputs": [
    {
     "data": {
      "text/plain": [
       "[15.173420917149969,\n",
       " 12.055419169028426,\n",
       " 10.647461753579487,\n",
       " 8.19376481608969,\n",
       " 6.128111099090796,\n",
       " 5.3135331080182,\n",
       " 4.9705236370562735,\n",
       " 4.273628484445234,\n",
       " 3.7804168343160764,\n",
       " 3.6969077417292775,\n",
       " 3.507506087937385,\n",
       " 3.249342019173081,\n",
       " 1.8762251820682883,\n",
       " 2.012325223783753,\n",
       " 2.064116126530242,\n",
       " 2.23725723040328,\n",
       " 2.4133006362493927,\n",
       " 2.729872631630841,\n",
       " 2.8080017251736478,\n",
       " 2.868865576546637]"
      ]
     },
     "execution_count": 23,
     "metadata": {},
     "output_type": "execute_result"
    }
   ],
   "source": [
    "explained_variance1 # Answer - Depends on the number of components in pca"
   ]
  },
  {
   "cell_type": "code",
   "execution_count": null,
   "id": "4087f874",
   "metadata": {},
   "outputs": [],
   "source": [
    "#9"
   ]
  },
  {
   "cell_type": "code",
   "execution_count": 24,
   "id": "bb25fe00",
   "metadata": {},
   "outputs": [
    {
     "data": {
      "text/plain": [
       "[<matplotlib.lines.Line2D at 0x16af3c604c0>]"
      ]
     },
     "execution_count": 24,
     "metadata": {},
     "output_type": "execute_result"
    },
    {
     "data": {
      "image/png": "[encoded data removed]",
      "text/plain": [
       "<Figure size 432x288 with 1 Axes>"
      ]
     },
     "metadata": {
      "needs_background": "light"
     },
     "output_type": "display_data"
    }
   ],
   "source": [
    "wcss=[]\n",
    "for i in range(1,11):\n",
    "    kmeans=KMeans(n_clusters = i,init = 'k-means++',random_state = 0)\n",
    "    kmeans.fit(data_new)\n",
    "    wcss.append(kmeans.inertia_)\n",
    "\n",
    "plt.plot(np.arange(1,11),wcss)\n",
    "    "
   ]
  },
  {
   "cell_type": "code",
   "execution_count": null,
   "id": "249a7004",
   "metadata": {},
   "outputs": [],
   "source": [
    "# q 10"
   ]
  },
  {
   "cell_type": "code",
   "execution_count": 25,
   "id": "1e5f6f63",
   "metadata": {},
   "outputs": [
    {
     "data": {
      "text/plain": [
       "[<matplotlib.lines.Line2D at 0x16af3d0ebb0>]"
      ]
     },
     "execution_count": 25,
     "metadata": {},
     "output_type": "execute_result"
    },
    {
     "data": {
      "image/png": "[encoded data removed]",
      "text/plain": [
       "<Figure size 432x288 with 1 Axes>"
      ]
     },
     "metadata": {
      "needs_background": "light"
     },
     "output_type": "display_data"
    }
   ],
   "source": [
    "wcss=[]\n",
    "for i in range(1,11):\n",
    "    kmeans=KMeans(n_clusters = i,init = 'k-means++',random_state = 0)\n",
    "    kmeans.fit(data_std)\n",
    "    wcss.append(kmeans.inertia_)\n",
    "\n",
    "plt.plot(np.arange(1,11),wcss)"
   ]
  },
  {
   "cell_type": "code",
   "execution_count": null,
   "id": "53c50a8a",
   "metadata": {},
   "outputs": [],
   "source": [
    "#Question 11"
   ]
  },
  {
   "cell_type": "code",
   "execution_count": 26,
   "id": "da22c9f8",
   "metadata": {},
   "outputs": [
    {
     "data": {
      "text/plain": [
       "array([0, 1, 2, ..., 8, 9, 8])"
      ]
     },
     "execution_count": 26,
     "metadata": {},
     "output_type": "execute_result"
    }
   ],
   "source": [
    "y=digits.target\n",
    "y"
   ]
  },
  {
   "cell_type": "code",
   "execution_count": 27,
   "id": "df343340",
   "metadata": {},
   "outputs": [],
   "source": [
    "x_train1,x_test1,y_train1,y_test1 = train_test_split(data_std,y,test_size=0.2,random_state=40)"
   ]
  },
  {
   "cell_type": "code",
   "execution_count": 28,
   "id": "82d2cf82",
   "metadata": {},
   "outputs": [],
   "source": [
    "dt1 = DecisionTreeClassifier()"
   ]
  },
  {
   "cell_type": "code",
   "execution_count": 29,
   "id": "6fbb329e",
   "metadata": {},
   "outputs": [
    {
     "data": {
      "text/plain": [
       "DecisionTreeClassifier()"
      ]
     },
     "execution_count": 29,
     "metadata": {},
     "output_type": "execute_result"
    }
   ],
   "source": [
    "dt1.fit(x_train1,y_train1)"
   ]
  },
  {
   "cell_type": "code",
   "execution_count": 30,
   "id": "4d16c583",
   "metadata": {},
   "outputs": [],
   "source": [
    "y_pred1 =dt1.predict(x_test1)"
   ]
  },
  {
   "cell_type": "code",
   "execution_count": 31,
   "id": "6fce5280",
   "metadata": {},
   "outputs": [
    {
     "data": {
      "text/plain": [
       "71"
      ]
     },
     "execution_count": 31,
     "metadata": {},
     "output_type": "execute_result"
    }
   ],
   "source": [
    "miscount1 = 0\n",
    "for i in range(len(y_pred1)):\n",
    "    if y_pred1[i]!=y_test1[i]:\n",
    "        miscount1+=1\n",
    "miscount1"
   ]
  },
  {
   "cell_type": "code",
   "execution_count": null,
   "id": "73f41a92",
   "metadata": {},
   "outputs": [],
   "source": [
    "#Question 12"
   ]
  },
  {
   "cell_type": "code",
   "execution_count": 32,
   "id": "25be6891",
   "metadata": {},
   "outputs": [
    {
     "data": {
      "text/plain": [
       "28"
      ]
     },
     "execution_count": 32,
     "metadata": {},
     "output_type": "execute_result"
    }
   ],
   "source": [
    "counting=0\n",
    "for i in range(len(y_pred1)):\n",
    "    if y_pred1[i]==8:\n",
    "        counting+=1\n",
    "counting"
   ]
  },
  {
   "cell_type": "code",
   "execution_count": null,
   "id": "a94a6723",
   "metadata": {},
   "outputs": [],
   "source": [
    "#Question 13"
   ]
  },
  {
   "cell_type": "code",
   "execution_count": 33,
   "id": "c64c16ba",
   "metadata": {},
   "outputs": [
    {
     "data": {
      "text/plain": [
       "71"
      ]
     },
     "execution_count": 33,
     "metadata": {},
     "output_type": "execute_result"
    }
   ],
   "source": [
    "miscount = 0\n",
    "for i in range(len(y_pred1)):\n",
    "    if y_pred1[i]!=y_test1[i]:\n",
    "        miscount+=1\n",
    "miscount"
   ]
  },
  {
   "cell_type": "code",
   "execution_count": null,
   "id": "4706b6d4",
   "metadata": {},
   "outputs": [],
   "source": [
    "# Results can vary, it depends on the model training"
   ]
  },
  {
   "cell_type": "code",
   "execution_count": null,
   "id": "b38185a7",
   "metadata": {},
   "outputs": [],
   "source": []
  }
 ],
 "metadata": {
  "kernelspec": {
   "display_name": "Python 3 (ipykernel)",
   "language": "python",
   "name": "python3"
  },
  "language_info": {
   "codemirror_mode": {
    "name": "ipython",
    "version": 3
   },
   "file_extension": ".py",
   "mimetype": "text/x-python",
   "name": "python",
   "nbconvert_exporter": "python",
   "pygments_lexer": "ipython3",
   "version": "3.9.7"
  }
 },
 "nbformat": 4,
 "nbformat_minor": 5
}
