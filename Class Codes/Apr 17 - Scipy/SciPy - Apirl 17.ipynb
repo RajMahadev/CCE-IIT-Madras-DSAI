{
 "cells": [
  {
   "cell_type": "code",
   "execution_count": 1,
   "id": "02a1f924",
   "metadata": {},
   "outputs": [],
   "source": [
    "import numpy as np\n",
    "import scipy\n",
    "import pandas\n",
    "import matplotlib.pyplot as plt"
   ]
  },
  {
   "cell_type": "code",
   "execution_count": 2,
   "id": "a43cbe34",
   "metadata": {},
   "outputs": [],
   "source": [
    "# CLUSTERING"
   ]
  },
  {
   "cell_type": "code",
   "execution_count": 3,
   "id": "316662a7",
   "metadata": {},
   "outputs": [],
   "source": [
    "from scipy.cluster.vq import kmeans, vq, whiten"
   ]
  },
  {
   "cell_type": "code",
   "execution_count": 5,
   "id": "35e97b9b",
   "metadata": {},
   "outputs": [],
   "source": [
    "data = np.array([[1,3,4,5,2], [2,3,9,5,3], [1,5,3,1,2], [3,4,7,8,2]])"
   ]
  },
  {
   "cell_type": "code",
   "execution_count": 6,
   "id": "3ee962a1",
   "metadata": {},
   "outputs": [
    {
     "data": {
      "text/plain": [
       "(4, 5)"
      ]
     },
     "execution_count": 6,
     "metadata": {},
     "output_type": "execute_result"
    }
   ],
   "source": [
    "data.shape"
   ]
  },
  {
   "cell_type": "code",
   "execution_count": 7,
   "id": "c05c1837",
   "metadata": {},
   "outputs": [],
   "source": [
    "data = whiten(data)"
   ]
  },
  {
   "cell_type": "code",
   "execution_count": 8,
   "id": "78a171af",
   "metadata": {},
   "outputs": [
    {
     "data": {
      "text/plain": [
       "array([[1.20604538, 3.61813613, 1.67725574, 2.01007563, 4.61880215],\n",
       "       [2.41209076, 3.61813613, 3.77382541, 2.01007563, 6.92820323],\n",
       "       [1.20604538, 6.03022689, 1.2579418 , 0.40201513, 4.61880215],\n",
       "       [3.61813613, 4.82418151, 2.93519754, 3.21612101, 4.61880215]])"
      ]
     },
     "execution_count": 8,
     "metadata": {},
     "output_type": "execute_result"
    }
   ],
   "source": [
    "data"
   ]
  },
  {
   "cell_type": "code",
   "execution_count": 12,
   "id": "f8c88727",
   "metadata": {},
   "outputs": [],
   "source": [
    "centroids, mean_value = kmeans(data, 4)"
   ]
  },
  {
   "cell_type": "code",
   "execution_count": 13,
   "id": "bfadbb57",
   "metadata": {},
   "outputs": [
    {
     "name": "stdout",
     "output_type": "stream",
     "text": [
      "The centroids are:  [[2.41209076 3.61813613 3.77382541 2.01007563 6.92820323]\n",
      " [1.20604538 6.03022689 1.2579418  0.40201513 4.61880215]\n",
      " [3.61813613 4.82418151 2.93519754 3.21612101 4.61880215]\n",
      " [1.20604538 3.61813613 1.67725574 2.01007563 4.61880215]]\n",
      "The mean euclidean distance is:  2.9802322387695312e-08\n"
     ]
    }
   ],
   "source": [
    "print(\"The centroids are: \", centroids)\n",
    "print(\"The mean euclidean distance is: \", mean_value)"
   ]
  },
  {
   "cell_type": "code",
   "execution_count": 14,
   "id": "beaff4e6",
   "metadata": {},
   "outputs": [],
   "source": [
    "# EUCLIDEAN DISTANCE -- squareroot(x2-x2)^2 + (y2-y1)^2"
   ]
  },
  {
   "cell_type": "markdown",
   "id": "5406c9b4",
   "metadata": {},
   "source": [
    "# SCIPY STATS"
   ]
  },
  {
   "cell_type": "code",
   "execution_count": 15,
   "id": "39089466",
   "metadata": {},
   "outputs": [],
   "source": [
    "sugar = np.array([15, 18, 20, 26, 32, 38, 32, 24, 21, 16, 12, 11, 14])"
   ]
  },
  {
   "cell_type": "code",
   "execution_count": 16,
   "id": "6af110fa",
   "metadata": {},
   "outputs": [
    {
     "data": {
      "text/plain": [
       "13"
      ]
     },
     "execution_count": 16,
     "metadata": {},
     "output_type": "execute_result"
    }
   ],
   "source": [
    "len(sugar)"
   ]
  },
  {
   "cell_type": "code",
   "execution_count": 17,
   "id": "fe1611b9",
   "metadata": {},
   "outputs": [
    {
     "data": {
      "text/plain": [
       "21.46153846153846"
      ]
     },
     "execution_count": 17,
     "metadata": {},
     "output_type": "execute_result"
    }
   ],
   "source": [
    "sugar.mean()"
   ]
  },
  {
   "cell_type": "code",
   "execution_count": 18,
   "id": "d14c0688",
   "metadata": {},
   "outputs": [
    {
     "data": {
      "text/plain": [
       "8.148764744665618"
      ]
     },
     "execution_count": 18,
     "metadata": {},
     "output_type": "execute_result"
    }
   ],
   "source": [
    "sugar.std()"
   ]
  },
  {
   "cell_type": "code",
   "execution_count": 19,
   "id": "6c078c74",
   "metadata": {},
   "outputs": [
    {
     "name": "stdout",
     "output_type": "stream",
     "text": [
      "[15 18 20 26 32 38 32 24 21 16 12 11 14]\n",
      "[-0.79294699 -0.42479303 -0.17935706  0.55695086  1.29325878  2.0295667\n",
      "  1.29325878  0.31151489 -0.05663907 -0.670229   -1.16110095 -1.28381893\n",
      " -0.91566497]\n"
     ]
    }
   ],
   "source": [
    "# Z score \n",
    "from scipy import stats\n",
    "print(sugar)\n",
    "print(stats.zscore(sugar))"
   ]
  },
  {
   "cell_type": "markdown",
   "id": "a503e295",
   "metadata": {},
   "source": [
    "# CONTINGENCY TESTS"
   ]
  },
  {
   "cell_type": "code",
   "execution_count": 21,
   "id": "34999d7d",
   "metadata": {},
   "outputs": [
    {
     "data": {
      "text/plain": [
       "array([[ 7,  1,  3],\n",
       "       [87, 18, 84],\n",
       "       [12,  3,  4],\n",
       "       [ 9,  1,  7]])"
      ]
     },
     "execution_count": 21,
     "metadata": {},
     "output_type": "execute_result"
    }
   ],
   "source": [
    "observations = np.array([[7,1,3], [87, 18, 84], [12, 3, 4], [9, 1, 7]])\n",
    "\n",
    "observations"
   ]
  },
  {
   "cell_type": "code",
   "execution_count": 22,
   "id": "8b7c3734",
   "metadata": {},
   "outputs": [],
   "source": [
    "chi2, p, dof, expected = stats.chi2_contingency(observations)"
   ]
  },
  {
   "cell_type": "code",
   "execution_count": 23,
   "id": "60c04a19",
   "metadata": {},
   "outputs": [
    {
     "data": {
      "text/plain": [
       "0.48284216946545633"
      ]
     },
     "execution_count": 23,
     "metadata": {},
     "output_type": "execute_result"
    }
   ],
   "source": [
    "p"
   ]
  },
  {
   "cell_type": "code",
   "execution_count": 25,
   "id": "7c676e81",
   "metadata": {},
   "outputs": [
    {
     "data": {
      "text/plain": [
       "True"
      ]
     },
     "execution_count": 25,
     "metadata": {},
     "output_type": "execute_result"
    }
   ],
   "source": [
    "p > 0.05"
   ]
  },
  {
   "cell_type": "markdown",
   "id": "a33f17ab",
   "metadata": {},
   "source": [
    "# SCIPY OPTIMIZE"
   ]
  },
  {
   "cell_type": "code",
   "execution_count": 30,
   "id": "82d27b51",
   "metadata": {},
   "outputs": [],
   "source": [
    "from scipy import optimize"
   ]
  },
  {
   "cell_type": "code",
   "execution_count": 31,
   "id": "44502666",
   "metadata": {},
   "outputs": [
    {
     "data": {
      "text/plain": [
       "array([0. , 0.1, 0.2, 0.3, 0.4, 0.5, 0.6, 0.7, 0.8, 0.9])"
      ]
     },
     "execution_count": 31,
     "metadata": {},
     "output_type": "execute_result"
    }
   ],
   "source": [
    "x = np.arange(0.0, 1.0, 0.1)\n",
    "x"
   ]
  },
  {
   "cell_type": "code",
   "execution_count": 32,
   "id": "30b9bf1b",
   "metadata": {},
   "outputs": [
    {
     "name": "stdout",
     "output_type": "stream",
     "text": [
      "[0.  0.1 0.2 0.3 0.4 0.5 0.6 0.7 0.8 0.9]\n"
     ]
    }
   ],
   "source": [
    "def f(x):\n",
    "    return -np.exp(-(x-0.7)**2)\n",
    "\n",
    "print(x)"
   ]
  },
  {
   "cell_type": "code",
   "execution_count": 38,
   "id": "f58757cd",
   "metadata": {},
   "outputs": [
    {
     "data": {
      "text/plain": [
       "1.1051709180756477"
      ]
     },
     "execution_count": 38,
     "metadata": {},
     "output_type": "execute_result"
    }
   ],
   "source": [
    "np.exp(0.1)"
   ]
  },
  {
   "cell_type": "code",
   "execution_count": 33,
   "id": "8eb220be",
   "metadata": {},
   "outputs": [
    {
     "data": {
      "text/plain": [
       "array([-0.61262639, -0.69767633, -0.77880078, -0.85214379, -0.91393119,\n",
       "       -0.96078944, -0.99004983, -1.        , -0.99004983, -0.96078944])"
      ]
     },
     "execution_count": 33,
     "metadata": {},
     "output_type": "execute_result"
    }
   ],
   "source": [
    "f(x)"
   ]
  },
  {
   "cell_type": "code",
   "execution_count": 34,
   "id": "136b22af",
   "metadata": {},
   "outputs": [
    {
     "data": {
      "text/plain": [
       "[<matplotlib.lines.Line2D at 0x7f9d96ba40d0>]"
      ]
     },
     "execution_count": 34,
     "metadata": {},
     "output_type": "execute_result"
    },
    {
     "data": {
      "image/png": "[encoded data removed]",
      "text/plain": [
       "<Figure size 432x288 with 1 Axes>"
      ]
     },
     "metadata": {
      "needs_background": "light"
     },
     "output_type": "display_data"
    }
   ],
   "source": [
    "plt.plot(x, f(x), 'o-')"
   ]
  },
  {
   "cell_type": "code",
   "execution_count": 35,
   "id": "3df766c4",
   "metadata": {},
   "outputs": [],
   "source": [
    "result = optimize.minimize_scalar(f)"
   ]
  },
  {
   "cell_type": "code",
   "execution_count": 36,
   "id": "607826e2",
   "metadata": {},
   "outputs": [],
   "source": [
    "x_min = result.x"
   ]
  },
  {
   "cell_type": "code",
   "execution_count": 37,
   "id": "f75f1eff",
   "metadata": {},
   "outputs": [
    {
     "data": {
      "text/plain": [
       "0.6999999997839409"
      ]
     },
     "execution_count": 37,
     "metadata": {},
     "output_type": "execute_result"
    }
   ],
   "source": [
    "x_min"
   ]
  },
  {
   "cell_type": "markdown",
   "id": "6c39ea31",
   "metadata": {},
   "source": [
    "# INTEGRATION"
   ]
  },
  {
   "cell_type": "code",
   "execution_count": 39,
   "id": "58963f2b",
   "metadata": {},
   "outputs": [],
   "source": [
    "import scipy.integrate as intg"
   ]
  },
  {
   "cell_type": "code",
   "execution_count": 40,
   "id": "aea2739a",
   "metadata": {},
   "outputs": [],
   "source": [
    "def integrate(x):\n",
    "    return x**2"
   ]
  },
  {
   "cell_type": "code",
   "execution_count": 42,
   "id": "66315cc4",
   "metadata": {},
   "outputs": [],
   "source": [
    "answer, _ = intg.quad(integrate, 0, 1)"
   ]
  },
  {
   "cell_type": "code",
   "execution_count": 43,
   "id": "003d688e",
   "metadata": {},
   "outputs": [
    {
     "name": "stdout",
     "output_type": "stream",
     "text": [
      "0.33333333333333337\n"
     ]
    }
   ],
   "source": [
    "print(answer)"
   ]
  },
  {
   "cell_type": "code",
   "execution_count": 44,
   "id": "54115d4c",
   "metadata": {},
   "outputs": [
    {
     "data": {
      "text/plain": [
       "3.700743415417189e-15"
      ]
     },
     "execution_count": 44,
     "metadata": {},
     "output_type": "execute_result"
    }
   ],
   "source": [
    "_"
   ]
  },
  {
   "cell_type": "code",
   "execution_count": 46,
   "id": "2516af15",
   "metadata": {},
   "outputs": [],
   "source": [
    "f = lambda y, x:x*y**2\n",
    "\n",
    "\n",
    "### XY^2"
   ]
  },
  {
   "cell_type": "code",
   "execution_count": 47,
   "id": "b2f3ea5a",
   "metadata": {},
   "outputs": [
    {
     "data": {
      "text/plain": [
       "(0.6666666666666667, 7.401486830834377e-15)"
      ]
     },
     "execution_count": 47,
     "metadata": {},
     "output_type": "execute_result"
    }
   ],
   "source": [
    "intg.dblquad(f, 0, 2, lambda x:0, lambda x:1)"
   ]
  },
  {
   "cell_type": "markdown",
   "id": "5ccae8b4",
   "metadata": {},
   "source": [
    "# DIFFERENTIATION"
   ]
  },
  {
   "cell_type": "code",
   "execution_count": 48,
   "id": "0face35a",
   "metadata": {},
   "outputs": [],
   "source": [
    "from numpy import diff"
   ]
  },
  {
   "cell_type": "code",
   "execution_count": 49,
   "id": "26e43bfb",
   "metadata": {},
   "outputs": [
    {
     "data": {
      "text/plain": [
       "array([10., 10., 10.,  0., 10., 10.])"
      ]
     },
     "execution_count": 49,
     "metadata": {},
     "output_type": "execute_result"
    }
   ],
   "source": [
    "dx = 0.1\n",
    "\n",
    "y = [1,2,3,4,4,5,6]\n",
    "\n",
    "dy = diff(y)/dx\n",
    "\n",
    "dy"
   ]
  },
  {
   "cell_type": "markdown",
   "id": "f97ed0f7",
   "metadata": {},
   "source": [
    "# MATRIX OPERATIONS"
   ]
  },
  {
   "cell_type": "code",
   "execution_count": 50,
   "id": "fe302f7f",
   "metadata": {},
   "outputs": [],
   "source": [
    "from scipy import linalg"
   ]
  },
  {
   "cell_type": "code",
   "execution_count": 51,
   "id": "9ba0b928",
   "metadata": {},
   "outputs": [
    {
     "data": {
      "text/plain": [
       "array([[1, 2, 3],\n",
       "       [4, 5, 6],\n",
       "       [7, 8, 9]])"
      ]
     },
     "execution_count": 51,
     "metadata": {},
     "output_type": "execute_result"
    }
   ],
   "source": [
    "data = np.array([[1,2,3], [4,5,6], [7,8,9]])\n",
    "\n",
    "data"
   ]
  },
  {
   "cell_type": "code",
   "execution_count": 52,
   "id": "490c2273",
   "metadata": {},
   "outputs": [
    {
     "data": {
      "text/plain": [
       "array([[ 3.15251974e+15, -6.30503948e+15,  3.15251974e+15],\n",
       "       [-6.30503948e+15,  1.26100790e+16, -6.30503948e+15],\n",
       "       [ 3.15251974e+15, -6.30503948e+15,  3.15251974e+15]])"
      ]
     },
     "execution_count": 52,
     "metadata": {},
     "output_type": "execute_result"
    }
   ],
   "source": [
    "linalg.inv(data)"
   ]
  },
  {
   "cell_type": "markdown",
   "id": "037dd554",
   "metadata": {},
   "source": [
    "# IDENTITY MATRIX"
   ]
  },
  {
   "cell_type": "code",
   "execution_count": 53,
   "id": "c3af33fe",
   "metadata": {},
   "outputs": [
    {
     "name": "stdout",
     "output_type": "stream",
     "text": [
      "[[1 2]\n",
      " [3 4]]\n"
     ]
    }
   ],
   "source": [
    "x = np.array([[1,2], [3,4]])\n",
    "\n",
    "y = np.linalg.inv(x)\n",
    "\n",
    "print(x)"
   ]
  },
  {
   "cell_type": "code",
   "execution_count": 54,
   "id": "31d7119d",
   "metadata": {},
   "outputs": [
    {
     "name": "stdout",
     "output_type": "stream",
     "text": [
      "[[-2.   1. ]\n",
      " [ 1.5 -0.5]]\n"
     ]
    }
   ],
   "source": [
    "print(y)"
   ]
  },
  {
   "cell_type": "code",
   "execution_count": 55,
   "id": "474971a0",
   "metadata": {},
   "outputs": [
    {
     "data": {
      "text/plain": [
       "array([[1.00000000e+00, 1.11022302e-16],\n",
       "       [0.00000000e+00, 1.00000000e+00]])"
      ]
     },
     "execution_count": 55,
     "metadata": {},
     "output_type": "execute_result"
    }
   ],
   "source": [
    "np.dot(x,y)"
   ]
  },
  {
   "cell_type": "markdown",
   "id": "fef093f2",
   "metadata": {},
   "source": [
    "# EIGEN VALUES"
   ]
  },
  {
   "cell_type": "code",
   "execution_count": 56,
   "id": "0a072aaf",
   "metadata": {},
   "outputs": [
    {
     "data": {
      "text/plain": [
       "array([ 1.50000000e+01+0.j, -1.00000000e+00+0.j,  5.25462381e-16+0.j])"
      ]
     },
     "execution_count": 56,
     "metadata": {},
     "output_type": "execute_result"
    }
   ],
   "source": [
    "data = np.array([[1,2,3], [4,5,6], [6,7,8]])\n",
    "\n",
    "linalg.eigvals(data)"
   ]
  },
  {
   "cell_type": "code",
   "execution_count": null,
   "id": "6cea8cfe",
   "metadata": {},
   "outputs": [],
   "source": []
  }
 ],
 "metadata": {
  "kernelspec": {
   "display_name": "Python 3",
   "language": "python",
   "name": "python3"
  },
  "language_info": {
   "codemirror_mode": {
    "name": "ipython",
    "version": 3
   },
   "file_extension": ".py",
   "mimetype": "text/x-python",
   "name": "python",
   "nbconvert_exporter": "python",
   "pygments_lexer": "ipython3",
   "version": "3.8.8"
  }
 },
 "nbformat": 4,
 "nbformat_minor": 5
}
