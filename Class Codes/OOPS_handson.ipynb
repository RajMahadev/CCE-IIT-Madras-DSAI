{
 "cells": [
  {
   "cell_type": "code",
   "execution_count": 3,
   "id": "3a9d09a5",
   "metadata": {},
   "outputs": [],
   "source": [
    "def factor(num):\n",
    "    if num<=0:\n",
    "        return 1\n",
    "    else:\n",
    "        a=num*factor(num-1)\n",
    "        return a\n"
   ]
  },
  {
   "cell_type": "code",
   "execution_count": 4,
   "id": "51aa3379",
   "metadata": {},
   "outputs": [
    {
     "data": {
      "text/plain": [
       "362880"
      ]
     },
     "execution_count": 4,
     "metadata": {},
     "output_type": "execute_result"
    }
   ],
   "source": [
    "factor(9)"
   ]
  },
  {
   "cell_type": "code",
   "execution_count": 19,
   "id": "22d4e58e",
   "metadata": {},
   "outputs": [],
   "source": [
    "#2\n",
    "def check_string():\n",
    "    a=input(\"Enter a string:\")\n",
    "    if(\"s\" in a or \"S\" in a):\n",
    "        print(\"the string contains s\")\n",
    "        \n",
    "    else:\n",
    "        print(\"The string doesnot contain s\")\n",
    "        \n",
    "        \n",
    "        \n"
   ]
  },
  {
   "cell_type": "code",
   "execution_count": 20,
   "id": "00c924ee",
   "metadata": {},
   "outputs": [
    {
     "name": "stdout",
     "output_type": "stream",
     "text": [
      "Enter a string:abcds\n",
      "the string contains s\n"
     ]
    }
   ],
   "source": [
    "check_string()"
   ]
  },
  {
   "cell_type": "code",
   "execution_count": 21,
   "id": "ca32bdb3",
   "metadata": {},
   "outputs": [],
   "source": [
    "#3\n",
    "class Student:\n",
    "    def fun1(self):\n",
    "        n=int(input())\n",
    "        return n\n",
    "    def message(self):\n",
    "        k=self.fun1()\n",
    "        return k"
   ]
  },
  {
   "cell_type": "code",
   "execution_count": 22,
   "id": "6a9a8364",
   "metadata": {},
   "outputs": [
    {
     "name": "stdout",
     "output_type": "stream",
     "text": [
      "10\n"
     ]
    },
    {
     "data": {
      "text/plain": [
       "10"
      ]
     },
     "execution_count": 22,
     "metadata": {},
     "output_type": "execute_result"
    }
   ],
   "source": [
    "o=Student()\n",
    "o.message()"
   ]
  },
  {
   "cell_type": "code",
   "execution_count": 25,
   "id": "ced5d628",
   "metadata": {},
   "outputs": [
    {
     "name": "stdout",
     "output_type": "stream",
     "text": [
      "3\n",
      "9\n"
     ]
    }
   ],
   "source": [
    "def add(a,b):\n",
    "     print(a+b)\n",
    "add(1,2)\n",
    "add(4,5)\n"
   ]
  },
  {
   "cell_type": "code",
   "execution_count": 28,
   "id": "49ce5559",
   "metadata": {},
   "outputs": [
    {
     "data": {
      "text/plain": [
       "10"
      ]
     },
     "execution_count": 28,
     "metadata": {},
     "output_type": "execute_result"
    }
   ],
   "source": [
    "double_num=lambda a:a*2\n",
    "double_num(5)"
   ]
  },
  {
   "cell_type": "code",
   "execution_count": 40,
   "id": "d2b0a84d",
   "metadata": {},
   "outputs": [
    {
     "name": "stdout",
     "output_type": "stream",
     "text": [
      "Enter the string:123\n"
     ]
    },
    {
     "ename": "TypeError",
     "evalue": "'int' object is not subscriptable",
     "output_type": "error",
     "traceback": [
      "\u001b[1;31m---------------------------------------------------------------------------\u001b[0m",
      "\u001b[1;31mTypeError\u001b[0m                                 Traceback (most recent call last)",
      "\u001b[1;32m~\\AppData\\Local\\Temp/ipykernel_11776/990975879.py\u001b[0m in \u001b[0;36m<module>\u001b[1;34m\u001b[0m\n\u001b[0;32m      1\u001b[0m \u001b[0ms\u001b[0m\u001b[1;33m=\u001b[0m\u001b[0mint\u001b[0m\u001b[1;33m(\u001b[0m\u001b[0minput\u001b[0m\u001b[1;33m(\u001b[0m\u001b[1;34m\"Enter the string:\"\u001b[0m\u001b[1;33m)\u001b[0m\u001b[1;33m)\u001b[0m\u001b[1;33m\u001b[0m\u001b[1;33m\u001b[0m\u001b[0m\n\u001b[1;32m----> 2\u001b[1;33m \u001b[1;32mif\u001b[0m \u001b[0ms\u001b[0m\u001b[1;33m==\u001b[0m\u001b[0ms\u001b[0m\u001b[1;33m[\u001b[0m\u001b[1;33m:\u001b[0m\u001b[1;33m:\u001b[0m\u001b[1;33m-\u001b[0m\u001b[1;36m1\u001b[0m\u001b[1;33m]\u001b[0m\u001b[1;33m:\u001b[0m\u001b[1;33m\u001b[0m\u001b[1;33m\u001b[0m\u001b[0m\n\u001b[0m\u001b[0;32m      3\u001b[0m     \u001b[0mprint\u001b[0m\u001b[1;33m(\u001b[0m\u001b[1;34m\"It is palindrome\"\u001b[0m\u001b[1;33m)\u001b[0m\u001b[1;33m\u001b[0m\u001b[1;33m\u001b[0m\u001b[0m\n\u001b[0;32m      4\u001b[0m \u001b[1;32melse\u001b[0m\u001b[1;33m:\u001b[0m\u001b[1;33m\u001b[0m\u001b[1;33m\u001b[0m\u001b[0m\n\u001b[0;32m      5\u001b[0m     \u001b[0mprint\u001b[0m\u001b[1;33m(\u001b[0m\u001b[1;34m\"It is not a palindrome\"\u001b[0m\u001b[1;33m)\u001b[0m\u001b[1;33m\u001b[0m\u001b[1;33m\u001b[0m\u001b[0m\n",
      "\u001b[1;31mTypeError\u001b[0m: 'int' object is not subscriptable"
     ]
    }
   ],
   "source": [
    "s=int(input(\"Enter the string:\"))\n",
    "if s==s[::-1]:\n",
    "    print(\"It is palindrome\")\n",
    "else:\n",
    "    print(\"It is not a palindrome\")\n"
   ]
  },
  {
   "cell_type": "code",
   "execution_count": 48,
   "id": "e46898a6",
   "metadata": {},
   "outputs": [],
   "source": [
    "class super:\n",
    "    def fun1(self):\n",
    "        print(\"This is fun1 in super class\")"
   ]
  },
  {
   "cell_type": "code",
   "execution_count": 42,
   "id": "7039a46b",
   "metadata": {},
   "outputs": [
    {
     "name": "stdout",
     "output_type": "stream",
     "text": [
      "This is fun1 in super class\n"
     ]
    }
   ],
   "source": [
    "obj=super()\n",
    "obj.fun1()"
   ]
  },
  {
   "cell_type": "code",
   "execution_count": 47,
   "id": "2f72befd",
   "metadata": {},
   "outputs": [
    {
     "name": "stdout",
     "output_type": "stream",
     "text": [
      "This is fun1 in super class\n",
      "This fun1 is under modified_super class\n",
      "This fun1 is under modified_super class\n"
     ]
    }
   ],
   "source": [
    "class Super_Modified(super):\n",
    "    def fun1(self):\n",
    "        print(\"This fun1 is under modified_super class\")\n",
    "    def fun2(self):\n",
    "        print(\"This fun2 is under modified_super class\")\n",
    "obj=Super_Modified()\n",
    "obj1=super()\n",
    "obj1.fun1()\n",
    "\n",
    "obj.fun1()\n",
    "obj.fun1()"
   ]
  },
  {
   "cell_type": "code",
   "execution_count": 52,
   "id": "b8982c56",
   "metadata": {},
   "outputs": [
    {
     "ename": "TypeError",
     "evalue": "Hello() missing 1 required positional argument: 'h1'",
     "output_type": "error",
     "traceback": [
      "\u001b[1;31m---------------------------------------------------------------------------\u001b[0m",
      "\u001b[1;31mTypeError\u001b[0m                                 Traceback (most recent call last)",
      "\u001b[1;32m~\\AppData\\Local\\Temp/ipykernel_11776/623237621.py\u001b[0m in \u001b[0;36m<module>\u001b[1;34m\u001b[0m\n\u001b[0;32m      3\u001b[0m \u001b[1;32mdef\u001b[0m \u001b[0mHello\u001b[0m\u001b[1;33m(\u001b[0m\u001b[0mh\u001b[0m\u001b[1;33m,\u001b[0m\u001b[0mh1\u001b[0m\u001b[1;33m)\u001b[0m\u001b[1;33m:\u001b[0m\u001b[1;33m\u001b[0m\u001b[1;33m\u001b[0m\u001b[0m\n\u001b[0;32m      4\u001b[0m     \u001b[0mprint\u001b[0m\u001b[1;33m(\u001b[0m\u001b[1;34m\"This is fun2\"\u001b[0m\u001b[1;33m)\u001b[0m\u001b[1;33m\u001b[0m\u001b[1;33m\u001b[0m\u001b[0m\n\u001b[1;32m----> 5\u001b[1;33m \u001b[0mHello\u001b[0m\u001b[1;33m(\u001b[0m\u001b[1;36m20\u001b[0m\u001b[1;33m)\u001b[0m\u001b[1;33m\u001b[0m\u001b[1;33m\u001b[0m\u001b[0m\n\u001b[0m",
      "\u001b[1;31mTypeError\u001b[0m: Hello() missing 1 required positional argument: 'h1'"
     ]
    }
   ],
   "source": [
    "def Hello(h):\n",
    "    print(\"This is a fun1\")\n",
    "def Hello(h,h1):\n",
    "    print(\"This is fun2\")\n",
    "Hello(20)"
   ]
  },
  {
   "cell_type": "code",
   "execution_count": 53,
   "id": "a635350a",
   "metadata": {},
   "outputs": [],
   "source": [
    "def summation(*args):\n",
    "    total=0\n",
    "    for i in range(0,len(args)):\n",
    "        total=total+args[i]\n",
    "    return total"
   ]
  },
  {
   "cell_type": "code",
   "execution_count": 54,
   "id": "86a08e95",
   "metadata": {},
   "outputs": [
    {
     "data": {
      "text/plain": [
       "30"
      ]
     },
     "execution_count": 54,
     "metadata": {},
     "output_type": "execute_result"
    }
   ],
   "source": [
    "summation(7,8,9,6)"
   ]
  },
  {
   "cell_type": "code",
   "execution_count": 55,
   "id": "8aa6b285",
   "metadata": {},
   "outputs": [],
   "source": [
    "class Encapsulation:\n",
    "    def __init__(self):\n",
    "        self.original_value=10\n",
    "    def Value(self):\n",
    "        return self.original_value\n",
    "    def setValue(self,new_Value):\n",
    "        self.orginal_value=new_Value"
   ]
  },
  {
   "cell_type": "code",
   "execution_count": 58,
   "id": "a2bc0a7a",
   "metadata": {},
   "outputs": [
    {
     "data": {
      "text/plain": [
       "10"
      ]
     },
     "execution_count": 58,
     "metadata": {},
     "output_type": "execute_result"
    }
   ],
   "source": [
    "o=Encapsulation()\n",
    "o.Value()"
   ]
  },
  {
   "cell_type": "code",
   "execution_count": null,
   "id": "ed2463dd",
   "metadata": {},
   "outputs": [],
   "source": []
  }
 ],
 "metadata": {
  "kernelspec": {
   "display_name": "Python 3 (ipykernel)",
   "language": "python",
   "name": "python3"
  },
  "language_info": {
   "codemirror_mode": {
    "name": "ipython",
    "version": 3
   },
   "file_extension": ".py",
   "mimetype": "text/x-python",
   "name": "python",
   "nbconvert_exporter": "python",
   "pygments_lexer": "ipython3",
   "version": "3.9.7"
  }
 },
 "nbformat": 4,
 "nbformat_minor": 5
}
