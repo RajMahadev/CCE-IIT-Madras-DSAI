{
  "nbformat": 4,
  "nbformat_minor": 0,
  "metadata": {
    "colab": {
      "name": "Python_Basics_Day1.ipynb",
      "provenance": []
    },
    "kernelspec": {
      "name": "python3",
      "display_name": "Python 3"
    },
    "language_info": {
      "name": "python"
    }
  },
  "cells": [
    {
      "cell_type": "code",
      "execution_count": null,
      "metadata": {
        "id": "G7n070wMleoc"
      },
      "outputs": [],
      "source": [
        "#Introduction of Python\n",
        "\n",
        "#Data Analysis / Data Science \n",
        "#Web Development / Django/Flask\n",
        "#Machine Learning and AI \n"
      ]
    },
    {
      "cell_type": "code",
      "source": [
        "#Machine language -- 010101010101"
      ],
      "metadata": {
        "id": "MvL0a2S0qpVB"
      },
      "execution_count": 1,
      "outputs": []
    },
    {
      "cell_type": "code",
      "source": [
        "#Python: Programming language \n",
        "#High-level - Object Oriented - Funtional -Interpreter programming language.\n",
        "\n",
        "#High-level - similar to human language e.g. print(\"Hello Python\")\n",
        "#Object oriented - You can have fuctionality of OOPs (Abstraction, Polymorphism,Encapsulation,inheritance,object,class)\n",
        "#Functional - We can work with functions directly regardless of creating classes and objects\n",
        "#Interpreter - It is checking code line by line for errors"
      ],
      "metadata": {
        "id": "Ef677eRCrme0"
      },
      "execution_count": null,
      "outputs": []
    },
    {
      "cell_type": "code",
      "source": [
        "print(\"Hello Python\")\n",
        "print(\"Hello Python\")\n",
        "print(\"Hello Python\")\n",
        "print(\"Hello Python\")\n",
        "print(\"Hello Python\")\n",
        "prin(\"Hello Python\") #line 6 stopping execution\n",
        "print(\"Hello Python\")\n",
        "\n"
      ],
      "metadata": {
        "colab": {
          "base_uri": "https://localhost:8080/",
          "height": 337
        },
        "id": "uKQ4ffZQsfL1",
        "outputId": "da122592-1223-4aca-86e5-22d3ae2d2c84"
      },
      "execution_count": 4,
      "outputs": [
        {
          "output_type": "stream",
          "name": "stdout",
          "text": [
            "Hello Python\n",
            "Hello Python\n",
            "Hello Python\n",
            "Hello Python\n",
            "Hello Python\n"
          ]
        },
        {
          "output_type": "error",
          "ename": "NameError",
          "evalue": "ignored",
          "traceback": [
            "\u001b[0;31m---------------------------------------------------------------------------\u001b[0m",
            "\u001b[0;31mNameError\u001b[0m                                 Traceback (most recent call last)",
            "\u001b[0;32m<ipython-input-4-a9ae2dd77212>\u001b[0m in \u001b[0;36m<module>\u001b[0;34m()\u001b[0m\n\u001b[1;32m      4\u001b[0m \u001b[0mprint\u001b[0m\u001b[0;34m(\u001b[0m\u001b[0;34m\"Hello Python\"\u001b[0m\u001b[0;34m)\u001b[0m\u001b[0;34m\u001b[0m\u001b[0;34m\u001b[0m\u001b[0m\n\u001b[1;32m      5\u001b[0m \u001b[0mprint\u001b[0m\u001b[0;34m(\u001b[0m\u001b[0;34m\"Hello Python\"\u001b[0m\u001b[0;34m)\u001b[0m\u001b[0;34m\u001b[0m\u001b[0;34m\u001b[0m\u001b[0m\n\u001b[0;32m----> 6\u001b[0;31m \u001b[0mprin\u001b[0m\u001b[0;34m(\u001b[0m\u001b[0;34m\"Hello Python\"\u001b[0m\u001b[0;34m)\u001b[0m\u001b[0;34m\u001b[0m\u001b[0;34m\u001b[0m\u001b[0m\n\u001b[0m\u001b[1;32m      7\u001b[0m \u001b[0mprint\u001b[0m\u001b[0;34m(\u001b[0m\u001b[0;34m\"Hello Python\"\u001b[0m\u001b[0;34m)\u001b[0m\u001b[0;34m\u001b[0m\u001b[0;34m\u001b[0m\u001b[0m\n\u001b[1;32m      8\u001b[0m \u001b[0;34m\u001b[0m\u001b[0m\n",
            "\u001b[0;31mNameError\u001b[0m: name 'prin' is not defined"
          ]
        }
      ]
    },
    {
      "cell_type": "code",
      "source": [
        "#Diff Between Compiler and Interpreter\n",
        "#Compiler will generate a byte code or machine code only if whole code is errorless\n",
        "\n",
        "#Interpreter will check line by line execution will stop at the line where error is occurring\n"
      ],
      "metadata": {
        "id": "WHcwIZblsftM"
      },
      "execution_count": null,
      "outputs": []
    },
    {
      "cell_type": "code",
      "source": [
        "#Variables in Python\n",
        "\n",
        "#Where the value being stored? - Memory RAM/ROM\n",
        "\n",
        "#Memory Address -  \n",
        "\n",
        "# Variable is associated with the memory address.\n",
        "\n",
        "\n"
      ],
      "metadata": {
        "id": "KPza5MmjzxLy"
      },
      "execution_count": null,
      "outputs": []
    },
    {
      "cell_type": "code",
      "source": [
        "a = 10 #a is a variable and 10 is a value"
      ],
      "metadata": {
        "id": "doTA56pS1hJT"
      },
      "execution_count": 5,
      "outputs": []
    },
    {
      "cell_type": "code",
      "source": [
        "#Naming rules for Variables (3 Rules)\n",
        "\n",
        "# 1. It should start with an alphabet or _(underscore)\n",
        "\n",
        "# 2. It cannot be started with a number.\n",
        "\n",
        "# 3. It cannot be from any reserved keywords."
      ],
      "metadata": {
        "colab": {
          "base_uri": "https://localhost:8080/"
        },
        "id": "8wVC_hxJ1rDT",
        "outputId": "fc45c0e6-2665-4761-981c-bd435ff2ad46"
      },
      "execution_count": 6,
      "outputs": [
        {
          "output_type": "execute_result",
          "data": {
            "text/plain": [
              "10"
            ]
          },
          "metadata": {},
          "execution_count": 6
        }
      ]
    },
    {
      "cell_type": "code",
      "source": [
        "a1 = 100 #A\n",
        "#1a = 200 #B Starting with a number \n",
        "__1a = 101 #C\n",
        "#for = 404 #D for is a reserved keyword\n",
        "a_1_ = 505 #E "
      ],
      "metadata": {
        "id": "uj9OUf831rt1"
      },
      "execution_count": 9,
      "outputs": []
    },
    {
      "cell_type": "code",
      "source": [
        "for1 = 1001"
      ],
      "metadata": {
        "id": "6nQ_xiIR3eBT"
      },
      "execution_count": 14,
      "outputs": []
    },
    {
      "cell_type": "code",
      "source": [
        "for1"
      ],
      "metadata": {
        "colab": {
          "base_uri": "https://localhost:8080/"
        },
        "id": "o1BqsCUA3vGS",
        "outputId": "e106d0c1-4385-4269-f332-dff0aef9f751"
      },
      "execution_count": 11,
      "outputs": [
        {
          "output_type": "execute_result",
          "data": {
            "text/plain": [
              "1001"
            ]
          },
          "metadata": {},
          "execution_count": 11
        }
      ]
    },
    {
      "cell_type": "code",
      "source": [
        "a = 10 # Single Assignment (One variable one value)"
      ],
      "metadata": {
        "id": "4J3z3Dmf3wWO"
      },
      "execution_count": 13,
      "outputs": []
    },
    {
      "cell_type": "code",
      "source": [
        "a,b,c = 10,20,30 #Multiple Assignment (Multiple Values Multiple variables)"
      ],
      "metadata": {
        "id": "3MZ12x-l3zx9"
      },
      "execution_count": 15,
      "outputs": []
    },
    {
      "cell_type": "code",
      "source": [
        "print(a,b,c)"
      ],
      "metadata": {
        "colab": {
          "base_uri": "https://localhost:8080/"
        },
        "id": "hzN6Jp3286U0",
        "outputId": "bdbc237a-f8b9-485b-9320-507aa8864b4a"
      },
      "execution_count": 16,
      "outputs": [
        {
          "output_type": "stream",
          "name": "stdout",
          "text": [
            "10 20 30\n"
          ]
        }
      ]
    },
    {
      "cell_type": "code",
      "source": [
        "x = y = z = 101 # Multiple Assignment (Multiple variables and single value)"
      ],
      "metadata": {
        "id": "O5SPtFhO8_Rd"
      },
      "execution_count": 17,
      "outputs": []
    },
    {
      "cell_type": "code",
      "source": [
        "print(x,y,z)"
      ],
      "metadata": {
        "colab": {
          "base_uri": "https://localhost:8080/"
        },
        "id": "bPRaIvRD9bCR",
        "outputId": "d6a70e74-de4c-445f-a756-f60b5c1a99da"
      },
      "execution_count": 18,
      "outputs": [
        {
          "output_type": "stream",
          "name": "stdout",
          "text": [
            "101 101 101\n"
          ]
        }
      ]
    },
    {
      "cell_type": "code",
      "source": [
        "#Basic Data Types:\n",
        "# 1. Integer: We can store whole numbers (+-)\n",
        "\n",
        "# 2. Float: We can store frection numbers(numbers with decimal points)\n",
        "\n",
        "# 3. String: Anything which we are mentioning between \"\" or '' will be considered as string(Textual Data)\n",
        "\n",
        "# 4. Boolean: True / False"
      ],
      "metadata": {
        "id": "E8MEZWvy-l1Y"
      },
      "execution_count": null,
      "outputs": []
    },
    {
      "cell_type": "code",
      "source": [
        "a = 10 # Integer\n",
        "b = 10.5 #Float\n",
        "c =\"Python\" # String\n",
        "d = True # Boolean "
      ],
      "metadata": {
        "id": "KfZdPJDP_NNN"
      },
      "execution_count": 28,
      "outputs": []
    },
    {
      "cell_type": "code",
      "source": [
        "print(type(a))\n",
        "print(type(b))\n",
        "print(type(c))\n",
        "print(type(d))"
      ],
      "metadata": {
        "colab": {
          "base_uri": "https://localhost:8080/"
        },
        "id": "_Mks7LLm_Yom",
        "outputId": "72c7dfd3-4e69-4af6-f7db-403f907aa68f"
      },
      "execution_count": 29,
      "outputs": [
        {
          "output_type": "stream",
          "name": "stdout",
          "text": [
            "<class 'int'>\n",
            "<class 'float'>\n",
            "<class 'str'>\n",
            "<class 'bool'>\n"
          ]
        }
      ]
    },
    {
      "cell_type": "code",
      "source": [
        "#Taking user input\n",
        "\n",
        "p = input()\n",
        "\n",
        "# input() is taking string data by default"
      ],
      "metadata": {
        "colab": {
          "base_uri": "https://localhost:8080/"
        },
        "id": "BctyBo9m9cng",
        "outputId": "974a603e-7829-4316-c7c9-cef9185b797a"
      },
      "execution_count": 30,
      "outputs": [
        {
          "name": "stdout",
          "output_type": "stream",
          "text": [
            "abc\n"
          ]
        }
      ]
    },
    {
      "cell_type": "code",
      "source": [
        "p\n",
        "#type(p)"
      ],
      "metadata": {
        "colab": {
          "base_uri": "https://localhost:8080/",
          "height": 36
        },
        "id": "MNWwL8Wf9t13",
        "outputId": "25b72c1f-6b52-4ead-f059-ca818c9233e9"
      },
      "execution_count": 31,
      "outputs": [
        {
          "output_type": "execute_result",
          "data": {
            "application/vnd.google.colaboratory.intrinsic+json": {
              "type": "string"
            },
            "text/plain": [
              "'abc'"
            ]
          },
          "metadata": {},
          "execution_count": 31
        }
      ]
    },
    {
      "cell_type": "code",
      "source": [
        "#Type cast user defined input\n",
        "\n",
        "num1 = int(input(\"Enter any number:\"))"
      ],
      "metadata": {
        "colab": {
          "base_uri": "https://localhost:8080/"
        },
        "id": "Ni1U4shu91hb",
        "outputId": "7d882fab-513b-44df-893a-992915714176"
      },
      "execution_count": 25,
      "outputs": [
        {
          "name": "stdout",
          "output_type": "stream",
          "text": [
            "Enter any number:99\n"
          ]
        }
      ]
    },
    {
      "cell_type": "code",
      "source": [
        "num1"
      ],
      "metadata": {
        "colab": {
          "base_uri": "https://localhost:8080/"
        },
        "id": "Xme6vHN6-P0x",
        "outputId": "f2b4b893-3aae-4ae8-c6d9-ab394780e03f"
      },
      "execution_count": 26,
      "outputs": [
        {
          "output_type": "execute_result",
          "data": {
            "text/plain": [
              "99"
            ]
          },
          "metadata": {},
          "execution_count": 26
        }
      ]
    },
    {
      "cell_type": "code",
      "source": [
        "type(num1)"
      ],
      "metadata": {
        "colab": {
          "base_uri": "https://localhost:8080/"
        },
        "id": "gZR_wdvP-RZt",
        "outputId": "40087a2d-fdb0-417e-db7e-4ebcb196c7dd"
      },
      "execution_count": 27,
      "outputs": [
        {
          "output_type": "execute_result",
          "data": {
            "text/plain": [
              "int"
            ]
          },
          "metadata": {},
          "execution_count": 27
        }
      ]
    },
    {
      "cell_type": "code",
      "source": [
        "print(\"Hello 'Python'\")"
      ],
      "metadata": {
        "colab": {
          "base_uri": "https://localhost:8080/"
        },
        "id": "iiYGkCbv-SmK",
        "outputId": "61c26b24-c0b9-48e6-abcf-b272afabc1db"
      },
      "execution_count": 32,
      "outputs": [
        {
          "output_type": "stream",
          "name": "stdout",
          "text": [
            "Hello 'Python'\n"
          ]
        }
      ]
    },
    {
      "cell_type": "code",
      "source": [
        "print('Hello \"Python\"')"
      ],
      "metadata": {
        "colab": {
          "base_uri": "https://localhost:8080/"
        },
        "id": "dsR_75cHAT55",
        "outputId": "bccae372-0e07-4e09-b49d-cdfd6f624390"
      },
      "execution_count": 33,
      "outputs": [
        {
          "output_type": "stream",
          "name": "stdout",
          "text": [
            "Hello \"Python\"\n"
          ]
        }
      ]
    },
    {
      "cell_type": "code",
      "source": [
        "print(\"\\\"Hello\\\" 'Python'\") #\\\" for \"\" in the \"\" same applicable for ''"
      ],
      "metadata": {
        "colab": {
          "base_uri": "https://localhost:8080/"
        },
        "id": "Mzw7iTliAaNu",
        "outputId": "0b071c33-12c9-4103-8386-3dc7e0c4b497"
      },
      "execution_count": 37,
      "outputs": [
        {
          "output_type": "stream",
          "name": "stdout",
          "text": [
            "\"Hello\" 'Python'\n"
          ]
        }
      ]
    },
    {
      "cell_type": "code",
      "source": [
        "print('\\'Hello\\' \"World\" \\n Test') #\\n for new line"
      ],
      "metadata": {
        "colab": {
          "base_uri": "https://localhost:8080/"
        },
        "id": "XgFfS7ZgApUa",
        "outputId": "cc9daece-d3a0-4d97-c823-5de6e39e692c"
      },
      "execution_count": 41,
      "outputs": [
        {
          "output_type": "stream",
          "name": "stdout",
          "text": [
            "'Hello' \"World\" \n",
            " Test\n"
          ]
        }
      ]
    },
    {
      "cell_type": "code",
      "source": [
        "print(\"Hello \\t World\") #\\t for tab space"
      ],
      "metadata": {
        "colab": {
          "base_uri": "https://localhost:8080/"
        },
        "id": "Td7HJN5JBC1z",
        "outputId": "be07bee8-293a-403c-f224-8416fe5f757d"
      },
      "execution_count": 42,
      "outputs": [
        {
          "output_type": "stream",
          "name": "stdout",
          "text": [
            "Hello \t World\n"
          ]
        }
      ]
    },
    {
      "cell_type": "code",
      "source": [
        "#Task: Take your name as an input and print and customized message.\n"
      ],
      "metadata": {
        "id": "Bks3ZzOjBS0W"
      },
      "execution_count": null,
      "outputs": []
    },
    {
      "cell_type": "code",
      "source": [
        "name = input(\"Enter your name:\")\n",
        "msg = \"Hello, Good morning\"\n",
        "msg1 = \"Hello, Good evening\"\n",
        "print(msg1,name)"
      ],
      "metadata": {
        "colab": {
          "base_uri": "https://localhost:8080/"
        },
        "id": "J7JOO2WrDfoP",
        "outputId": "5cee83be-ca34-4243-d408-b0209584fcf4"
      },
      "execution_count": 44,
      "outputs": [
        {
          "output_type": "stream",
          "name": "stdout",
          "text": [
            "Enter your name:John\n",
            "Hello, Good evening John\n"
          ]
        }
      ]
    },
    {
      "cell_type": "code",
      "source": [
        "Myname=input('enter your name:')\n",
        "print(\"My name is \",Myname)\n"
      ],
      "metadata": {
        "colab": {
          "base_uri": "https://localhost:8080/"
        },
        "id": "4fixe55sDzpD",
        "outputId": "273a24de-df78-4cd4-cd08-84ecb27fb64f"
      },
      "execution_count": 47,
      "outputs": [
        {
          "output_type": "stream",
          "name": "stdout",
          "text": [
            "enter your name:abc\n",
            "My name is  abc\n"
          ]
        }
      ]
    },
    {
      "cell_type": "code",
      "source": [
        "name=input(\"bhavana\")\n",
        "msg=\"hello, good evening\"\n",
        "print(msg,name)\n"
      ],
      "metadata": {
        "colab": {
          "base_uri": "https://localhost:8080/"
        },
        "id": "htnDglkCEbez",
        "outputId": "b600afde-3ee7-4f47-92e0-4f195f45cdd8"
      },
      "execution_count": 48,
      "outputs": [
        {
          "output_type": "stream",
          "name": "stdout",
          "text": [
            "bhavanaBhavana\n",
            "hello, good evening Bhavana\n"
          ]
        }
      ]
    },
    {
      "cell_type": "code",
      "source": [
        ""
      ],
      "metadata": {
        "id": "7Y5db8mZKfyG"
      },
      "execution_count": null,
      "outputs": []
    }
  ]
}